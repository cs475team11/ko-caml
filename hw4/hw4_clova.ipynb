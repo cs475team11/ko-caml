{
 "cells": [
  {
   "cell_type": "code",
   "execution_count": 2,
   "metadata": {},
   "outputs": [],
   "source": [
    "# get openai api key from openai_config.json file\n",
    "import json\n",
    "with open('openai_config.json') as f:\n",
    "    config =json.load(f)\n",
    "    NCP_CLOVASTUDIO_API_KEY = config['NCP_CLOVASTUDIO_API_KEY']\n",
    "    NCP_APIGW_API_KEY = config['NCP_APIGW_API_KEY']\n",
    "    NCP_CLOVASTUDIO_APP_ID = config['NCP_CLOVASTUDIO_APP_ID']"
   ]
  },
  {
   "cell_type": "code",
   "execution_count": 3,
   "metadata": {},
   "outputs": [
    {
     "name": "stdout",
     "output_type": "stream",
     "text": [
      "env: NCP_CLOVASTUDIO_API_KEY=NTA0MjU2MWZlZTcxNDJiY2ns+hsihDXAOl/Qw9LFrJ6TPXSiWUtFwboMBVzZKgTJ\n",
      "env: NCP_APIGW_API_KEY=22GlkTNNdZ3XJ4RELCauPBknjMc8XAXhbIzT1qFJ\n",
      "env: NCP_CLOVASTUDIO_APP_ID=c7ddde1ea597417797d63a039eca05d7\n"
     ]
    }
   ],
   "source": [
    "%env NCP_CLOVASTUDIO_API_KEY = {NCP_CLOVASTUDIO_API_KEY}\n",
    "%env NCP_APIGW_API_KEY = {NCP_APIGW_API_KEY}\n",
    "%env NCP_CLOVASTUDIO_APP_ID = {NCP_CLOVASTUDIO_APP_ID}"
   ]
  },
  {
   "cell_type": "code",
   "execution_count": 4,
   "metadata": {},
   "outputs": [],
   "source": [
    "from langchain_community.chat_models import ChatClovaX\n",
    "chat = ChatClovaX(\n",
    "    model=\"HCX-003\",\n",
    "    max_tokens=1000,\n",
    "    temperature=0.5,)"
   ]
  },
  {
   "cell_type": "code",
   "execution_count": 5,
   "metadata": {},
   "outputs": [],
   "source": [
    "novel_prompt = \"\"\"너는 단문 소설을 쓰는 작가야. 주어진 단어를 포함하는 세 문단짜리 단문 소설을 작문해야 해.\n",
    "아래 단어를 모두 포함하도록 단문 소설을 써 줘.\n",
    "{keywords}\n",
    "제목 없이 소설 내용만 써 줘. 주어진 단어를 활용하는 자연스러운 전개로 써 줘.\n",
    "전지적 작가 시점으로 써 줘.\n",
    "인물의 대사 한 개 이상을 포함해.\n",
    "소설은 세 문단으로 이루어져야 해. 세 문단 이상 쓰지 마.\n",
    "\"\"\"\n",
    "science_prompt = \"\"\"너는 과학적 사실을 설명하는 글을 쓰는 과학 저널리스트야. 주어진 과학 질문에 대한 답변을 세 문단으로 작성해야 해.\n",
    "아래 과학 질문에 대한 답변을 써 줘.\n",
    "{question}\n",
    "제목이나 요약 없이 답변 내용만 써 줘. 질문과 관련없는 내용은 쓰지 마.\n",
    "-다, 와 같은 종결어미를 사용하는 해라체로 작성해.\n",
    "답변은 세 문단으로 이루어져야 해.\n",
    "\"\"\""
   ]
  },
  {
   "cell_type": "code",
   "execution_count": 7,
   "metadata": {},
   "outputs": [],
   "source": [
    "# import csv\n",
    "\n",
    "# results = []\n",
    "# with open('hw4_data/sample_novel.csv', 'r', newline='') as csvfile:\n",
    "#     reader = csv.reader(csvfile)\n",
    "#     for row in reader:\n",
    "#         keywords = row\n",
    "#         novel_messages = [\n",
    "#             (\n",
    "#                 \"system\",\n",
    "#                 \"당신은 유능한 AI 어시스턴트 입니다. 사용자의 질문에 대해 친절하게 답변해주세요.\",\n",
    "#             ),\n",
    "#             (\"human\", novel_prompt.format(keywords=row)),\n",
    "#         ]\n",
    "#         ai_msg = chat.invoke(novel_messages)\n",
    "#         results.append((keywords, ai_msg.content))"
   ]
  },
  {
   "cell_type": "code",
   "execution_count": null,
   "metadata": {},
   "outputs": [],
   "source": [
    "# with open('hw4_results/sample_novel_results.csv', 'w', newline='') as csvfile:\n",
    "#     writer = csv.writer(csvfile)\n",
    "#     for res in results:\n",
    "#         writer.writerow(res)"
   ]
  },
  {
   "cell_type": "code",
   "execution_count": 8,
   "metadata": {},
   "outputs": [],
   "source": [
    "import csv\n",
    "\n",
    "results = []\n",
    "with open('hw4_data/science_questions.csv', 'r', newline='') as csvfile:\n",
    "    reader = csv.reader(csvfile)\n",
    "    for row in reader:\n",
    "        keywords = row\n",
    "        novel_messages = [\n",
    "            (\n",
    "                \"system\",\n",
    "                \"당신은 유능한 AI 어시스턴트 입니다. 사용자의 질문에 대해 친절하게 답변해주세요.\",\n",
    "            ),\n",
    "            (\"human\", science_prompt.format(question=row)),\n",
    "        ]\n",
    "        ai_msg = chat.invoke(novel_messages)\n",
    "        results.append((keywords, ai_msg.content))"
   ]
  },
  {
   "cell_type": "code",
   "execution_count": 12,
   "metadata": {},
   "outputs": [
    {
     "data": {
      "text/plain": [
       "(['\\ufeff정제 탄수화물과 비정제 탄수화물은 사람의 소화 과정에 어떤 차이점을 보이는가?'],\n",
       " '정제 탄수화물과 비정제 탄수화물은 사람의 소화 과정에서 서로 다른 특징을 보인다.\\n\\n먼저, 정제 탄수화물은 인공적으로 가공되어 만들어진 탄수화물이다. 일반적으로 녹말, 설탕, 밀가루 등이 이에 해당한다. 정제 탄수화물은 소화 흡수가 빠르고 혈당을 빠르게 상승시키기 때문에, 인슐린 분비를 촉진하여 비만, 당뇨병 등의 질환을 유발할 수 있다. 또한, 체내에서 빠르게 분해되기 때문에 에너지 지속 시간이 짧다는 단점도 있다.\\n\\n반면, 비정제 탄수화물은 자연 상태 그대로의 탄수화물로서, 과일, 채소, 견과류, 통곡물 등이 이에 해당한다. 비정제 탄수화물은 소화 흡수가 천천히 일어나며, 혈당을 완만하게 상승시킨다. 이로 인해 인슐린 분비가 억제되어 비만, 당뇨병 등의 질환 예방에 도움이 된다. 또, 체내에서 느리게 분해되기 때문에 에너지 지속 시간이 길다는 장점도 있다.\\n\\n따라서, 건강을 위해서는 비정제 탄수화물을 섭취하는 것이 좋다. 하지만, 개인의 체질과 상황에 따라 적절한 양과 종류를 선택하는 것이 중요하다. 예를 들어, 당뇨병 환자나 다이어트 중인 사람은 과도한 비정제 탄수화물 섭취를 자제해야 한다.')"
      ]
     },
     "execution_count": 12,
     "metadata": {},
     "output_type": "execute_result"
    }
   ],
   "source": [
    "results[0]"
   ]
  },
  {
   "cell_type": "code",
   "execution_count": 11,
   "metadata": {},
   "outputs": [
    {
     "name": "stdout",
     "output_type": "stream",
     "text": [
      "File written successfully!\n"
     ]
    }
   ],
   "source": [
    "import pandas as pd\n",
    "\n",
    "\n",
    "# Convert the list into a DataFrame\n",
    "df = pd.DataFrame(results, columns=[\"question\", \"answer\"])  # You can rename \"Names\" to any column header\n",
    "\n",
    "# Write to CSV file\n",
    "df.to_csv(\"hw4_results/clova_science_results.csv\", index=False)\n",
    "\n",
    "print(\"File written successfully!\")\n"
   ]
  }
 ],
 "metadata": {
  "kernelspec": {
   "display_name": "kocaml",
   "language": "python",
   "name": "python3"
  },
  "language_info": {
   "codemirror_mode": {
    "name": "ipython",
    "version": 3
   },
   "file_extension": ".py",
   "mimetype": "text/x-python",
   "name": "python",
   "nbconvert_exporter": "python",
   "pygments_lexer": "ipython3",
   "version": "3.10.13"
  }
 },
 "nbformat": 4,
 "nbformat_minor": 2
}
