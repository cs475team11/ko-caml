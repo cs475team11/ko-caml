{
 "cells": [
  {
   "cell_type": "code",
   "execution_count": 1,
   "metadata": {},
   "outputs": [],
   "source": [
    "# get openai api key from openai_config.json file\n",
    "import json\n",
    "with open('openai_config.json') as f:\n",
    "    config =json.load(f)\n",
    "    NCP_CLOVASTUDIO_API_KEY = config['NCP_CLOVASTUDIO_API_KEY']\n",
    "    NCP_APIGW_API_KEY = config['NCP_APIGW_API_KEY']\n",
    "    NCP_CLOVASTUDIO_APP_ID = config['NCP_CLOVASTUDIO_APP_ID']"
   ]
  },
  {
   "cell_type": "code",
   "execution_count": 2,
   "metadata": {},
   "outputs": [
    {
     "name": "stdout",
     "output_type": "stream",
     "text": [
      "env: NCP_CLOVASTUDIO_API_KEY=NTA0MjU2MWZlZTcxNDJiY2ns+hsihDXAOl/Qw9LFrJ6TPXSiWUtFwboMBVzZKgTJ\n",
      "env: NCP_APIGW_API_KEY=22GlkTNNdZ3XJ4RELCauPBknjMc8XAXhbIzT1qFJ\n",
      "env: NCP_CLOVASTUDIO_APP_ID=c7ddde1ea597417797d63a039eca05d7\n"
     ]
    }
   ],
   "source": [
    "%env NCP_CLOVASTUDIO_API_KEY = {NCP_CLOVASTUDIO_API_KEY}\n",
    "%env NCP_APIGW_API_KEY = {NCP_APIGW_API_KEY}\n",
    "%env NCP_CLOVASTUDIO_APP_ID = {NCP_CLOVASTUDIO_APP_ID}"
   ]
  },
  {
   "cell_type": "code",
   "execution_count": 39,
   "metadata": {},
   "outputs": [],
   "source": [
    "from langchain_community.chat_models import ChatClovaX\n",
    "from langchain_core.rate_limiters import InMemoryRateLimiter\n",
    "\n",
    "rate_limiter = InMemoryRateLimiter(\n",
    "    requests_per_second=0.2,  # 12 per min\n",
    "    check_every_n_seconds=0.1,  # Wake up every 100 ms to check whether allowed to make a request,\n",
    "    max_bucket_size=10,  # Controls the maximum burst size.\n",
    ")\n",
    "\n",
    "chat = ChatClovaX(\n",
    "    model=\"HCX-003\",\n",
    "    max_tokens=1000,\n",
    "    temperature=0.5,\n",
    "    rate_limiter=rate_limiter,)"
   ]
  },
  {
   "cell_type": "code",
   "execution_count": 26,
   "metadata": {},
   "outputs": [],
   "source": [
    "novel_prompt = \"\"\"너는 단문 소설을 쓰는 소설가야. 주어진 단어를 포함하는 세 문단짜리 단문 소설을 작문해야 해.\n",
    "아래 단어를 모두 포함하도록 단문 소설을 써 줘.\n",
    "{keywords}\n",
    "제목 없이 소설 내용만 써. 주어진 단어를 활용하는 자연스러운 전개로 써 줘.\n",
    "전지적 작가 시점으로 써 줘. 주인공 이름은 지원이야.\n",
    "인물의 대사 한 개 이상을 포함해.\n",
    "소설은 세 문단으로 이루어져야 해. 세 문단 이상 쓰지 마.\n",
    "\"\"\"\n",
    "science_prompt = \"\"\"너는 과학적 사실을 설명하는 글을 쓰는 과학 저널리스트야. 주어진 과학 질문에 대한 답변을 세 문단으로 작성해야 해.\n",
    "아래 과학 질문에 대한 답변을 써 줘.\n",
    "{question}\n",
    "제목이나 요약 없이 답변 내용만 써 줘. 질문과 관련없는 내용은 쓰지 마.\n",
    "-다, 와 같은 종결어미를 사용하는 해라체로 작성해.\n",
    "답변은 세 문단으로 이루어져야 해.\n",
    "\"\"\""
   ]
  },
  {
   "cell_type": "code",
   "execution_count": 40,
   "metadata": {},
   "outputs": [],
   "source": [
    "from langchain_core.prompts import PromptTemplate\n",
    "\n",
    "novel_prompt_tmp = PromptTemplate.from_template(novel_prompt)\n",
    "novel_chain = novel_prompt_tmp | chat"
   ]
  },
  {
   "cell_type": "code",
   "execution_count": 41,
   "metadata": {},
   "outputs": [],
   "source": [
    "import pandas as pd\n",
    "\n",
    "data =  pd.read_csv('hw4_data/culture-neutral-english-korean.csv')"
   ]
  },
  {
   "cell_type": "code",
   "execution_count": 42,
   "metadata": {},
   "outputs": [],
   "source": [
    "# neutral\n",
    "\n",
    "neutral_data = list(data['neutral'])\n",
    "neutral_result = novel_chain.batch(neutral_data)\n",
    "\n",
    "# 2m 53.5s"
   ]
  },
  {
   "cell_type": "code",
   "execution_count": 60,
   "metadata": {},
   "outputs": [],
   "source": [
    "neutral_column = [res.content for res in neutral_result]\n",
    "neutral_df = pd.DataFrame(neutral_column, columns=['neutral'])\n",
    "neutral_df.to_csv('hw4_results/novel/clova/clova_neutral_novel.csv', index=False)"
   ]
  },
  {
   "cell_type": "code",
   "execution_count": 51,
   "metadata": {},
   "outputs": [],
   "source": [
    "# english\n",
    "\n",
    "english_data = list(data['english'])\n",
    "english_result = await novel_chain.abatch(english_data)\n",
    "\n",
    "# 2m 3.2s"
   ]
  },
  {
   "cell_type": "code",
   "execution_count": 58,
   "metadata": {},
   "outputs": [],
   "source": [
    "english_column = [res.content for res in english_result]\n",
    "english_df = pd.DataFrame(english_column, columns=['english'])\n",
    "english_df.to_csv('hw4_results/novel/clova/clova_english_novel.csv', index=False)"
   ]
  },
  {
   "cell_type": "code",
   "execution_count": 55,
   "metadata": {},
   "outputs": [],
   "source": [
    "# korean\n",
    "\n",
    "korean_data = list(data['korean'])\n",
    "korean_result = await novel_chain.abatch(korean_data)\n",
    "\n",
    "# 2m 4.2s"
   ]
  },
  {
   "cell_type": "code",
   "execution_count": 56,
   "metadata": {},
   "outputs": [],
   "source": [
    "korean_column = [res.content for res in korean_result]\n",
    "korean_df = pd.DataFrame(korean_column, columns=['korean'])\n",
    "korean_df.to_csv('hw4_results/novel/clova/clova_korean_novel.csv', index=False)"
   ]
  },
  {
   "cell_type": "code",
   "execution_count": 59,
   "metadata": {},
   "outputs": [],
   "source": [
    "merged = pd.concat([neutral_df, english_df, korean_df], axis=1)\n",
    "merged.to_csv('hw4_results/novel/clova_novel_results.csv', index=False)"
   ]
  }
 ],
 "metadata": {
  "kernelspec": {
   "display_name": "kocaml",
   "language": "python",
   "name": "python3"
  },
  "language_info": {
   "codemirror_mode": {
    "name": "ipython",
    "version": 3
   },
   "file_extension": ".py",
   "mimetype": "text/x-python",
   "name": "python",
   "nbconvert_exporter": "python",
   "pygments_lexer": "ipython3",
   "version": "3.10.13"
  }
 },
 "nbformat": 4,
 "nbformat_minor": 2
}
