{
 "cells": [
  {
   "cell_type": "code",
   "execution_count": 1,
   "metadata": {},
   "outputs": [],
   "source": [
    "# get openai api key from openai_config.json file\n",
    "import json\n",
    "with open('openai_config.json') as f:\n",
    "    config =json.load(f)\n",
    "    openai_api_key = config['openai_api_key']\n",
    "    NCP_CLOVASTUDIO_API_KEY = config['NCP_CLOVASTUDIO_API_KEY']\n",
    "    NCP_APIGW_API_KEY = config['NCP_APIGW_API_KEY']\n",
    "    NCP_CLOVASTUDIO_APP_ID = config['NCP_CLOVASTUDIO_APP_ID']"
   ]
  },
  {
   "cell_type": "code",
   "execution_count": null,
   "metadata": {},
   "outputs": [],
   "source": [
    "%env OPENAI_API_KEY = {openai_api_key}\n",
    "%env NCP_CLOVASTUDIO_API_KEY = {NCP_CLOVASTUDIO_API_KEY}\n",
    "%env NCP_APIGW_API_KEY = {NCP_APIGW_API_KEY}\n",
    "%env NCP_CLOVASTUDIO_APP_ID = {NCP_CLOVASTUDIO_APP_ID}"
   ]
  },
  {
   "cell_type": "code",
   "execution_count": 3,
   "metadata": {},
   "outputs": [],
   "source": [
    "from langchain_community.chat_models import ChatClovaX\n",
    "chat = ChatClovaX(\n",
    "    model=\"HCX-003\",\n",
    "    max_tokens=1000,\n",
    "    temperature=0.5,)"
   ]
  },
  {
   "cell_type": "code",
   "execution_count": 4,
   "metadata": {},
   "outputs": [],
   "source": [
    "novel_prompt = \"\"\"너는 단문 소설을 쓰는 작가야. 주어진 단어를 포함하는 세 문단짜리 단문 소설을 작문해야 해.\n",
    "아래 단어를 모두 포함하도록 단문 소설을 써 줘.\n",
    "{keywords}\n",
    "제목 없이 소설 내용만 써 줘. 주어진 단어를 활용하는 자연스러운 전개로 써 줘.\n",
    "전지적 작가 시점으로 써 줘.\n",
    "인물의 대사 한 개 이상을 포함해.\n",
    "소설은 세 문단으로 이루어져야 해. 세 문단 이상 쓰지 마.\n",
    "\"\"\"\n",
    "science_prompt = \"\"\"너는 과학적 사실을 설명하는 글을 쓰는 과학 저널리스트야. 주어진 과학 질문에 대한 답변을 세 문단으로 작성해야 해.\n",
    "아래 과학 질문에 대한 답변을 써 줘.\n",
    "{question}\n",
    "제목이나 요약 없이 답변 내용만 써 줘. 질문과 관련없는 내용은 쓰지 마.\n",
    "-다, 와 같은 종결어미를 사용하는 해라체로 작성해.\n",
    "답변은 세 문단으로 이루어져야 해.\n",
    "\"\"\""
   ]
  },
  {
   "cell_type": "code",
   "execution_count": 20,
   "metadata": {},
   "outputs": [],
   "source": [
    "import csv\n",
    "\n",
    "results = []\n",
    "with open('hw4_data/sample_novel.csv', 'r', newline='') as csvfile:\n",
    "    reader = csv.reader(csvfile)\n",
    "    for row in reader:\n",
    "        keywords = row\n",
    "        novel_messages = [\n",
    "            (\n",
    "                \"system\",\n",
    "                \"당신은 유능한 AI 어시스턴트 입니다. 사용자의 질문에 대해 친절하게 답변해주세요.\",\n",
    "            ),\n",
    "            (\"human\", novel_prompt.format(keywords=row)),\n",
    "        ]\n",
    "        ai_msg = chat.invoke(novel_messages)\n",
    "        results.append((keywords, ai_msg.content))"
   ]
  },
  {
   "cell_type": "code",
   "execution_count": 22,
   "metadata": {},
   "outputs": [],
   "source": [
    "with open('hw4_results/sample_novel_results.csv', 'w', newline='') as csvfile:\n",
    "    writer = csv.writer(csvfile)\n",
    "    for res in results:\n",
    "        writer.writerow(res)"
   ]
  },
  {
   "cell_type": "code",
   "execution_count": 6,
   "metadata": {},
   "outputs": [],
   "source": [
    "import csv\n",
    "\n",
    "results = []\n",
    "with open('hw4_data/sample_science.csv', 'r', newline='') as csvfile:\n",
    "    reader = csv.reader(csvfile)\n",
    "    for row in reader:\n",
    "        keywords = row\n",
    "        novel_messages = [\n",
    "            (\n",
    "                \"system\",\n",
    "                \"당신은 유능한 AI 어시스턴트 입니다. 사용자의 질문에 대해 친절하게 답변해주세요.\",\n",
    "            ),\n",
    "            (\"human\", science_prompt.format(question=row)),\n",
    "        ]\n",
    "        ai_msg = chat.invoke(novel_messages)\n",
    "        results.append((keywords, ai_msg.content))"
   ]
  },
  {
   "cell_type": "code",
   "execution_count": 7,
   "metadata": {},
   "outputs": [],
   "source": [
    "with open('hw4_results/clova_sample_science_results.csv', 'w', newline='') as csvfile:\n",
    "    writer = csv.writer(csvfile)\n",
    "    for res in results:\n",
    "        writer.writerow(res)"
   ]
  }
 ],
 "metadata": {
  "kernelspec": {
   "display_name": "kocaml",
   "language": "python",
   "name": "python3"
  },
  "language_info": {
   "codemirror_mode": {
    "name": "ipython",
    "version": 3
   },
   "file_extension": ".py",
   "mimetype": "text/x-python",
   "name": "python",
   "nbconvert_exporter": "python",
   "pygments_lexer": "ipython3",
   "version": "3.11.10"
  }
 },
 "nbformat": 4,
 "nbformat_minor": 2
}
