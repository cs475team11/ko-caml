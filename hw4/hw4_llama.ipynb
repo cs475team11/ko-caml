{
 "cells": [
  {
   "cell_type": "code",
   "execution_count": null,
   "metadata": {},
   "outputs": [],
   "source": [
    "import transformers\n",
    "import torch\n",
    "\n",
    "model_id = \"MLP-KTLim/llama-3-Korean-Bllossom-8B\"\n",
    "\n",
    "pipeline = transformers.pipeline(\n",
    "    \"text-generation\",\n",
    "    model=model_id,\n",
    "    model_kwargs={\"torch_dtype\": torch.bfloat16},\n",
    "    device_map=\"auto\",\n",
    "    max_length=1000\n",
    ")"
   ]
  },
  {
   "cell_type": "code",
   "execution_count": null,
   "metadata": {},
   "outputs": [],
   "source": [
    "terminators = [\n",
    "    pipeline.tokenizer.eos_token_id,\n",
    "    pipeline.tokenizer.convert_tokens_to_ids(\"<|eot_id|>\")\n",
    "]"
   ]
  },
  {
   "cell_type": "code",
   "execution_count": null,
   "metadata": {},
   "outputs": [],
   "source": [
    "novel_prompt = \"\"\"너는 단문 소설을 쓰는 작가야. 주어진 단어를 포함하는 세 문단짜리 단문 소설을 작문해야 해.\n",
    "아래 단어를 모두 포함하도록 단문 소설을 써 줘.\n",
    "{keywords}\n",
    "제목 없이 소설 내용만 써 줘. 주어진 단어를 활용하는 자연스러운 전개로 써 줘.\n",
    "전지적 작가 시점으로 써 줘.\n",
    "인물의 대사 한 개 이상을 포함해.\n",
    "소설은 세 문단으로 이루어져야 해. 세 문단 이상 쓰지 마.\n",
    "\"\"\"\n",
    "science_prompt = \"\"\"너는 과학적 사실을 설명하는 글을 쓰는 과학 저널리스트야. 주어진 과학 질문에 대한 답변을 세 문단으로 작성해야 해.\n",
    "아래 과학 질문에 대한 답변을 써 줘.\n",
    "{question}\n",
    "제목이나 요약 없이 답변 내용만 써 줘. 질문과 관련없는 내용은 쓰지 마.\n",
    "-다, 와 같은 종결어미를 사용하는 해라체로 작성해.\n",
    "답변은 세 문단으로 이루어져야 해.\n",
    "\"\"\""
   ]
  },
  {
   "cell_type": "code",
   "execution_count": null,
   "metadata": {},
   "outputs": [],
   "source": [
    "import csv\n",
    "\n",
    "results = []\n",
    "with open('hw4_data/sample_novel.csv', 'r', newline='') as csvfile:\n",
    "    reader = csv.reader(csvfile)\n",
    "    for row in reader:\n",
    "        instruction = novel_prompt.format(keywords=row)\n",
    "        messages = [\n",
    "            {\"role\": \"system\", \"content\": \"당신은 유능한 AI 어시스턴트 입니다. 사용자의 질문에 대해 친절하게 답변해주세요.\"},\n",
    "            {\"role\": \"user\", \"content\": f\"{instruction}\"}\n",
    "            ]\n",
    "\n",
    "        prompt = pipeline.tokenizer.apply_chat_template(\n",
    "                messages, \n",
    "                tokenize=False, \n",
    "                add_generation_prompt=True\n",
    "        )\n",
    "        outputs = pipeline(\n",
    "            prompt,\n",
    "            eos_token_id=terminators,\n",
    "            do_sample=True,\n",
    "            temperature=0.6,\n",
    "            top_p=0.9\n",
    "        )\n",
    "        results.append((row, outputs[0][\"generated_text\"][len(prompt):]))"
   ]
  },
  {
   "cell_type": "code",
   "execution_count": null,
   "metadata": {},
   "outputs": [],
   "source": [
    "with open('hw4_results/sample_novel_results.csv', 'w', newline='') as csvfile:\n",
    "    writer = csv.writer(csvfile)\n",
    "    for res in results:\n",
    "        writer.writerow(res)"
   ]
  },
  {
   "cell_type": "code",
   "execution_count": null,
   "metadata": {},
   "outputs": [],
   "source": [
    "results = []\n",
    "with open('hw4_data/sample_science.csv', 'r', newline='') as csvfile:\n",
    "    reader = csv.reader(csvfile)\n",
    "    for row in reader:\n",
    "        instruction = science_prompt.format(question=row)\n",
    "        messages = [\n",
    "            {\"role\": \"system\", \"content\": \"당신은 유능한 AI 어시스턴트 입니다. 사용자의 질문에 대해 친절하게 답변해주세요.\"},\n",
    "            {\"role\": \"user\", \"content\": f\"{instruction}\"}\n",
    "            ]\n",
    "\n",
    "        prompt = pipeline.tokenizer.apply_chat_template(\n",
    "                messages, \n",
    "                tokenize=False, \n",
    "                add_generation_prompt=True\n",
    "        )\n",
    "        outputs = pipeline(\n",
    "            prompt,\n",
    "            eos_token_id=terminators,\n",
    "            do_sample=True,\n",
    "            temperature=0.6,\n",
    "            top_p=0.9\n",
    "        )\n",
    "        results.append((row, outputs[0][\"generated_text\"][len(prompt):]))"
   ]
  },
  {
   "cell_type": "code",
   "execution_count": null,
   "metadata": {},
   "outputs": [],
   "source": [
    "with open('hw4_results/sample_science_results.csv', 'w', newline='') as csvfile:\n",
    "    writer = csv.writer(csvfile)\n",
    "    for res in results:\n",
    "        writer.writerow(res)"
   ]
  }
 ],
 "metadata": {
  "language_info": {
   "name": "python"
  }
 },
 "nbformat": 4,
 "nbformat_minor": 2
}
