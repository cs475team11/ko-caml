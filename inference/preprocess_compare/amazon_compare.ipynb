{
 "cells": [
  {
   "cell_type": "code",
   "execution_count": 1,
   "metadata": {},
   "outputs": [],
   "source": [
    "import pandas as pd\n",
    "import json\n",
    "\n",
    "# Load the CSV files\n",
    "file1 = \"../results/12072329_amazon_result_eng.csv\"\n",
    "file2 = \"../results/12072329_amazon_result_kor.csv\"\n",
    "\n",
    "# Read the CSV files into DataFrames\n",
    "df1 = pd.read_csv(file1)\n",
    "df2 = pd.read_csv(file2)\n",
    "\n",
    "# Concatenate the DataFrames horizontally (axis=1)\n",
    "df_combined = pd.concat([df1, df2], axis=1)\n",
    "df_combined[\"Match_2\"] = False\n",
    "df_combined[\"Match_4\"] = False\n",
    "df_combined[\"Match_6\"] = False\n",
    "df_combined[\"Eng Code\"] = \"000000\"\n",
    "df_combined[\"Kor Code\"] = \"000000\""
   ]
  },
  {
   "cell_type": "code",
   "execution_count": 2,
   "metadata": {},
   "outputs": [],
   "source": [
    "for i, row in df_combined.iterrows():\n",
    "    # Create a dictionary from the row\n",
    "    eng_code = json.loads(row[\"Answer\"].strip(\"```\").lstrip(\"json\").replace(\"\\n\", \"\").replace(\" \", \"\")).get(\"BestHSCode\", \"\").rjust(6, \"0\")\n",
    "    kor_code = json.loads(row[\"정답\"].strip(\"```\").lstrip(\"json\").replace(\"\\n\", \"\").replace(\" \", \"\")).get(\"가장_적합한_HS_코드\", \"\").rjust(6, \"0\")\n",
    "    df_combined.loc[i, \"Eng Code\"] = eng_code\n",
    "    df_combined.loc[i, \"Kor Code\"] = kor_code\n",
    "    df_combined.loc[i, \"Match_2\"] = eng_code[:2] == kor_code[:2]\n",
    "    df_combined.loc[i, \"Match_4\"] = eng_code[:4] == kor_code[:4]\n",
    "    df_combined.loc[i, \"Match_6\"] = eng_code == kor_code"
   ]
  },
  {
   "cell_type": "code",
   "execution_count": 4,
   "metadata": {},
   "outputs": [],
   "source": [
    "df_combined.drop(columns=[\"품목명\", \"정답\", \"CleanDescription\", \"Best3\", \"Answer\"]).to_csv(\"../results/12072329_amazon_result_combined.csv\", index=False)"
   ]
  }
 ],
 "metadata": {
  "kernelspec": {
   "display_name": "kocaml",
   "language": "python",
   "name": "python3"
  },
  "language_info": {
   "codemirror_mode": {
    "name": "ipython",
    "version": 3
   },
   "file_extension": ".py",
   "mimetype": "text/x-python",
   "name": "python",
   "nbconvert_exporter": "python",
   "pygments_lexer": "ipython3",
   "version": "3.11.10"
  }
 },
 "nbformat": 4,
 "nbformat_minor": 2
}
