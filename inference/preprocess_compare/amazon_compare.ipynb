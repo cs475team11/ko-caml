{
 "cells": [
  {
   "cell_type": "code",
   "execution_count": 26,
   "metadata": {},
   "outputs": [],
   "source": [
    "import pandas as pd\n",
    "import json\n",
    "\n",
    "# Prepare the result data\n",
    "\n",
    "# Helper function to parse the answer\n",
    "def parse_answer_kor(ans):\n",
    "    return json.loads(ans.strip(\"```\").lstrip(\"json\").replace(\"\\n\", \"\").replace(\" \", \"\")).get(\"가장_적합한_HS_코드\", \"\").rjust(6, \"0\")\n",
    "\n",
    "def parse_answer_eng(ans):\n",
    "    return json.loads(ans.strip(\"```\").lstrip(\"json\").replace(\"\\n\", \"\").replace(\" \", \"\")).get(\"BestHSCode\", \"\").rjust(6, \"0\")\n",
    "\n",
    "# Load the CSV files\n",
    "result_eng = \"../results/12072329_amazon_result_eng.csv\"\n",
    "result_kor = \"../results/12072329_amazon_result_kor.csv\"\n",
    "\n",
    "# Read the CSV files into DataFrames\n",
    "result_eng = pd.read_csv(result_eng)\n",
    "result_kor = pd.read_csv(result_kor)\n",
    "\n",
    "result_eng['Answer'] = result_eng['Answer'].apply(parse_answer_eng)\n",
    "result_kor['정답'] = result_kor['정답'].apply(parse_answer_kor)"
   ]
  },
  {
   "cell_type": "code",
   "execution_count": 34,
   "metadata": {},
   "outputs": [
    {
     "data": {
      "text/html": [
       "<div>\n",
       "<style scoped>\n",
       "    .dataframe tbody tr th:only-of-type {\n",
       "        vertical-align: middle;\n",
       "    }\n",
       "\n",
       "    .dataframe tbody tr th {\n",
       "        vertical-align: top;\n",
       "    }\n",
       "\n",
       "    .dataframe thead th {\n",
       "        text-align: right;\n",
       "    }\n",
       "</style>\n",
       "<table border=\"1\" class=\"dataframe\">\n",
       "  <thead>\n",
       "    <tr style=\"text-align: right;\">\n",
       "      <th></th>\n",
       "      <th>PRODUCT_NAME</th>\n",
       "      <th>Ground Truth</th>\n",
       "    </tr>\n",
       "  </thead>\n",
       "  <tbody>\n",
       "    <tr>\n",
       "      <th>0</th>\n",
       "      <td>Nutraj 100% Natural Dried Premium California W...</td>\n",
       "      <td>080232</td>\n",
       "    </tr>\n",
       "    <tr>\n",
       "      <th>1</th>\n",
       "      <td>Cadbury Bournvita 5 Star Magic Health Drink, 7...</td>\n",
       "      <td>220210</td>\n",
       "    </tr>\n",
       "    <tr>\n",
       "      <th>2</th>\n",
       "      <td>Sugar Free Green Natural Stevia Jar(200 g)</td>\n",
       "      <td>210690</td>\n",
       "    </tr>\n",
       "    <tr>\n",
       "      <th>3</th>\n",
       "      <td>Daawat Pulav, Long Grains, Fluffy Basmati for ...</td>\n",
       "      <td>100620</td>\n",
       "    </tr>\n",
       "    <tr>\n",
       "      <th>4</th>\n",
       "      <td>Tata Tea Gold | Assam teas with Gently Rolled ...</td>\n",
       "      <td>090230</td>\n",
       "    </tr>\n",
       "    <tr>\n",
       "      <th>5</th>\n",
       "      <td>Nescafe Classic Coffee Jar, 200 g with Free Re...</td>\n",
       "      <td>090122</td>\n",
       "    </tr>\n",
       "  </tbody>\n",
       "</table>\n",
       "</div>"
      ],
      "text/plain": [
       "                                        PRODUCT_NAME Ground Truth\n",
       "0  Nutraj 100% Natural Dried Premium California W...       080232\n",
       "1  Cadbury Bournvita 5 Star Magic Health Drink, 7...       220210\n",
       "2         Sugar Free Green Natural Stevia Jar(200 g)       210690\n",
       "3  Daawat Pulav, Long Grains, Fluffy Basmati for ...       100620\n",
       "4  Tata Tea Gold | Assam teas with Gently Rolled ...       090230\n",
       "5  Nescafe Classic Coffee Jar, 200 g with Free Re...       090122"
      ]
     },
     "execution_count": 34,
     "metadata": {},
     "output_type": "execute_result"
    }
   ],
   "source": [
    "ground_truth = pd.read_csv(\"amazon_gt.csv\")\n",
    "ground_truth['Ground Truth'] = ground_truth['Ground Truth'].apply(lambda x: str(x).rjust(6, \"0\"))\n",
    "ground_truth"
   ]
  },
  {
   "cell_type": "code",
   "execution_count": 27,
   "metadata": {},
   "outputs": [],
   "source": [
    "result_eng = result_eng.iloc[[0, 1, 2, 3, 4, 7]].reset_index(drop=True).drop(columns=[\"CleanDescription\", \"Best3\", \"ProductName\"])\n",
    "result_kor = result_kor.iloc[[0, 1, 2, 3, 4, 7]].reset_index(drop=True).drop(columns=[\"CleanDescription\", \"Best3\", \"품목명\"])"
   ]
  },
  {
   "cell_type": "code",
   "execution_count": 35,
   "metadata": {},
   "outputs": [],
   "source": [
    "merged_df = pd.concat([ground_truth, result_eng, result_kor], axis=1)"
   ]
  },
  {
   "cell_type": "code",
   "execution_count": 37,
   "metadata": {},
   "outputs": [],
   "source": [
    "for i, row in merged_df.iterrows():\n",
    "    # Create a dictionary from the row\n",
    "    gt = merged_df.loc[i, \"Ground Truth\"]\n",
    "    eng = merged_df.loc[i, \"Answer\"]\n",
    "    kor = merged_df.loc[i, \"정답\"]\n",
    "    merged_df.loc[i, \"eng_Match_2\"] = eng[:2] == gt[:2]\n",
    "    merged_df.loc[i, \"eng_Match_4\"] = eng[:4] == gt[:4]\n",
    "    merged_df.loc[i, \"eng_Match_6\"] = eng == gt\n",
    "    merged_df.loc[i, \"kor_Match_2\"] = kor[:2] == gt[:2]\n",
    "    merged_df.loc[i, \"kor_Match_4\"] = kor[:4] == gt[:4]\n",
    "    merged_df.loc[i, \"kor_Match_6\"] = kor == gt"
   ]
  },
  {
   "cell_type": "code",
   "execution_count": 40,
   "metadata": {},
   "outputs": [],
   "source": [
    "merged_df.to_csv(\"amazon_merged.csv\", index=False)"
   ]
  },
  {
   "cell_type": "code",
   "execution_count": 41,
   "metadata": {},
   "outputs": [
    {
     "name": "stdout",
     "output_type": "stream",
     "text": [
      "Amaznon eng vs. gt\n",
      "eng_Match_2 True 비율: 0.50\n",
      "eng_Match_4 True 비율: 0.50\n",
      "eng_Match_6 True 비율: 0.33\n",
      "Amaznon kor vs. gt\n",
      "kor_Match_2 True 비율: 0.83\n",
      "kor_Match_4 True 비율: 0.67\n",
      "kor_Match_6 True 비율: 0.33\n",
      "Eng 전체 True 비율: 0.44\n",
      "Kor 전체 True 비율: 0.61\n"
     ]
    }
   ],
   "source": [
    "# 각 매치별 True 비율 계산\n",
    "print(\"Amaznon eng vs. gt\")\n",
    "for match_type in [\"eng_Match_2\", \"eng_Match_4\", \"eng_Match_6\"]:\n",
    "    true_ratio = merged_df[match_type].mean()\n",
    "    print(f\"{match_type} True 비율: {true_ratio:.2f}\")\n",
    "\n",
    "print(\"Amaznon kor vs. gt\")\n",
    "for match_type in [\"kor_Match_2\", \"kor_Match_4\", \"kor_Match_6\"]:\n",
    "    true_ratio = merged_df[match_type].mean()\n",
    "    print(f\"{match_type} True 비율: {true_ratio:.2f}\")\n",
    "\n",
    "# eng 전체 True 비율 계산\n",
    "eng_total_true_ratio = merged_df[[\"eng_Match_2\", \"eng_Match_4\", \"eng_Match_6\"]].values.sum() / (3 * len(merged_df))\n",
    "print(f\"Eng 전체 True 비율: {eng_total_true_ratio:.2f}\")\n",
    "\n",
    "# kor 전체 True 비율 계산\n",
    "kor_total_true_ratio = merged_df[[\"kor_Match_2\", \"kor_Match_4\", \"kor_Match_6\"]].values.sum() / (3 * len(merged_df))\n",
    "print(f\"Kor 전체 True 비율: {kor_total_true_ratio:.2f}\")"
   ]
  }
 ],
 "metadata": {
  "kernelspec": {
   "display_name": "kocaml",
   "language": "python",
   "name": "python3"
  },
  "language_info": {
   "codemirror_mode": {
    "name": "ipython",
    "version": 3
   },
   "file_extension": ".py",
   "mimetype": "text/x-python",
   "name": "python",
   "nbconvert_exporter": "python",
   "pygments_lexer": "ipython3",
   "version": "3.11.10"
  }
 },
 "nbformat": 4,
 "nbformat_minor": 2
}
