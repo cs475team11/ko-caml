{
 "cells": [
  {
   "cell_type": "code",
   "execution_count": 24,
   "metadata": {},
   "outputs": [
    {
     "data": {
      "text/html": [
       "<div>\n",
       "<style scoped>\n",
       "    .dataframe tbody tr th:only-of-type {\n",
       "        vertical-align: middle;\n",
       "    }\n",
       "\n",
       "    .dataframe tbody tr th {\n",
       "        vertical-align: top;\n",
       "    }\n",
       "\n",
       "    .dataframe thead th {\n",
       "        text-align: right;\n",
       "    }\n",
       "</style>\n",
       "<table border=\"1\" class=\"dataframe\">\n",
       "  <thead>\n",
       "    <tr style=\"text-align: right;\">\n",
       "      <th></th>\n",
       "      <th>ProductName</th>\n",
       "      <th>Result</th>\n",
       "    </tr>\n",
       "  </thead>\n",
       "  <tbody>\n",
       "    <tr>\n",
       "      <th>0</th>\n",
       "      <td>품목명: 오뚜기 흰밥, 210g, 24개</td>\n",
       "      <td>100640</td>\n",
       "    </tr>\n",
       "    <tr>\n",
       "      <th>1</th>\n",
       "      <td>품목명: 신라면 120g, 30개</td>\n",
       "      <td>190230</td>\n",
       "    </tr>\n",
       "    <tr>\n",
       "      <th>2</th>\n",
       "      <td>품목명: 스팸 25% 라이트, 9개</td>\n",
       "      <td>150420</td>\n",
       "    </tr>\n",
       "  </tbody>\n",
       "</table>\n",
       "</div>"
      ],
      "text/plain": [
       "              ProductName  Result\n",
       "0  품목명: 오뚜기 흰밥, 210g, 24개  100640\n",
       "1      품목명: 신라면 120g, 30개  190230\n",
       "2     품목명: 스팸 25% 라이트, 9개  150420"
      ]
     },
     "execution_count": 24,
     "metadata": {},
     "output_type": "execute_result"
    }
   ],
   "source": [
    "import pandas as pd\n",
    "import json\n",
    "\n",
    "# Prepare the result data\n",
    "\n",
    "# Helper function to parse the answer\n",
    "def parse_answer(ans):\n",
    "    return json.loads(ans.strip(\"```\").lstrip(\"json\").replace(\"\\n\", \"\").replace(\" \", \"\")).get(\"가장_적합한_HS_코드\", \"\").rjust(6, \"0\")\n",
    "\n",
    "# Load CSV\n",
    "result = pd.read_csv('../results/coupang_result_v3_kor_20241208_182113.csv')\n",
    "\n",
    "# Parse the answer\n",
    "result['Result'] = result['Answer'].apply(parse_answer)\n",
    "\n",
    "result = result.drop(columns = ['CleanDescription', 'Best3', 'Answer'])\n",
    "\n",
    "result[:3]"
   ]
  },
  {
   "cell_type": "code",
   "execution_count": 43,
   "metadata": {},
   "outputs": [
    {
     "data": {
      "text/plain": [
       "{'가장_적합한_HS_코드': '190230',\n",
       " '가장_적합한_HS_항목명': 'Pasta,cookedorotherwiseprepared',\n",
       " '판단_근거': \"비비고왕교자는기본적으로물과밀가루로만든교자피와속재료(고기,야채등)로이루어져있으며,냉동상태로제공되는제품이다.이러한특성은HS코드1902.30인'Pasta,cookedorotherwiseprepared'에가장잘맞는다.이코드는요리되거나다른방식으로준비된파스타를포함하고있으며,이는냉동교자가요리전또는요리후냉동처리되는것을포함한다.따라서이제품에는이HS코드가가장적합하다.\",\n",
       " '상품_이름': '품목명: 비비고 왕교자 (냉동), 1.05kg, 2개',\n",
       " 'index': 10}"
      ]
     },
     "execution_count": 43,
     "metadata": {},
     "output_type": "execute_result"
    }
   ],
   "source": [
    "import ast\n",
    "file_path = 'whole_ground_truth.txt'\n",
    "\n",
    "with open(file_path, 'r') as file:\n",
    "    file_content = file.read()\n",
    "\n",
    "ground_truth = ast.literal_eval(file_content)\n",
    "ground_truth[10]"
   ]
  },
  {
   "cell_type": "code",
   "execution_count": 16,
   "metadata": {},
   "outputs": [
    {
     "data": {
      "text/html": [
       "<div>\n",
       "<style scoped>\n",
       "    .dataframe tbody tr th:only-of-type {\n",
       "        vertical-align: middle;\n",
       "    }\n",
       "\n",
       "    .dataframe tbody tr th {\n",
       "        vertical-align: top;\n",
       "    }\n",
       "\n",
       "    .dataframe thead th {\n",
       "        text-align: right;\n",
       "    }\n",
       "</style>\n",
       "<table border=\"1\" class=\"dataframe\">\n",
       "  <thead>\n",
       "    <tr style=\"text-align: right;\">\n",
       "      <th></th>\n",
       "      <th>가장_적합한_HS_코드</th>\n",
       "      <th>상품_이름</th>\n",
       "      <th>index</th>\n",
       "    </tr>\n",
       "  </thead>\n",
       "  <tbody>\n",
       "    <tr>\n",
       "      <th>0</th>\n",
       "      <td>190410</td>\n",
       "      <td>품목명: 오뚜기 흰밥, 210g, 24개</td>\n",
       "      <td>0</td>\n",
       "    </tr>\n",
       "    <tr>\n",
       "      <th>1</th>\n",
       "      <td>190230</td>\n",
       "      <td>품목명: 신라면 120g, 30개</td>\n",
       "      <td>1</td>\n",
       "    </tr>\n",
       "    <tr>\n",
       "      <th>2</th>\n",
       "      <td>160241</td>\n",
       "      <td>품목명: 스팸 25% 라이트, 9개</td>\n",
       "      <td>2</td>\n",
       "    </tr>\n",
       "  </tbody>\n",
       "</table>\n",
       "</div>"
      ],
      "text/plain": [
       "  가장_적합한_HS_코드                   상품_이름  index\n",
       "0       190410  품목명: 오뚜기 흰밥, 210g, 24개      0\n",
       "1       190230      품목명: 신라면 120g, 30개      1\n",
       "2       160241     품목명: 스팸 25% 라이트, 9개      2"
      ]
     },
     "execution_count": 16,
     "metadata": {},
     "output_type": "execute_result"
    }
   ],
   "source": [
    "gt_df = pd.DataFrame(ground_truth).drop(columns = ['가장_적합한_HS_항목명', '판단_근거'])\n",
    "gt_df[:3]"
   ]
  },
  {
   "cell_type": "code",
   "execution_count": 21,
   "metadata": {},
   "outputs": [],
   "source": [
    "gt_df = gt_df.sort_values(by='index').drop(columns = ['index'])"
   ]
  },
  {
   "cell_type": "code",
   "execution_count": 29,
   "metadata": {},
   "outputs": [],
   "source": [
    "# Prepare the ground truth data\n",
    "\n",
    "gt_df['가장_적합한_HS_코드'] = gt_df['가장_적합한_HS_코드'].apply(lambda x: str(x).rjust(6, \"0\"))\n",
    "gt_df = gt_df.drop(columns = ['상품_이름'])"
   ]
  },
  {
   "cell_type": "code",
   "execution_count": null,
   "metadata": {},
   "outputs": [
    {
     "name": "stdout",
     "output_type": "stream",
     "text": [
      "<class 'pandas.core.frame.DataFrame'>\n"
     ]
    }
   ],
   "source": [
    "result = result[:860]\n",
    "print(type(result))\n",
    "print(type(gt_df))"
   ]
  },
  {
   "cell_type": "code",
   "execution_count": 32,
   "metadata": {},
   "outputs": [
    {
     "data": {
      "text/html": [
       "<div>\n",
       "<style scoped>\n",
       "    .dataframe tbody tr th:only-of-type {\n",
       "        vertical-align: middle;\n",
       "    }\n",
       "\n",
       "    .dataframe tbody tr th {\n",
       "        vertical-align: top;\n",
       "    }\n",
       "\n",
       "    .dataframe thead th {\n",
       "        text-align: right;\n",
       "    }\n",
       "</style>\n",
       "<table border=\"1\" class=\"dataframe\">\n",
       "  <thead>\n",
       "    <tr style=\"text-align: right;\">\n",
       "      <th></th>\n",
       "      <th>ProductName</th>\n",
       "      <th>Result</th>\n",
       "      <th>가장_적합한_HS_코드</th>\n",
       "    </tr>\n",
       "  </thead>\n",
       "  <tbody>\n",
       "    <tr>\n",
       "      <th>0</th>\n",
       "      <td>품목명: 오뚜기 흰밥, 210g, 24개</td>\n",
       "      <td>100640</td>\n",
       "      <td>190410</td>\n",
       "    </tr>\n",
       "    <tr>\n",
       "      <th>1</th>\n",
       "      <td>품목명: 신라면 120g, 30개</td>\n",
       "      <td>190230</td>\n",
       "      <td>190230</td>\n",
       "    </tr>\n",
       "    <tr>\n",
       "      <th>2</th>\n",
       "      <td>품목명: 스팸 25% 라이트, 9개</td>\n",
       "      <td>150420</td>\n",
       "      <td>160241</td>\n",
       "    </tr>\n",
       "    <tr>\n",
       "      <th>3</th>\n",
       "      <td>품목명: 동원 라이트 스탠다드 참치, 85g, 8개</td>\n",
       "      <td>160419</td>\n",
       "      <td>160414</td>\n",
       "    </tr>\n",
       "    <tr>\n",
       "      <th>4</th>\n",
       "      <td>품목명: 동원 고추 참치, 85g, 8개</td>\n",
       "      <td>160419</td>\n",
       "      <td>160414</td>\n",
       "    </tr>\n",
       "    <tr>\n",
       "      <th>...</th>\n",
       "      <td>...</td>\n",
       "      <td>...</td>\n",
       "      <td>...</td>\n",
       "    </tr>\n",
       "    <tr>\n",
       "      <th>855</th>\n",
       "      <td>품목명: 밥스레드밀 오가닉 통밀가루, 2.27kg, 1개</td>\n",
       "      <td>110630</td>\n",
       "      <td>110290</td>\n",
       "    </tr>\n",
       "    <tr>\n",
       "      <th>856</th>\n",
       "      <td>품목명: 데체코 올리오 엑스트라 버진 디 올리바, 1L, 1개</td>\n",
       "      <td>150920</td>\n",
       "      <td>001509</td>\n",
       "    </tr>\n",
       "    <tr>\n",
       "      <th>857</th>\n",
       "      <td>품목명: 오뚜기 핫케이크 믹스, 1kg, 2개</td>\n",
       "      <td>190590</td>\n",
       "      <td>190120</td>\n",
       "    </tr>\n",
       "    <tr>\n",
       "      <th>858</th>\n",
       "      <td>품목명: 바삭하고 고소한 튀김가루 1KG, 1개</td>\n",
       "      <td>110630</td>\n",
       "      <td>190120</td>\n",
       "    </tr>\n",
       "    <tr>\n",
       "      <th>859</th>\n",
       "      <td>품목명: 퀘이커 마시는 오트밀 오트&amp;그레인, 50g, 50ml, 20개</td>\n",
       "      <td>210690</td>\n",
       "      <td>190490</td>\n",
       "    </tr>\n",
       "  </tbody>\n",
       "</table>\n",
       "<p>860 rows × 3 columns</p>\n",
       "</div>"
      ],
      "text/plain": [
       "                                 ProductName  Result 가장_적합한_HS_코드\n",
       "0                     품목명: 오뚜기 흰밥, 210g, 24개  100640       190410\n",
       "1                         품목명: 신라면 120g, 30개  190230       190230\n",
       "2                        품목명: 스팸 25% 라이트, 9개  150420       160241\n",
       "3               품목명: 동원 라이트 스탠다드 참치, 85g, 8개  160419       160414\n",
       "4                     품목명: 동원 고추 참치, 85g, 8개  160419       160414\n",
       "..                                       ...     ...          ...\n",
       "855          품목명: 밥스레드밀 오가닉 통밀가루, 2.27kg, 1개  110630       110290\n",
       "856       품목명: 데체코 올리오 엑스트라 버진 디 올리바, 1L, 1개  150920       001509\n",
       "857                품목명: 오뚜기 핫케이크 믹스, 1kg, 2개  190590       190120\n",
       "858               품목명: 바삭하고 고소한 튀김가루 1KG, 1개  110630       190120\n",
       "859  품목명: 퀘이커 마시는 오트밀 오트&그레인, 50g, 50ml, 20개  210690       190490\n",
       "\n",
       "[860 rows x 3 columns]"
      ]
     },
     "execution_count": 32,
     "metadata": {},
     "output_type": "execute_result"
    }
   ],
   "source": [
    "merged_df = pd.concat([result, gt_df], axis=1)\n",
    "merged_df"
   ]
  },
  {
   "cell_type": "code",
   "execution_count": 33,
   "metadata": {},
   "outputs": [],
   "source": [
    "for i, row in merged_df.iterrows():\n",
    "    # Create a dictionary from the row\n",
    "    result = merged_df.loc[i, \"Result\"]\n",
    "    gt = merged_df.loc[i, \"가장_적합한_HS_코드\"]\n",
    "    merged_df.loc[i, \"Match_2\"] = result[:2] == gt[:2]\n",
    "    merged_df.loc[i, \"Match_4\"] = result[:4] == gt[:4]\n",
    "    merged_df.loc[i, \"Match_6\"] = result == gt"
   ]
  },
  {
   "cell_type": "code",
   "execution_count": 35,
   "metadata": {},
   "outputs": [],
   "source": [
    "merged_df.to_csv('coupang_whole_comparison.csv', index=False)"
   ]
  },
  {
   "cell_type": "code",
   "execution_count": 36,
   "metadata": {},
   "outputs": [
    {
     "name": "stdout",
     "output_type": "stream",
     "text": [
      "Match_2 True 비율: 0.47\n",
      "Match_4 True 비율: 0.37\n",
      "Match_6 True 비율: 0.21\n",
      "전체 True 비율: 0.35\n"
     ]
    }
   ],
   "source": [
    "# 각 매치별 True 비율 계산\n",
    "for match_type in [\"Match_2\", \"Match_4\", \"Match_6\"]:\n",
    "    true_ratio = merged_df[match_type].mean()\n",
    "    print(f\"{match_type} True 비율: {true_ratio:.2f}\")\n",
    "\n",
    "# 전체 True 비율 계산\n",
    "total_true_ratio = merged_df[[\"Match_2\", \"Match_4\", \"Match_6\"]].values.sum() / (3 * len(merged_df))\n",
    "print(f\"전체 True 비율: {total_true_ratio:.2f}\")"
   ]
  },
  {
   "cell_type": "code",
   "execution_count": 4,
   "metadata": {},
   "outputs": [],
   "source": [
    "import pandas as pd\n",
    "sample = pd.read_csv('../../guidance_for_environmental_impact_factor_mapping_on_aws/assets/input/coupang_product_names_groceries_v3_kor.csv')\n",
    "sample = sample.sample(20)"
   ]
  },
  {
   "cell_type": "code",
   "execution_count": 6,
   "metadata": {},
   "outputs": [],
   "source": [
    "sample.to_csv('sample.csv', index=False)"
   ]
  }
 ],
 "metadata": {
  "kernelspec": {
   "display_name": "kocaml",
   "language": "python",
   "name": "python3"
  },
  "language_info": {
   "codemirror_mode": {
    "name": "ipython",
    "version": 3
   },
   "file_extension": ".py",
   "mimetype": "text/x-python",
   "name": "python",
   "nbconvert_exporter": "python",
   "pygments_lexer": "ipython3",
   "version": "3.11.10"
  }
 },
 "nbformat": 4,
 "nbformat_minor": 2
}
