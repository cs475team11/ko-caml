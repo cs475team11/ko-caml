{
 "cells": [
  {
   "cell_type": "code",
   "execution_count": null,
   "metadata": {},
   "outputs": [],
   "source": [
    "# %env LANGCHAIN_TRACING_V2=\"true\"\n",
    "# %env LANGCHAIN_API_KEY=YOUR_API_KEY"
   ]
  },
  {
   "cell_type": "code",
   "execution_count": 1,
   "metadata": {},
   "outputs": [],
   "source": [
    "# get openai api key from openai_config.json file\n",
    "import json\n",
    "with open('openai_config.json') as f:\n",
    "    openai_api_key = json.load(f)['openai_api_key']"
   ]
  },
  {
   "cell_type": "code",
   "execution_count": 1,
   "metadata": {},
   "outputs": [],
   "source": [
    "%%capture\n",
    "\n",
    "%env OPENAI_API_KEY = {openai_api_key}"
   ]
  },
  {
   "cell_type": "code",
   "execution_count": 3,
   "metadata": {},
   "outputs": [],
   "source": [
    "from langchain_openai import ChatOpenAI\n",
    "\n",
    "llm = ChatOpenAI(model=\"gpt-4o-mini\")"
   ]
  },
  {
   "cell_type": "code",
   "execution_count": 4,
   "metadata": {},
   "outputs": [
    {
     "data": {
      "text/plain": [
       "AIMessage(content='Hello! How can I assist you today?', additional_kwargs={'refusal': None}, response_metadata={'token_usage': {'completion_tokens': 9, 'prompt_tokens': 11, 'total_tokens': 20, 'completion_tokens_details': {'accepted_prediction_tokens': 0, 'audio_tokens': 0, 'reasoning_tokens': 0, 'rejected_prediction_tokens': 0}, 'prompt_tokens_details': {'audio_tokens': 0, 'cached_tokens': 0}}, 'model_name': 'gpt-4o-mini-2024-07-18', 'system_fingerprint': 'fp_bba3c8e70b', 'finish_reason': 'stop', 'logprobs': None}, id='run-f2f1c067-075c-4a6e-9f0a-06ab5f7d06bd-0', usage_metadata={'input_tokens': 11, 'output_tokens': 9, 'total_tokens': 20, 'input_token_details': {'audio': 0, 'cache_read': 0}, 'output_token_details': {'audio': 0, 'reasoning': 0}})"
      ]
     },
     "execution_count": 4,
     "metadata": {},
     "output_type": "execute_result"
    }
   ],
   "source": [
    "# Check if the API KEY is set\n",
    "llm.invoke(\"Hello, world!\")"
   ]
  },
  {
   "cell_type": "code",
   "execution_count": 73,
   "metadata": {},
   "outputs": [],
   "source": [
    "from langchain_huggingface import HuggingFaceEmbeddings\n",
    "from langchain_openai import OpenAIEmbeddings\n",
    "\n",
    "# For English: HuggingFace Embedding\n",
    "embeddings_eng = HuggingFaceEmbeddings(model_name=\"sentence-transformers/all-mpnet-base-v2\")\n",
    "\n",
    "# For Korean: OpenAI Embedding\n",
    "# embeddings_kor = OpenAIEmbeddings(model=\"text-embedding-3-small\")\n",
    "embeddings_kor = OpenAIEmbeddings(model=\"text-embedding-3-large\")"
   ]
  },
  {
   "cell_type": "code",
   "execution_count": 36,
   "metadata": {},
   "outputs": [],
   "source": [
    "from langchain_community.vectorstores import FAISS\n",
    "from langchain.document_loaders import CSVLoader\n",
    "\n",
    "# Loader for the NAICS dataset\n",
    "loader_eng = CSVLoader(r\"..\\guidance_for_environmental_impact_factor_mapping_on_aws\\assets\\datasets\\Filtered_HSCodeandDescription_eng.csv\")\n",
    "loader_kor = CSVLoader(r\"..\\guidance_for_environmental_impact_factor_mapping_on_aws\\assets\\datasets\\Filtered_HSCodeandDescription_kor.csv\")"
   ]
  },
  {
   "cell_type": "code",
   "execution_count": 37,
   "metadata": {},
   "outputs": [],
   "source": [
    "documents_eng = loader_eng.load()\n",
    "documents_kor = loader_kor.load()"
   ]
  },
  {
   "cell_type": "code",
   "execution_count": 46,
   "metadata": {},
   "outputs": [
    {
     "data": {
      "text/plain": [
       "'코드: 010121\\n설명: 말; 살아있는 순종 번식 동물'"
      ]
     },
     "execution_count": 46,
     "metadata": {},
     "output_type": "execute_result"
    }
   ],
   "source": [
    "# Check if the documents are loaded\n",
    "documents_kor[0].page_content"
   ]
  },
  {
   "cell_type": "code",
   "execution_count": 44,
   "metadata": {},
   "outputs": [],
   "source": [
    "# # 첫 번째 실행에서만!!!\n",
    "from langchain_community.vectorstores import FAISS\n",
    "\n",
    "# Make FAISS vectorstore\n",
    "vector_store_eng = FAISS.from_documents(documents_eng, embeddings_eng)\n",
    "\n",
    "# save db to local\n",
    "vector_store_eng.save_local('./db/faiss_eng')"
   ]
  },
  {
   "cell_type": "code",
   "execution_count": 74,
   "metadata": {},
   "outputs": [],
   "source": [
    "# Make FAISS vectorstore- kor\n",
    "vector_store_kor = FAISS.from_documents(documents_kor, embeddings_kor)\n",
    "\n",
    "# save db to local\n",
    "vector_store_kor.save_local('./db/faiss_kor')"
   ]
  },
  {
   "cell_type": "code",
   "execution_count": 75,
   "metadata": {},
   "outputs": [],
   "source": [
    "# Load the DB from local\n",
    "# 두 번째 실행부터는 위 셀 실행하지 않고 이 셀만 실행\n",
    "from langchain_community.vectorstores import FAISS\n",
    "\n",
    "vector_store_eng = FAISS.load_local(\n",
    "    folder_path=\"./db/faiss_eng\",\n",
    "    index_name=\"index\",\n",
    "    embeddings=embeddings_eng,\n",
    "    allow_dangerous_deserialization=True,\n",
    ")\n",
    "\n",
    "vector_store_kor = FAISS.load_local(\n",
    "    folder_path=\"./db/faiss_kor\",\n",
    "    index_name=\"index\",\n",
    "    embeddings=embeddings_kor,\n",
    "    allow_dangerous_deserialization=True,\n",
    ")"
   ]
  },
  {
   "cell_type": "code",
   "execution_count": 79,
   "metadata": {},
   "outputs": [],
   "source": [
    "%%capture --no-stderr\n",
    "%pip install langgraph"
   ]
  },
  {
   "cell_type": "code",
   "execution_count": 48,
   "metadata": {},
   "outputs": [],
   "source": [
    "from langchain_core.documents import Document\n",
    "from typing_extensions import List, TypedDict\n",
    "\n",
    "\n",
    "class State(TypedDict):\n",
    "    activity: str\n",
    "    clean_desc: str\n",
    "    best3: List[Document]\n",
    "    answer: str\n",
    "    # prompt1: str\n",
    "    # cleandesc: str\n",
    "    # prompt2: str\n",
    "    # prompt3: str"
   ]
  },
  {
   "cell_type": "code",
   "execution_count": null,
   "metadata": {},
   "outputs": [
    {
     "name": "stderr",
     "output_type": "stream",
     "text": [
      "c:\\Users\\jane0\\anaconda3\\envs\\kocaml\\Lib\\site-packages\\langsmith\\client.py:241: LangSmithMissingAPIKeyWarning: API key must be provided when using hosted LangSmith API\n",
      "  warnings.warn(\n"
     ]
    }
   ],
   "source": [
    "# from langchain import hub\n",
    "\n",
    "# prompt = hub.pull(\"rlm/rag-prompt\")"
   ]
  },
  {
   "cell_type": "code",
   "execution_count": 50,
   "metadata": {},
   "outputs": [],
   "source": [
    "from langchain_core.prompts import PromptTemplate\n",
    "\n",
    "# Prompt to choose the best emission factor from the options\n",
    "best_eif_prompt_ENG = \"\"\"You are a Lifecycle Analysis expert matching grocery products to their Harmonized System (HS) Codes.\n",
    "\n",
    "I want to do of LCA of grocery products based on Environmentally Extended Input Output (EEIO) Environmental Impact Factors (EIF). I am interested in the environmental impact associated with the materials and manufacturing phase of the product. I am given a grocery product and three possible corresponding HS codes and descriptions. \n",
    "\n",
    "I want to pick the HS code and description that best match the given product. Include justification for your choice.\n",
    "Format the output in JSON with the keys BestHSCode, BestHSDescription, Justification.\n",
    "\n",
    "Product:\n",
    "{clean_desc}\n",
    "\n",
    "Possible HS codes and titles:\n",
    "{best3}\n",
    "\n",
    "Which of these HS Codes is the best match for the provided product? \n",
    "\n",
    "Make the most of the given information. DO NOT say that information is limited or ask for more information.\n",
    "YOU MUST choose a best code and title. YOU MUST include a justification for your choice.\n",
    "Avoid filler words such as \"Based on the details\" or \"happy to assist\", keep your response to the point.\n",
    "Do not repeat the given instructions or information. \n",
    "DO NOT say you have insufficient information for an LCA.\n",
    "\n",
    "Respond with the JSON output and nothing else.\n",
    "\"\"\"\n",
    "\n",
    "best_eif_prompt_KOR = \"\"\"너는 식료품을 HS 코드로 분류하는 전과정영향평가(Life Cycle Analysis, LCA) 전문가야.\n",
    "\n",
    "나는 환경 확장 투입 산출(Environmentally Extended Input Output, EEIO) 환경 영향 계수(Environmental Impact Factors, EIF)를 기반으로 한 식료품의 전과정영향평가를 수행하고 싶어. 나는 식료품의 재료 및 제조 단계와 관련된 환경적 영향에 관심 있어. 나는 하나의 물품과 이에 해당할 가능성이 있는 세 가지 HS 코드 및 항목명을 받았어.\n",
    "\n",
    "나는 주어진 물품에 가장 적합한 HS 코드와 항목명을 선택하고 싶어. 선택에 대한 근거를 함께 설명해야 해.\n",
    "출력 형식은 JSON으로, 키는 \"가장_적합한_HS_코드\", \"가장_적합한_HS_항목명\", \"판단_근거\"야.\n",
    "\n",
    "물품:\n",
    "{clean_desc}\n",
    "\n",
    "가능한 HS 코드 및 항목명:\n",
    "{best3}\n",
    "\n",
    "다음 중 제공된 물품과 가장 적합한 HS 코드는 무엇이지?\n",
    "\n",
    "주어진 정보를 최대한 활용해. 정보가 제한되어 있다고 말하거나 추가 정보를 요청하지 마.\n",
    "가장 적합한 코드와 항목명 선택해야 해. 선택에 대한 근거를 반드시 포함해야 해.\n",
    "“세부 사항에 따라” 또는 ‘기꺼이 도와드리겠습니다’와 같은 미사여구는 피하고 요점에 집중하여 답변해.\n",
    "주어진 지침이나 정보를 반복하지 마.\n",
    "전과정영향평가에 필요한 정보가 충분하지 않다고 말하지 마.\n",
    "다른 말 없이 JSON 출력으로만 응답해.\"\"\"\n",
    "\n",
    "best_eif_prompt_ENG = PromptTemplate.from_template(best_eif_prompt_ENG)\n",
    "best_eif_prompt_KOR = PromptTemplate.from_template(best_eif_prompt_KOR)\n"
   ]
  },
  {
   "cell_type": "code",
   "execution_count": 51,
   "metadata": {},
   "outputs": [],
   "source": [
    "# Prompt to clean activity names and descriptions into a simple activity description to be matched in the next step.\n",
    "clean_text_prompt_ENG = \"\"\"I want to do of LCA of grocery products based on Environmentally Extended Input Output (EEIO) \n",
    "Environmental Impact Factors (EIF). I am interested in the environmental impact associated with the materials \n",
    "and manufacturing phase of the product. I am given grocery product names, and I want to \n",
    "paraphrase it to a plain language description before I select an EIF. \n",
    "\n",
    "Below is an example, inside <example></example> XML tags, of a given product name, and its plain language descriptions. Note that the descriptions \n",
    "are brief, and do not make any assumptions about the product.\n",
    "\n",
    "<example>\n",
    "PRODUCT_NAME      Gloves Work Mechanic Synthetic Leather SZ Large\n",
    "\n",
    "The item is a synthetic leather large work gloves \n",
    "</example>\n",
    "\n",
    "Following the example, provide a plain language description of the product data given below:\n",
    "{activity}\n",
    "\n",
    "Make the most of the given information. DO NOT say that information is limited.\n",
    "DO NOT refrain from providing a description, or ask for more information.\n",
    "If you cannot provide a plain language description, simply summarize the \n",
    "information provided. You MUST provide a description. \n",
    "DO NOT include the xml tags in your response.\n",
    "\n",
    "Avoid filler words such as \"Based on the details\" or \"happy to assist\", \n",
    "keep your response to the point.\n",
    "Do not repeat the given instructions or information. \n",
    "DO NOT say you have insufficient information for an LCA.\n",
    "\n",
    "Only provide the description and nothing else.\"\"\"\n",
    "\n",
    "clean_text_prompt_KOR = \"\"\"나는 환경 확장 투입 산출(Environmentally Extended Input Output, EEIO) 환경 영향 요인(Environmental Impact Factors, EIF)을 기반으로 한 식료품의 전과정영향평가(LCA)를 수행하려고 해. \n",
    "나는 식료품의 재료 및 제조 단계와 관련된 환경적 영향을 알고 싶어. 나는 식료품의 품목명을 받았고, \n",
    "이를 평이한 언어로 바꾸어 다시 서술한 후에 환경 영향 요인을 선택하려고 해.\n",
    "\n",
    "아래는 <example></example> XML 태그 안에 제공된 품목명과 그 평이한 언어 설명의 예시야. \n",
    "설명은 간결하며, 활동에 대한 어떠한 가정도 포함하지 않는다는 점을 주목해.\n",
    "\n",
    "<example>  \n",
    "품목명                                       작업용 장갑, 합성 가죽, 대형  \n",
    "\n",
    "이 품목은 합성 가죽으로 만든 대형 작업용 장갑입니다.  \n",
    "</example>  \n",
    "\n",
    "위 예시를 참고하여, 아래에 제공된 식료품 데이터를 평이한 언어로 설명해:  \n",
    "{activity}  \n",
    "\n",
    "제공된 정보를 최대한 활용해. 정보가 제한적이라고 말하지 마.  \n",
    "설명을 제공하지 않거나 추가 정보를 요청하지 마.  \n",
    "평이한 언어 설명을 제공할 수 없는 경우, 단순히 제공된 정보를 요약해. 반드시 설명을 제공해야 해. \n",
    "XML 태그는 응답에 포함하지 마. \n",
    "\n",
    "\"세부 사항에 따르면\" 또는 \"도움을 드릴 수 있어 기쁩니다\"와 같은 군더더기 표현을 피하고, 응답을 간결하게 작성해.  \n",
    "주어진 지침이나 정보를 반복하지 마.  \n",
    "전과정영향평가에 대해 정보가 부족하다고 언급하지 마.  \n",
    "\n",
    "설명만 제공하고, 그 외에는 아무것도 작성하지 마.\"\"\"\n",
    "\n",
    "clean_text_prompt_ENG = PromptTemplate.from_template(clean_text_prompt_ENG)\n",
    "clean_text_prompt_KOR = PromptTemplate.from_template(clean_text_prompt_KOR)\n"
   ]
  },
  {
   "cell_type": "code",
   "execution_count": 52,
   "metadata": {},
   "outputs": [],
   "source": [
    "def clean_eng(state: State):\n",
    "    messages = clean_text_prompt_ENG.invoke({\"activity\": state[\"activity\"]})\n",
    "    response = llm.invoke(messages)\n",
    "    return {\"clean_desc\": response.content}\n",
    "\n",
    "def retrieve_eng(state: State):\n",
    "    clean_desc = state[\"clean_desc\"]\n",
    "    best3_prompt_text = f\"What are three possible HS Codes for the given product description: {clean_desc}\"\n",
    "    retrieved_docs = vector_store_eng.similarity_search(best3_prompt_text, 3) # 3\n",
    "    return {\"best3\": retrieved_docs}\n",
    "\n",
    "\n",
    "def generate_eng(state: State):\n",
    "    docs_content = \"\\n\\n\".join(doc.page_content for doc in state[\"best3\"])\n",
    "    messages = best_eif_prompt_ENG.invoke({\"clean_desc\": state[\"clean_desc\"], \"best3\": docs_content})\n",
    "    response = llm.invoke(messages)\n",
    "    return {\"answer\": response.content}"
   ]
  },
  {
   "cell_type": "code",
   "execution_count": 76,
   "metadata": {},
   "outputs": [],
   "source": [
    "def clean_kor(state: State):\n",
    "    messages = clean_text_prompt_KOR.invoke({\"activity\": state[\"activity\"]})\n",
    "    response = llm.invoke(messages)\n",
    "    return {\"clean_desc\": response.content}\n",
    "\n",
    "def retrieve_kor(state: State):\n",
    "    clean_desc = state[\"clean_desc\"]\n",
    "    best3_prompt_text = f\"다음 품목에 해당할 가능성이 가장 높은 세 가지 HS 코드 및 항목명은?: {clean_desc}\"\n",
    "    retrieved_docs = vector_store_kor.similarity_search(best3_prompt_text, 3) # 3\n",
    "    return {\"best3\": retrieved_docs}\n",
    "\n",
    "\n",
    "def generate_kor(state: State):\n",
    "    docs_content = \"\\n\\n\".join(doc.page_content for doc in state[\"best3\"])\n",
    "    messages = best_eif_prompt_KOR.invoke({\"clean_desc\": state[\"clean_desc\"], \"best3\": docs_content})\n",
    "    response = llm.invoke(messages)\n",
    "    return {\"answer\": response.content}"
   ]
  },
  {
   "cell_type": "code",
   "execution_count": 77,
   "metadata": {},
   "outputs": [],
   "source": [
    "from langgraph.graph import START, StateGraph\n",
    "\n",
    "graph_builder_eng = StateGraph(State).add_sequence([clean_eng, retrieve_eng, generate_eng])\n",
    "graph_builder_eng.add_edge(START, \"clean_eng\")\n",
    "graph_eng = graph_builder_eng.compile()\n",
    "\n",
    "graph_builder_kor = StateGraph(State).add_sequence([clean_kor, retrieve_kor, generate_kor])\n",
    "graph_builder_kor.add_edge(START, \"clean_kor\")\n",
    "graph_kor = graph_builder_kor.compile()"
   ]
  },
  {
   "cell_type": "code",
   "execution_count": 55,
   "metadata": {},
   "outputs": [
    {
     "data": {
      "image/png": "[encoded data removed]",
      "text/plain": [
       "<IPython.core.display.Image object>"
      ]
     },
     "metadata": {},
     "output_type": "display_data"
    }
   ],
   "source": [
    "from IPython.display import Image, display\n",
    "\n",
    "display(Image(graph_kor.get_graph().draw_mermaid_png()))"
   ]
  },
  {
   "cell_type": "code",
   "execution_count": 78,
   "metadata": {},
   "outputs": [],
   "source": [
    "result_eng = graph_eng.invoke({\"activity\": \"GLOVES WORK MECHANIC SYNTHETIC LEATHER SZ LARGE\"})\n",
    "result_kor = graph_kor.invoke({\"activity\": \"작업용 장갑, 합성 가죽, 대형\"})"
   ]
  },
  {
   "cell_type": "code",
   "execution_count": 79,
   "metadata": {},
   "outputs": [
    {
     "name": "stdout",
     "output_type": "stream",
     "text": [
      "Activity: GLOVES WORK MECHANIC SYNTHETIC LEATHER SZ LARGE\n",
      "\n",
      "\n",
      "Clean Description: The item is a pair of large synthetic leather work gloves designed for mechanics.\n",
      "\n",
      "\n",
      "HSCode: 401590\n",
      "Description: Rubber; vulcanised (other than hard rubber), articles of apparel and clothing accessories (other than gloves, mittens and mitts)\n",
      "HSCode: 401519\n",
      "Description: Rubber; vulcanised (other than hard rubber), gloves, mittens and mitts other than surgical gloves\n",
      "HSCode: 611610\n",
      "Description: Gloves, mittens and mitts; knitted or crocheted, impregnated, coated, covered or laminated with plastics or rubber\n",
      "Answer: ```json\n",
      "{\n",
      "  \"BestHSCode\": \"401519\",\n",
      "  \"BestHSDescription\": \"Rubber; vulcanised (other than hard rubber), gloves, mittens and mitts other than surgical gloves\",\n",
      "  \"Justification\": \"The product is a pair of large synthetic leather work gloves designed for mechanics, which aligns closely with HS Code 401519. This code specifically covers vulcanised rubber gloves that are not surgical, making it the most appropriate choice for synthetic leather work gloves, as they are made from rubber materials but not intended for medical use.\"\n",
      "}\n",
      "```\n"
     ]
    }
   ],
   "source": [
    "print(f'Activity: {result_eng[\"activity\"]}\\n\\n')\n",
    "print(f'Clean Description: {result_eng[\"clean_desc\"]}\\n\\n')\n",
    "for doc in result_eng[\"best3\"]:\n",
    "    print(doc.page_content)\n",
    "print(f'Answer: {result_eng[\"answer\"]}')"
   ]
  },
  {
   "cell_type": "code",
   "execution_count": 80,
   "metadata": {},
   "outputs": [
    {
     "name": "stdout",
     "output_type": "stream",
     "text": [
      "Activity: 작업용 장갑, 합성 가죽, 대형\n",
      "\n",
      "\n",
      "Clean Description: 이 품목은 합성 가죽으로 만들어진 대형 작업용 장갑입니다.\n",
      "\n",
      "\n",
      "코드: 611693\n",
      "설명: 장갑, 장갑 및 장갑, 편물 또는 뜨개질 편물로 된 합성 섬유(플라스틱 또는 고무로 함침, 코팅, 피복 또는 라미네이트된 것 제외)\n",
      "코드: 401519\n",
      "설명: 고무; 가황 처리(경질 고무 제외), 장갑, 장갑, 벙어리장갑 및 장갑(수술용 장갑 제외)\n",
      "코드: 611610\n",
      "설명: 장갑, 장갑 및 벙어리장갑, 편물 또는 뜨개질, 함침, 코팅, 덮개 또는 플라스틱 또는 고무로 적층된 것\n",
      "Answer: ```json\n",
      "{\n",
      "  \"가장_적합한_HS_코드\": \"611610\",\n",
      "  \"가장_적합한_HS_항목명\": \"장갑, 장갑 및 벙어리장갑, 편물 또는 뜨개질, 함침, 코팅, 덮개 또는 플라스틱 또는 고무로 적층된 것\",\n",
      "  \"판단_근거\": \"합성 가죽으로 만들어진 대형 작업용 장갑은 편물 또는 뜨개질 방식으로 제작되며, 일반적으로 고무나 플라스틱으로 코팅되거나 덮개가 있는 경우가 많습니다. HS 코드 611610은 이러한 특성을 반영하여 가장 적합합니다. 반면, 611693은 합성 섬유에 대한 제한이 있으며, 401519는 고무 장갑에 해당하여 실제 물품의 재료와 맞지 않습니다.\"\n",
      "}\n",
      "```\n"
     ]
    }
   ],
   "source": [
    "print(f'Activity: {result_kor[\"activity\"]}\\n\\n')\n",
    "print(f'Clean Description: {result_kor[\"clean_desc\"]}\\n\\n')\n",
    "for doc in result_kor[\"best3\"]:\n",
    "    print(doc.page_content)\n",
    "print(f'Answer: {result_kor[\"answer\"]}')"
   ]
  },
  {
   "cell_type": "code",
   "execution_count": 63,
   "metadata": {},
   "outputs": [
    {
     "data": {
      "text/plain": [
       "'PRODUCT_NAME: Nutraj 100% Natural Dried Premium California Walnut Kernels, 500g (2 X 250g) | Pure Without Shell Walnut Kernels | Akhrot ...'"
      ]
     },
     "execution_count": 63,
     "metadata": {},
     "output_type": "execute_result"
    }
   ],
   "source": [
    "# Loader for the input activities dataset\n",
    "from langchain.document_loaders import CSVLoader\n",
    "\n",
    "sample_input_loader_eng = CSVLoader(r\"..\\guidance_for_environmental_impact_factor_mapping_on_aws\\assets\\input\\sample_amazon_product_names_groceries_eng.csv\", encoding='utf-8-sig')\n",
    "sample_input_doc_eng = sample_input_loader_eng.load()\n",
    "\n",
    "sample_input_doc_eng[0].page_content"
   ]
  },
  {
   "cell_type": "code",
   "execution_count": 64,
   "metadata": {},
   "outputs": [
    {
     "data": {
      "text/plain": [
       "'품목명: Nutraj 100 % 천연 건조 프리미엄 캘리포니아 호두 알갱이, 500g (2 X 250g) | 껍질없는 순수한 호두 알갱이 | Akhrot ...'"
      ]
     },
     "execution_count": 64,
     "metadata": {},
     "output_type": "execute_result"
    }
   ],
   "source": [
    "sample_input_loader_kor = CSVLoader(r\"..\\guidance_for_environmental_impact_factor_mapping_on_aws\\assets\\input\\sample_amazon_product_names_groceries_kor.csv\", encoding='utf-8-sig')\n",
    "sample_input_doc_kor = sample_input_loader_kor.load()\n",
    "\n",
    "sample_input_doc_kor[0].page_content"
   ]
  },
  {
   "cell_type": "code",
   "execution_count": null,
   "metadata": {},
   "outputs": [
    {
     "name": "stdout",
     "output_type": "stream",
     "text": [
      "필터되었습니다. 결과는 '..\\guidance_for_environmental_impact_factor_mapping_on_aws\\assets\\input\\sample_amazon_product_names_groceries_kor.csv'에 저장되었습니다.\n"
     ]
    }
   ],
   "source": [
    "# # amazon input data preprocessing\n",
    "# import pandas as pd\n",
    "# file_path = r'..\\guidance_for_environmental_impact_factor_mapping_on_aws\\assets\\input\\amazon_product_names_groceries_kor.csv'\n",
    "# output_path = r'..\\guidance_for_environmental_impact_factor_mapping_on_aws\\assets\\input\\sample_amazon_product_names_groceries_kor.csv'\n",
    "\n",
    "# df = pd.read_csv(file_path)\n",
    "# df = df.head(9)\n",
    "# df.to_csv(output_path, index=False)\n",
    "\n",
    "# print(f\"필터되었습니다. 결과는 '{output_path}'에 저장되었습니다.\")\n"
   ]
  },
  {
   "cell_type": "code",
   "execution_count": 65,
   "metadata": {},
   "outputs": [
    {
     "name": "stdout",
     "output_type": "stream",
     "text": [
      "Final results: [{'ProductName': 'PRODUCT_NAME: Nutraj 100% Natural Dried Premium California Walnut Kernels, 500g (2 X 250g) | Pure Without Shell Walnut Kernels | Akhrot ...', 'CleanDescription': 'The item is a pack of 500g of natural dried walnut kernels from California, consisting of two 250g portions, with no shells included.', 'Best3': 'HSCode: 80232\\nDescription: Nuts, edible; walnuts, fresh or dried, shelled\\nHSCode: 120230\\nDescription: Ground-nuts; seed, not roasted or otherwise cooked, whether or not shelled or broken\\nHSCode: 110819\\nDescription: Starch; n.e.c. in item no. 1108.11 to 1108.14', 'Answer': '```json\\n{\\n  \"BestHSCode\": \"80232\",\\n  \"BestHSDescription\": \"Nuts, edible; walnuts, fresh or dried, shelled\",\\n  \"Justification\": \"The product is specifically a pack of dried walnut kernels, which are shelled and fit the description of HS Code 80232. The other options do not pertain to walnuts or are not specific to dried, shelled nuts.\"\\n}\\n```'}, {'ProductName': 'PRODUCT_NAME: Cadbury Bournvita 5 Star Magic Health Drink, 750g Pouch', 'CleanDescription': 'The item is a 750g pouch of Cadbury Bournvita, a health drink that promotes energy and nutrition.', 'Best3': 'HSCode: 300450\\nDescription: Medicaments; containing vitamins or their derivatives, for therapeutic or prophylactic use, packaged for retail sale\\nHSCode: 300339\\nDescription: Medicaments; containing hormones (excluding insulin), (but not containing antibiotics), for therapeutic or prophylactic uses, not packaged for retail sale\\nHSCode: 220210\\nDescription: Waters; including mineral and aerated, containing added sugar or other sweetening matter or flavoured', 'Answer': '```json\\n{\\n  \"BestHSCode\": \"300450\",\\n  \"BestHSDescription\": \"Medicaments; containing vitamins or their derivatives, for therapeutic or prophylactic use, packaged for retail sale\",\\n  \"Justification\": \"Cadbury Bournvita is a health drink that promotes energy and nutrition, which aligns closely with the description of medicaments containing vitamins for therapeutic use. The product\\'s focus on health benefits positions it better under this HS code compared to the others, which either relate to hormones or sugary waters.\"\\n}\\n```'}, {'ProductName': 'PRODUCT_NAME: Sugar Free Green Natural Stevia Jar(200 g)', 'CleanDescription': 'The item is a 200-gram jar of sugar-free green natural stevia.', 'Best3': 'HSCode: 170260\\nDescription: Sugars; fructose, other than chemically pure fructose, and fructose syrup (containing in the dry state more than 50% by weight of fructose), excluding invert sugar\\nHSCode: 170230\\nDescription: Sugars; glucose and glucose syrup, not containing fructose or containing in the dry state less than 20% by weight of fructose, the syrup not containing added flavouring or colouring matter\\nHSCode: 170250\\nDescription: Sugars; fructose, chemically pure, in solid form', 'Answer': '```json\\n{\\n  \"BestHSCode\": \"170260\",\\n  \"BestHSDescription\": \"Sugars; fructose, other than chemically pure fructose, and fructose syrup (containing in the dry state more than 50% by weight of fructose), excluding invert sugar\",\\n  \"Justification\": \"The product is a sugar-free natural sweetener derived from stevia, which is often associated with fructose. HS Code 170260 pertains to sugars that include fructose, making it the most relevant option for a stevia product, as it is a sugar substitute that falls under the broader category of sweeteners.\"\\n}\\n```'}, {'ProductName': 'PRODUCT_NAME: Daawat Pulav, Long Grains, Fluffy Basmati for finest Pulav, 1 Kg', 'CleanDescription': 'The item is a 1 kg package of long grain fluffy basmati rice, suitable for making pulav.', 'Best3': 'HSCode: 100640\\nDescription: Cereals; rice, broken\\nHSCode: 110819\\nDescription: Starch; n.e.c. in item no. 1108.11 to 1108.14\\nHSCode: 100620\\nDescription: Cereals; husked (brown) rice', 'Answer': '```json\\n{\\n  \"BestHSCode\": \"100620\",\\n  \"BestHSDescription\": \"Cereals; husked (brown) rice\",\\n  \"Justification\": \"The product is a 1 kg package of long grain fluffy basmati rice, which fits the description of husked (brown) rice. HS Code 100620 specifically refers to rice in its husked form, making it the most accurate choice for this grocery product. HS Code 100640 refers to broken rice, which does not apply to the described product, and HS Code 110819 pertains to starch, which is unrelated to the rice itself.\"\\n}\\n```'}, {'ProductName': 'PRODUCT_NAME: Tata Tea Gold | Assam teas with Gently Rolled Aromatic Long Leaves | Rich & Aromatic Chai | Black Tea | 500g', 'CleanDescription': 'The item is a 500g package of Tata Tea Gold, which contains Assam black tea made from gently rolled aromatic long leaves, designed for a rich and aromatic chai.', 'Best3': 'HSCode: 210120\\nDescription: Extracts, essences and concentrates; of tea or mate, and preparations with a basis of these extracts, essences or concentrates or with a basis of tea or mate\\nHSCode: 90230\\nDescription: Tea, black; (fermented) and partly fermented tea, in immediate packings of a content not exceeding 3kg\\nHSCode: 90220\\nDescription: Tea, green; (not fermented), in immediate packings of a content exceeding 3kg', 'Answer': '```json\\n{\\n  \"BestHSCode\": \"90230\",\\n  \"BestHSDescription\": \"Tea, black; (fermented) and partly fermented tea, in immediate packings of a content not exceeding 3kg\",\\n  \"Justification\": \"The product is a 500g package of Assam black tea, which directly aligns with the description of HS Code 90230. This code specifically covers black tea in immediate packings, making it the most appropriate choice for a product that is exclusively black tea.\"\\n}\\n```'}, {'ProductName': 'PRODUCT_NAME: Wagh Bakri Premium Leaf Tea, Poly Pack, 500g', 'CleanDescription': 'The item is a 500g package of premium leaf tea from Wagh Bakri.', 'Best3': 'HSCode: 210120\\nDescription: Extracts, essences and concentrates; of tea or mate, and preparations with a basis of these extracts, essences or concentrates or with a basis of tea or mate\\nHSCode: 90220\\nDescription: Tea, green; (not fermented), in immediate packings of a content exceeding 3kg\\nHSCode: 90230\\nDescription: Tea, black; (fermented) and partly fermented tea, in immediate packings of a content not exceeding 3kg', 'Answer': '```json\\n{\\n  \"BestHSCode\": \"90230\",\\n  \"BestHSDescription\": \"Tea, black; (fermented) and partly fermented tea, in immediate packings of a content not exceeding 3kg\",\\n  \"Justification\": \"The product is a 500g package of premium leaf tea, which is likely to be black tea, as indicated by its description. The HS Code 90230 specifically covers black tea in immediate packings not exceeding 3kg, making it the most appropriate match. The other codes either refer to extracts or green tea, which do not align with the product description.\"\\n}\\n```'}, {'ProductName': 'PRODUCT_NAME: Dabur Vedic Tea - 500gm | Handpicked from Assam, Nilgiri & Darjeeling | Soulful Aroma & Rich Taste | 30+ Ayurvedic Herbs |...', 'CleanDescription': 'The item is a 500 gram pack of Dabur Vedic Tea, which is made from handpicked tea leaves sourced from Assam, Nilgiri, and Darjeeling. It features a soulful aroma and rich taste and includes over 30 Ayurvedic herbs.', 'Best3': 'HSCode: 210120\\nDescription: Extracts, essences and concentrates; of tea or mate, and preparations with a basis of these extracts, essences or concentrates or with a basis of tea or mate\\nHSCode: 90230\\nDescription: Tea, black; (fermented) and partly fermented tea, in immediate packings of a content not exceeding 3kg\\nHSCode: 90240\\nDescription: Tea, black; (fermented) and partly fermented tea, in immediate packings of a content exceeding 3kg', 'Answer': '```json\\n{\\n  \"BestHSCode\": \"90230\",\\n  \"BestHSDescription\": \"Tea, black; (fermented) and partly fermented tea, in immediate packings of a content not exceeding 3kg\",\\n  \"Justification\": \"The product is a 500 gram pack of Dabur Vedic Tea, which fits within the weight limit specified in HS code 90230. This code specifically refers to black tea and captures the essence of the product being a tea blend made from various sourced tea leaves, aligning with the description of immediate packing.\"\\n}\\n```'}, {'ProductName': 'PRODUCT_NAME: Nescafe Classic Coffee Jar, 200 g with Free Red Mug and Scoop Spoon', 'CleanDescription': 'The item is a 200 g jar of Nescafe Classic Coffee, which comes with a free red mug and a scoop spoon.', 'Best3': 'HSCode: 210111\\nDescription: Extracts, essences and concentrates; of coffee, and preparations with a basis of these extracts, essences or concentrates or with a basis of coffee\\nHSCode: 90190\\nDescription: Coffee; husks and skins, coffee substitutes containing coffee in any proportion\\nHSCode: 90122\\nDescription: Coffee; roasted, decaffeinated', 'Answer': '```json\\n{\\n  \"BestHSCode\": \"210111\",\\n  \"BestHSDescription\": \"Extracts, essences and concentrates; of coffee, and preparations with a basis of these extracts, essences or concentrates or with a basis of coffee\",\\n  \"Justification\": \"The product is a jar of Nescafe Classic Coffee, which is primarily a coffee preparation. HS Code 210111 specifically covers coffee extracts and preparations, making it the most relevant choice for a product that is essentially a coffee-based preparation rather than just roasted coffee or coffee husks.\"\\n}\\n```'}]\n"
     ]
    }
   ],
   "source": [
    "import re  # For extracting fields from page_content\n",
    "\n",
    "# Initialize results storage\n",
    "results_eng = []\n",
    "\n",
    "# Process each row using the graph\n",
    "for doc in sample_input_doc_eng:\n",
    "    # # Extract CommodityDescription from the page_content using regex\n",
    "    # match = re.search(r\"CommodityDescription: (.+)\", doc.page_content)\n",
    "    # activity = match.group(1).strip() if match else None  # Extract the description\n",
    "\n",
    "    activity = doc.page_content # Extract the Product Name\n",
    "\n",
    "    if activity:\n",
    "        # print(f\"Processing activity: {activity}\")  # Debugging: print the activity\n",
    "        # Invoke the graph\n",
    "        result = graph_eng.invoke({\"activity\": activity})\n",
    "        \n",
    "        # Extract context and answer from the state after processing\n",
    "        results_eng.append({\n",
    "            \"ProductName\": activity,\n",
    "            \"CleanDescription\": result.get(\"clean_desc\", \"\"),\n",
    "            \"Best3\": \"\\n\".join(doc.page_content for doc in result.get(\"best3\", \"\")),\n",
    "            \"Answer\": result.get(\"answer\", \"\")\n",
    "        })\n",
    "\n",
    "# Print the results for debugging\n",
    "print(\"Final results:\", results_eng)"
   ]
  },
  {
   "cell_type": "code",
   "execution_count": 81,
   "metadata": {},
   "outputs": [
    {
     "name": "stdout",
     "output_type": "stream",
     "text": [
      "Final results: [{'ProductName': '품목명: Nutraj 100 % 천연 건조 프리미엄 캘리포니아 호두 알갱이, 500g (2 X 250g) | 껍질없는 순수한 호두 알갱이 | Akhrot ...', 'CleanDescription': '이 품목은 껍질이 제거된 순수한 호두 알갱이로, 100% 천연 건조된 캘리포니아 호두를 사용하여 500g 포장(2개 250g씩)으로 판매됩니다.', 'Best3': '코드: 080231\\n설명: 견과류, 식용; 호두, 신선하거나 말린 껍질째, 호두\\n코드: 080232\\n설명: 견과류, 식용; 호두, 신선하거나 말린 호두, 껍질 벗긴 것\\n코드: 080212\\n설명: 견과류, 식용; 아몬드, 신선 또는 건조, 껍질 벗긴 것', 'Answer': '```json\\n{\\n  \"가장_적합한_HS_코드\": \"080232\",\\n  \"가장_적합한_HS_항목명\": \"견과류, 식용; 호두, 신선하거나 말린 호두, 껍질 벗긴 것\",\\n  \"판단_근거\": \"제공된 물품은 껍질이 제거된 순수한 호두 알갱이로, 100% 천연 건조된 호두가 사용되고 있습니다. HS 코드 080232는 껍질이 벗겨진 호두를 명확히 지칭하며, 물품의 설명과 일치합니다. 다른 선택지인 HS 코드 080231은 껍질째 호두를 포함하고, 080212는 아몬드에 해당하므로 이 물품과는 관련이 없습니다.\"\\n}\\n```'}, {'ProductName': '품목명: 캐드버리 본비타 5 스타 매직 건강 음료, 750g 파우치', 'CleanDescription': '캐드버리 본비타 5 스타 매직 건강 음료는 750g 파우치에 담긴 건강 음료입니다.', 'Best3': '코드: 110630\\n설명: 밀가루, 식사 및 분말; 8장의 제품 중\\n코드: 220600\\n설명: 발효 음료(예: 사이다, 페리, 미드, 사케)\\n코드: 293690\\n설명: 비타민; n.e.c. 제목 no. 2936, 천연 농축액 포함', 'Answer': '```json\\n{\\n  \"가장_적합한_HS_코드\": \"220600\",\\n  \"가장_적합한_HS_항목명\": \"발효 음료(예: 사이다, 페리, 미드, 사케)\",\\n  \"판단_근거\": \"캐드버리 본비타 5 스타 매직 건강 음료는 건강 음료로 분류되며, 발효 음료와 유사한 특성을 가질 수 있다. 220600 코드는 발효 음료에 해당하며, 건강 음료의 범주에 적합하다. 다른 HS 코드들은 밀가루 및 비타민과 관련된 것이므로 본 제품과 직접적인 연관성이 적다.\"\\n}\\n```'}, {'ProductName': '품목명: 무설탕 그린 내추럴 스테비아 용기(200g)', 'CleanDescription': '무설탕 그린 내추럴 스테비아 용기는 200g의 용량으로, 스테비아를 원료로 하여 설탕 없이 만들어진 자연적인 감미료입니다.', 'Best3': '코드: 210120\\n설명: 추출물, 에센스 및 농축액; 차 또는 마테, 그리고 이러한 추출물, 에센스 또는 농축액을 기본으로 하거나 차 또는 마테를 기본으로 한 제제\\n코드: 210130\\n설명: 치커리, 볶은 커피 및 기타 볶은 커피 대용품; 추출물, 에센스 및 농축액\\n코드: 090210\\n설명: 차, 녹색; (발효되지 않은) 내용물이 3kg을 초과하지 않는 즉시 포장된 제품', 'Answer': '```json\\n{\\n  \"가장_적합한_HS_코드\": \"210120\",\\n  \"가장_적합한_HS_항목명\": \"추출물, 에센스 및 농축액; 차 또는 마테, 그리고 이러한 추출물, 에센스 또는 농축액을 기본으로 하거나 차 또는 마테를 기본으로 한 제제\",\\n  \"판단_근거\": \"무설탕 그린 내추럴 스테비아는 스테비아 추출물을 원료로 하여 자연적인 감미료로 제조된 제품입니다. HS 코드 210120은 다양한 식물 추출물과 관련된 제품을 포함하며, 스테비아와 같은 자연 감미료도 이에 해당합니다. 다른 두 코드(210130과 090210)는 각각 볶은 커피 대용품 및 차와 관련되어 있어, 스테비아의 제조 및 원료 특성과 부합하지 않습니다.\"\\n}\\n```'}, {'ProductName': '품목명: 다왓 풀라브, 긴 곡물, 최고급 풀라브용 푹신한 바스마티, 1 Kg', 'CleanDescription': '다왓 풀라브는 최고급 풀라브용 푹신한 바스마티 쌀로 만들어진 긴 곡물입니다. 이 제품은 1kg 포장입니다.', 'Best3': '코드: 110630\\n설명: 밀가루, 식사 및 분말; 8장의 제품 중\\n코드: 100610\\n설명: 곡물; 껍질째 먹는 쌀(벼 또는 거친 쌀)\\n코드: 100640\\n설명: 곡물; 쌀, 깨진', 'Answer': '```json\\n{\\n  \"가장_적합한_HS_코드\": \"100610\",\\n  \"가장_적합한_HS_항목명\": \"곡물; 껍질째 먹는 쌀(벼 또는 거친 쌀)\",\\n  \"판단_근거\": \"다왓 풀라브는 바스마티 쌀로 만들어진 제품으로, 주 재료가 쌀이기 때문에 \\'곡물; 껍질째 먹는 쌀\\'이라는 HS 코드가 가장 적합하다. 나머지 두 코드는 밀가루와 깨진 쌀에 해당하여 주어진 물품과 관련성이 낮다.\"\\n}\\n```'}, {'ProductName': '품목명: 타타 티 골드 | 부드럽게 말린 향기로운 긴 잎이 들어간 아삼 차 | 진하고 향긋한 차이 | 홍차 | 500g', 'CleanDescription': '타타 티 골드는 부드럽게 말린 향기로운 긴 잎이 들어간 아삼 차로, 진하고 향긋한 홍차입니다. 이 제품은 500g의 용량으로 제공됩니다.', 'Best3': '코드: 210120\\n설명: 추출물, 에센스 및 농축액; 차 또는 마테, 그리고 이러한 추출물, 에센스 또는 농축액을 기본으로 하거나 차 또는 마테를 기본으로 한 제제\\n코드: 090230\\n설명: 차, 블랙; (발효) 및 부분 발효 차, 3kg을 초과하지 않는 내용물의 즉시 포장\\n코드: 090240\\n설명: 차, 블랙; (발효) 및 부분 발효 차, 내용물이 3kg을 초과하는 즉시 포장된 경우', 'Answer': '```json\\n{\\n  \"가장_적합한_HS_코드\": \"090230\",\\n  \"가장_적합한_HS_항목명\": \"차, 블랙; (발효) 및 부분 발효 차, 3kg을 초과하지 않는 내용물의 즉시 포장\",\\n  \"판단_근거\": \"타타 티 골드는 아삼 차로 분류될 수 있으며, 이는 블랙 티에 해당합니다. 500g의 용량이 3kg을 초과하지 않으므로, 090230 코드가 가장 적합합니다. 다른 코드들은 추출물이나 3kg 초과 제품에 해당하므로 적합하지 않습니다.\"\\n}\\n```'}, {'ProductName': '품목명: 와그 바크리 프리미엄 리프 티, 폴리팩, 500g', 'CleanDescription': '이 품목은 500g의 폴리팩에 포장된 와그 바크리 프리미엄 리프 티입니다.', 'Best3': '코드: 090230\\n설명: 차, 블랙; (발효) 및 부분 발효 차, 3kg을 초과하지 않는 내용물의 즉시 포장\\n코드: 090240\\n설명: 차, 블랙; (발효) 및 부분 발효 차, 내용물이 3kg을 초과하는 즉시 포장된 경우\\n코드: 210130\\n설명: 치커리, 볶은 커피 및 기타 볶은 커피 대용품; 추출물, 에센스 및 농축액', 'Answer': '```json\\n{\\n  \"가장_적합한_HS_코드\": \"090230\",\\n  \"가장_적합한_HS_항목명\": \"차, 블랙; (발효) 및 부분 발효 차, 3kg을 초과하지 않는 내용물의 즉시 포장\",\\n  \"판단_근거\": \"제공된 물품은 500g의 폴리팩에 포장된 리프 티로, 이는 블랙 차의 일종으로 분류될 수 있으며, 3kg을 초과하지 않는 즉시 포장된 형태에 해당합니다. 따라서 HS 코드 090230이 가장 적합합니다.\"\\n}\\n```'}, {'ProductName': '품목명: 다부르 베다 차 - 500gm | 아삼, 닐기리 &amp; 다르질링에서 엄선한 제품 | 영혼의 향기와 풍부한 맛 | 30 가지 이상의 아유르베다 허브 |...', 'CleanDescription': '다부르 베다 차는 아삼, 닐기리, 다르질링에서 엄선한 500g의 차로, 영혼의 향기와 풍부한 맛을 제공합니다. 이 차는 30가지 이상의 아유르베다 허브로 구성되어 있습니다.', 'Best3': '코드: 210120\\n설명: 추출물, 에센스 및 농축액; 차 또는 마테, 그리고 이러한 추출물, 에센스 또는 농축액을 기본으로 하거나 차 또는 마테를 기본으로 한 제제\\n코드: 090520\\n설명: 향신료; 바닐라, 으깬 것 또는 갈은 것\\n코드: 210130\\n설명: 치커리, 볶은 커피 및 기타 볶은 커피 대용품; 추출물, 에센스 및 농축액', 'Answer': '```json\\n{\\n  \"가장_적합한_HS_코드\": \"210120\",\\n  \"가장_적합한_HS_항목명\": \"추출물, 에센스 및 농축액; 차 또는 마테, 그리고 이러한 추출물, 에센스 또는 농축액을 기본으로 하거나 차 또는 마테를 기본으로 한 제제\",\\n  \"판단_근거\": \"다부르 베다 차는 아유르베다 허브가 포함된 차로, 차의 주요 특성과 성분을 강조하고 있습니다. HS 코드 210120은 차 또는 마테를 기본으로 한 제품을 포함하므로, 이 제품의 특성에 가장 적합합니다. 다른 두 코드(090520과 210130)는 차와 관련이 없거나 차와 대체품에 해당하므로 적합하지 않습니다.\"\\n}\\n```'}, {'ProductName': '품목명: 네스카페 클래식 커피 자, 200g, 레드 머그와 스쿱 스푼 무료 제공', 'CleanDescription': '네스카페 클래식 커피는 200g의 커피가 들어 있으며, 레드 머그와 스쿱 스푼이 무료로 제공됩니다.', 'Best3': '코드: 090111\\n설명: 커피, 로스팅 또는 디카페인 미포함\\n코드: 090190\\n설명: 커피; 커피 껍질 및 껍질, 커피가 함유된 커피 대용 음료\\n코드: 210130\\n설명: 치커리, 볶은 커피 및 기타 볶은 커피 대용품; 추출물, 에센스 및 농축액', 'Answer': '```json\\n{\\n  \"가장_적합한_HS_코드\": \"090111\",\\n  \"가장_적합한_HS_항목명\": \"커피, 로스팅 또는 디카페인 미포함\",\\n  \"판단_근거\": \"네스카페 클래식 커피는 로스팅된 커피를 사용하여 제조되며, 디카페인 커피가 아닌 일반 커피 제품입니다. 따라서 로스팅 또는 디카페인 미포함인 HS 코드 090111이 가장 적합합니다. 090190은 커피 대용 음료에 해당하고, 210130은 치커리 및 기타 대용품에 해당하여 주 제품과는 맞지 않습니다.\"\\n}\\n```'}, {'ProductName': '품목명: 블루 티 - 카모마일 꽃차 | 카모마일의 순수한 통 꽃 봉오리 | 수면 차 &amp; 스트레스 해소 | 허브 차 - 카페인...', 'CleanDescription': '블루 티는 카모마일 꽃으로 만든 허브 차로, 수면을 돕고 스트레스를 해소하는 데 도움을 제공합니다.', 'Best3': '코드: 210120\\n설명: 추출물, 에센스 및 농축액; 차 또는 마테, 그리고 이러한 추출물, 에센스 또는 농축액을 기본으로 하거나 차 또는 마테를 기본으로 한 제제\\n코드: 293930\\n설명: 알칼로이드, 카페인 및 그 염류\\n코드: 090300\\n설명: Mate', 'Answer': '```json\\n{\\n  \"가장_적합한_HS_코드\": \"210120\",\\n  \"가장_적합한_HS_항목명\": \"추출물, 에센스 및 농축액; 차 또는 마테, 그리고 이러한 추출물, 에센스 또는 농축액을 기본으로 하거나 차 또는 마테를 기본으로 한 제제\",\\n  \"판단_근거\": \"블루 티는 카모마일 꽃으로 만든 허브 차로, 주로 차의 형태로 소비되며, HS 코드 210120은 차 또는 마테를 기본으로 한 제품을 포함합니다. 다른 두 코드(293930과 090300)는 각각 알칼로이드와 마테에 대한 것이지만, 블루 티는 허브 차에 해당하므로 210120이 가장 적합합니다.\"\\n}\\n```'}]\n"
     ]
    }
   ],
   "source": [
    "# Initialize results storage\n",
    "results_kor = []\n",
    "\n",
    "# Process each row using the graph\n",
    "for doc in sample_input_doc_kor:\n",
    "    # # Extract CommodityDescription from the page_content using regex\n",
    "    # match = re.search(r\"CommodityDescription: (.+)\", doc.page_content)\n",
    "    # activity = match.group(1).strip() if match else None  # Extract the description\n",
    "\n",
    "    activity = doc.page_content # Extract the Product Name\n",
    "\n",
    "    if activity:\n",
    "        # Invoke the graph\n",
    "        result = graph_kor.invoke({\"activity\": activity})\n",
    "        \n",
    "        # Extract context and answer from the state after processing\n",
    "        results_kor.append({\n",
    "            \"ProductName\": activity,\n",
    "            \"CleanDescription\": result.get(\"clean_desc\", \"\"),\n",
    "            \"Best3\": \"\\n\".join(doc.page_content for doc in result.get(\"best3\", \"\")),\n",
    "            \"Answer\": result.get(\"answer\", \"\")\n",
    "        })\n",
    "\n",
    "# Print the results for debugging\n",
    "print(\"Final results:\", results_kor)"
   ]
  },
  {
   "cell_type": "code",
   "execution_count": 69,
   "metadata": {},
   "outputs": [
    {
     "name": "stdout",
     "output_type": "stream",
     "text": [
      "Results saved to sample_amazon_result_eng.csv\n"
     ]
    }
   ],
   "source": [
    "# Save results to a CSV file\n",
    "import csv\n",
    "\n",
    "with open(\"results/sample_amazon_result_eng.csv\", \"w\", newline=\"\") as csvfile:\n",
    "    fieldnames = [\"ProductName\", \"CleanDescription\", \"Best3\", \"Answer\"]\n",
    "    writer = csv.DictWriter(csvfile, fieldnames=fieldnames)\n",
    "\n",
    "    writer.writeheader()\n",
    "    writer.writerows(results_eng)\n",
    "\n",
    "print(\"Results saved to sample_amazon_result_eng.csv\")"
   ]
  },
  {
   "cell_type": "code",
   "execution_count": 82,
   "metadata": {},
   "outputs": [
    {
     "name": "stdout",
     "output_type": "stream",
     "text": [
      "Results saved to sample_amazon_result_kor.csv\n"
     ]
    }
   ],
   "source": [
    "with open(\"results/sample_amazon_result_kor.csv\", \"w\", newline=\"\") as csvfile:\n",
    "    fieldnames = [\"ProductName\", \"CleanDescription\", \"Best3\", \"Answer\"]\n",
    "    writer = csv.DictWriter(csvfile, fieldnames=fieldnames)\n",
    "\n",
    "    writer.writeheader()\n",
    "    writer.writerows(results_kor)\n",
    "\n",
    "print(\"Results saved to sample_amazon_result_kor.csv\")"
   ]
  }
 ],
 "metadata": {
  "kernelspec": {
   "display_name": "Python 3",
   "language": "python",
   "name": "python3"
  },
  "language_info": {
   "codemirror_mode": {
    "name": "ipython",
    "version": 3
   },
   "file_extension": ".py",
   "mimetype": "text/x-python",
   "name": "python",
   "nbconvert_exporter": "python",
   "pygments_lexer": "ipython3",
   "version": "3.10.15"
  }
 },
 "nbformat": 4,
 "nbformat_minor": 2
}
