{
 "cells": [
  {
   "cell_type": "code",
   "execution_count": 88,
   "metadata": {},
   "outputs": [],
   "source": [
    "# get openai api key from openai_config.json file\n",
    "import json\n",
    "with open('openai_config.json') as f:\n",
    "    openai_api_key = json.load(f)['openai_api_key']"
   ]
  },
  {
   "cell_type": "code",
   "execution_count": 89,
   "metadata": {},
   "outputs": [],
   "source": [
    "%%capture\n",
    "\n",
    "%env OPENAI_API_KEY = {openai_api_key}\n"
   ]
  },
  {
   "cell_type": "code",
   "execution_count": 90,
   "metadata": {},
   "outputs": [],
   "source": [
    "from langchain_openai import ChatOpenAI\n",
    "\n",
    "llm = ChatOpenAI(model=\"gpt-4o-mini\")"
   ]
  },
  {
   "cell_type": "code",
   "execution_count": 91,
   "metadata": {},
   "outputs": [],
   "source": [
    "from langchain_huggingface import HuggingFaceEmbeddings\n",
    "from langchain_openai import OpenAIEmbeddings\n",
    "\n",
    "# For English: HuggingFace Embedding\n",
    "embeddings_eng = HuggingFaceEmbeddings(model_name=\"sentence-transformers/all-mpnet-base-v2\")\n",
    "\n",
    "# For Korean: OpenAI Embedding\n",
    "embeddings_kor = OpenAIEmbeddings(model=\"text-embedding-3-large\")"
   ]
  },
  {
   "cell_type": "code",
   "execution_count": 92,
   "metadata": {},
   "outputs": [],
   "source": [
    "from langchain.document_loaders import CSVLoader\n",
    "\n",
    "# Loader for the HS code dataset\n",
    "loader_kor = CSVLoader(r\"../guidance_for_environmental_impact_factor_mapping_on_aws/assets/datasets/Korean_HSCode_kor_6digits.csv\")\n",
    "# loader_eng = CSVLoader(r\"../guidance_for_environmental_impact_factor_mapping_on_aws/assets/datasets/Korean_HSCode_eng.csv\")"
   ]
  },
  {
   "cell_type": "code",
   "execution_count": 93,
   "metadata": {},
   "outputs": [],
   "source": [
    "# documents_eng = loader_eng.load()\n",
    "documents_kor = loader_kor.load()"
   ]
  },
  {
   "cell_type": "code",
   "execution_count": 94,
   "metadata": {},
   "outputs": [],
   "source": [
    "# # 첫 번째 실행에서만!!!\n",
    "from langchain_community.vectorstores import FAISS\n",
    "\n",
    "# Make FAISS vectorstore\n",
    "# vector_store_eng = FAISS.from_documents(documents_eng, embeddings_eng)\n",
    "\n",
    "# save db to local (UN의 HSCode db랑 구분하기 위해 KORHS를 붙임)"
   ]
  },
  {
   "cell_type": "code",
   "execution_count": 95,
   "metadata": {},
   "outputs": [],
   "source": [
    "# Make FAISS vectorstore- kor\n",
    "vector_store_kor = FAISS.from_documents(documents_kor, embeddings_kor)\n",
    "\n",
    "# save db to local (UN의 HSCode db랑 구분하기 위해 KORHS를 붙임)\n",
    "vector_store_kor.save_local('./db/faiss_KORHS_kor_6digits')"
   ]
  },
  {
   "cell_type": "code",
   "execution_count": 114,
   "metadata": {},
   "outputs": [],
   "source": [
    "# Load the DB from local\n",
    "# 두 번째 실행부터는 위 셀 실행하지 않고 이 셀만 실행\n",
    "from langchain_community.vectorstores import FAISS\n",
    "\n",
    "# vector_store_eng = FAISS.load_local(\n",
    "#     folder_path=\"./db/faiss_KORHS_eng\",\n",
    "#     index_name=\"index\",\n",
    "#     embeddings=embeddings_eng,\n",
    "#     allow_dangerous_deserialization=True,\n",
    "# )\n",
    "\n",
    "vector_store_kor = FAISS.load_local(\n",
    "    folder_path=\"./db/faiss_KORHS_kor_6digits\",\n",
    "    index_name=\"index\",\n",
    "    embeddings=embeddings_kor,\n",
    "    allow_dangerous_deserialization=True,\n",
    ")"
   ]
  },
  {
   "cell_type": "code",
   "execution_count": 97,
   "metadata": {},
   "outputs": [],
   "source": [
    "from langchain_core.documents import Document\n",
    "from typing_extensions import List, TypedDict\n",
    "\n",
    "\n",
    "class State(TypedDict):\n",
    "    activity: str\n",
    "    clean_desc: str\n",
    "    best3: List[Document]\n",
    "    answer: str"
   ]
  },
  {
   "cell_type": "code",
   "execution_count": 98,
   "metadata": {},
   "outputs": [],
   "source": [
    "from langchain_core.prompts import PromptTemplate\n",
    "\n",
    "# Prompt to choose the best emission factor from the options\n",
    "best_eif_prompt_ENG = \"\"\"You are a Lifecycle Analysis expert matching grocery products to their Harmonized System (HS) Codes.\n",
    "\n",
    "I want to do of LCA of grocery products based on Environmentally Extended Input Output (EEIO) Environmental Impact Factors (EIF). I am interested in the environmental impact associated with the materials and manufacturing phase of the product. I am given a grocery product and three possible corresponding HS codes and descriptions. \n",
    "\n",
    "I want to pick the HS code and description that best match the given product. Include justification for your choice.\n",
    "Format the output in JSON with the keys BestHSCode, BestHSDescription, Justification.\n",
    "\n",
    "Product:\n",
    "{clean_desc}\n",
    "\n",
    "Possible HS codes and titles:\n",
    "{best3}\n",
    "\n",
    "Which of these HS Codes is the best match for the provided product? \n",
    "\n",
    "Make the most of the given information. DO NOT say that information is limited or ask for more information.\n",
    "YOU MUST choose a best code and title. YOU MUST include a justification for your choice.\n",
    "Avoid filler words such as \"Based on the details\" or \"happy to assist\", keep your response to the point.\n",
    "Do not repeat the given instructions or information. \n",
    "DO NOT say you have insufficient information for an LCA.\n",
    "\n",
    "Respond with the JSON output and nothing else.\n",
    "\"\"\"\n",
    "\n",
    "best_eif_prompt_KOR = \"\"\"너는 식료품을 HS 코드로 분류하는 전과정영향평가(Life Cycle Analysis, LCA) 전문가야.\n",
    "\n",
    "나는 환경 확장 투입 산출(Environmentally Extended Input Output, EEIO) 환경 영향 계수(Environmental Impact Factors, EIF)를 기반으로 한 식료품의 전과정영향평가를 수행하고 싶어. 나는 식료품의 재료 및 제조 단계와 관련된 환경적 영향에 관심 있어. 나는 하나의 물품과 이에 해당할 가능성이 있는 세 가지 HS 코드 및 항목명을 받았어.\n",
    "\n",
    "나는 주어진 물품에 가장 적합한 HS 코드와 항목명을 선택하고 싶어. 선택에 대한 근거를 함께 설명해야 해.\n",
    "출력 형식은 JSON으로, 키는 \"가장_적합한_HS_코드\", \"가장_적합한_HS_항목명\", \"판단_근거\"야.\n",
    "\n",
    "물품:\n",
    "{clean_desc}\n",
    "\n",
    "가능한 HS 코드 및 항목명:\n",
    "{best3}\n",
    "\n",
    "다음 중 제공된 물품과 가장 적합한 HS 코드는 무엇이지?\n",
    "\n",
    "주어진 정보를 최대한 활용해. 정보가 제한되어 있다고 말하거나 추가 정보를 요청하지 마.\n",
    "가장 적합한 코드와 항목명 선택해야 해. 선택에 대한 근거를 반드시 포함해야 해.\n",
    "“세부 사항에 따라” 또는 ‘기꺼이 도와드리겠습니다’와 같은 미사여구는 피하고 요점에 집중하여 답변해.\n",
    "주어진 지침이나 정보를 반복하지 마.\n",
    "전과정영향평가에 필요한 정보가 충분하지 않다고 말하지 마.\n",
    "다른 말 없이 JSON 출력으로만 응답해.\"\"\"\n",
    "\n",
    "best_eif_prompt_ENG = PromptTemplate.from_template(best_eif_prompt_ENG)\n",
    "best_eif_prompt_KOR = PromptTemplate.from_template(best_eif_prompt_KOR)\n"
   ]
  },
  {
   "cell_type": "code",
   "execution_count": 123,
   "metadata": {},
   "outputs": [],
   "source": [
    "# Prompt to clean activity names and descriptions into a simple activity description to be matched in the next step.\n",
    "clean_text_prompt_ENG = \"\"\"I want to do of LCA of grocery products based on Environmentally Extended Input Output (EEIO) \n",
    "Environmental Impact Factors (EIF). I am interested in the environmental impact associated with the materials \n",
    "and manufacturing phase of the product. I am given grocery product names, and I want to \n",
    "paraphrase it to a plain language description before I select an EIF. \n",
    "\n",
    "Below is an example, inside <example></example> XML tags, of a given product name, and its plain language descriptions. Note that the descriptions \n",
    "are brief, and do not make any assumptions about the product.\n",
    "\n",
    "<example>\n",
    "PRODUCT_NAME            Gloves Work Mechanic Synthetic Leather SZ Large\n",
    "\n",
    "The item is a synthetic leather large work gloves \n",
    "</example>\n",
    "\n",
    "Following the example, provide a plain language description of the product data given below:\n",
    "{activity}\n",
    "\n",
    "Make the most of the given information. DO NOT say that information is limited.\n",
    "DO NOT refrain from providing a description, or ask for more information.\n",
    "If you cannot provide a plain language description, simply summarize the \n",
    "information provided. You MUST provide a description. \n",
    "DO NOT include the xml tags in your response.\n",
    "\n",
    "Avoid filler words such as \"Based on the details\" or \"happy to assist\", \n",
    "keep your response to the point.\n",
    "Do not repeat the given instructions or information. \n",
    "DO NOT say you have insufficient information for an LCA.\n",
    "\n",
    "Only provide the description and nothing else.\"\"\"\n",
    "\n",
    "clean_text_prompt_KOR = \"\"\"나는 환경 확장 투입 산출(Environmentally Extended Input Output, EEIO) 환경 영향 요인(Environmental Impact Factors, EIF)을 기반으로 한 식료품의 전과정영향평가(LCA)를 수행하려고 해. \n",
    "나는 식료품의 재료 및 제조 단계와 관련된 환경적 영향을 알고 싶어. 나는 식료품의 품목명을 받았고, \n",
    "이를 평이한 언어로 바꾸어 다시 서술한 후에 환경 영향 요인을 선택하려고 해.\n",
    "\n",
    "아래는 <example></example> XML 태그 안에 제공된 품목명과 그 평이한 언어 설명의 예시야. \n",
    "설명은 간결하며, 활동에 대한 어떠한 가정도 포함하지 않는다는 점을 주목해.\n",
    "\n",
    "<example>  \n",
    "품목명                                     SZ 작업용 합성가죽 장갑, 대형  \n",
    "\n",
    "이 품목은 장갑으로, 합성 가죽으로 만든 대형 작업용 장갑입니다. \n",
    "\n",
    "</example>  \n",
    "\n",
    "위 예시를 참고하여, 아래에 제공된 식료품 데이터를 평이한 언어로 설명해:  \n",
    "{activity}  \n",
    "\n",
    "제공된 정보를 최대한 활용해. 정보가 제한적이라고 말하지 마.  \n",
    "설명을 제공하지 않거나 추가 정보를 요청하지 마.\n",
    "평이한 언어 설명을 제공할 수 없는 경우, 단순히 제공된 정보를 요약해. 반드시 설명을 제공해야 해. \n",
    "XML 태그는 응답에 포함하지 마. \n",
    "\n",
    "\"세부 사항에 따르면\" 또는 \"도움을 드릴 수 있어 기쁩니다\"와 같은 군더더기 표현을 피하고, 응답을 간결하게 작성해.  \n",
    "주어진 지침이나 정보를 반복하지 마.  \n",
    "전과정영향평가에 대해 정보가 부족하다고 언급하지 마.  \n",
    "\n",
    "설명만 제공하고, 그 외에는 아무것도 작성하지 마.\"\"\"\n",
    "\n",
    "clean_text_prompt_ENG = PromptTemplate.from_template(clean_text_prompt_ENG)\n",
    "clean_text_prompt_KOR = PromptTemplate.from_template(clean_text_prompt_KOR)\n"
   ]
  },
  {
   "cell_type": "code",
   "execution_count": 100,
   "metadata": {},
   "outputs": [],
   "source": [
    "def clean_eng(state: State):\n",
    "    messages = clean_text_prompt_ENG.invoke({\"activity\": state[\"activity\"]})\n",
    "    response = llm.invoke(messages)\n",
    "    return {\"clean_desc\": response.content}\n",
    "\n",
    "def retrieve_eng(state: State):\n",
    "    clean_desc = state[\"clean_desc\"]\n",
    "    best3_prompt_text = f\"What are three possible HS Codes for the given product description: {clean_desc}\"\n",
    "    retrieved_docs = vector_store_eng.similarity_search(best3_prompt_text, 3) # 3\n",
    "    return {\"best3\": retrieved_docs}\n",
    "\n",
    "\n",
    "def generate_eng(state: State):\n",
    "    docs_content = \"\\n\\n\".join(doc.page_content for doc in state[\"best3\"])\n",
    "    messages = best_eif_prompt_ENG.invoke({\"clean_desc\": state[\"clean_desc\"], \"best3\": docs_content})\n",
    "    response = llm.invoke(messages)\n",
    "    return {\"answer\": response.content}"
   ]
  },
  {
   "cell_type": "code",
   "execution_count": 124,
   "metadata": {},
   "outputs": [],
   "source": [
    "def clean_kor(state: State):\n",
    "    messages = clean_text_prompt_KOR.invoke({\"activity\": state[\"activity\"]})\n",
    "    response = llm.invoke(messages)\n",
    "    return {\"clean_desc\": response.content}\n",
    "\n",
    "def retrieve_kor(state: State):\n",
    "    clean_desc = state[\"clean_desc\"]\n",
    "    best3_prompt_text = f\"다음 품목에 해당할 가능성이 가장 높은 세 가지 HS 코드 및 항목명은?: {clean_desc}\"\n",
    "    retrieved_docs = vector_store_kor.similarity_search(best3_prompt_text, 3) # 3\n",
    "    return {\"best3\": retrieved_docs}\n",
    "\n",
    "\n",
    "def generate_kor(state: State):\n",
    "    docs_content = \"\\n\\n\".join(doc.page_content for doc in state[\"best3\"])\n",
    "    messages = best_eif_prompt_KOR.invoke({\"clean_desc\": state[\"clean_desc\"], \"best3\": docs_content})\n",
    "    response = llm.invoke(messages)\n",
    "    return {\"answer\": response.content}"
   ]
  },
  {
   "cell_type": "code",
   "execution_count": 125,
   "metadata": {},
   "outputs": [],
   "source": [
    "from langgraph.graph import START, StateGraph\n",
    "\n",
    "# graph_builder_eng = StateGraph(State).add_sequence([clean_eng, retrieve_eng, generate_eng])\n",
    "# graph_builder_eng.add_edge(START, \"clean_eng\")\n",
    "# graph_eng = graph_builder_eng.compile()\n",
    "\n",
    "graph_builder_kor = StateGraph(State).add_sequence([clean_kor, retrieve_kor, generate_kor])\n",
    "graph_builder_kor.add_edge(START, \"clean_kor\")\n",
    "graph_kor = graph_builder_kor.compile()"
   ]
  },
  {
   "cell_type": "code",
   "execution_count": 126,
   "metadata": {},
   "outputs": [
    {
     "data": {
      "image/png": "[encoded data removed]",
      "text/plain": [
       "<IPython.core.display.Image object>"
      ]
     },
     "metadata": {},
     "output_type": "display_data"
    }
   ],
   "source": [
    "from IPython.display import Image, display\n",
    "\n",
    "display(Image(graph_kor.get_graph().draw_mermaid_png()))"
   ]
  },
  {
   "cell_type": "code",
   "execution_count": null,
   "metadata": {},
   "outputs": [
    {
     "data": {
      "text/plain": [
       "'PRODUCT_NAME: Oatmeal White Rice, 210 g, 24 packets'"
      ]
     },
     "execution_count": 26,
     "metadata": {},
     "output_type": "execute_result"
    }
   ],
   "source": [
    "# Loader for the input activities dataset\n",
    "from langchain.document_loaders import CSVLoader\n",
    "\n",
    "input_loader_eng = CSVLoader(r\"../guidance_for_environmental_impact_factor_mapping_on_aws/assets/input/coupang_product_names_groceries_v3_eng.csv\", encoding='utf-8-sig')\n",
    "input_doc_eng = input_loader_eng.load()\n",
    "\n",
    "input_doc_eng[0].page_content"
   ]
  },
  {
   "cell_type": "code",
   "execution_count": 127,
   "metadata": {},
   "outputs": [
    {
     "data": {
      "text/plain": [
       "'품목명: 오뚜기 흰밥, 210g, 24개'"
      ]
     },
     "execution_count": 127,
     "metadata": {},
     "output_type": "execute_result"
    }
   ],
   "source": [
    "input_loader_kor = CSVLoader(r\"../guidance_for_environmental_impact_factor_mapping_on_aws/assets/input/coupang_product_names_groceries_v3_kor.csv\", encoding='utf-8-sig')\n",
    "input_doc_kor = input_loader_kor.load()\n",
    "\n",
    "input_doc_kor[0].page_content"
   ]
  },
  {
   "cell_type": "code",
   "execution_count": null,
   "metadata": {},
   "outputs": [
    {
     "name": "stdout",
     "output_type": "stream",
     "text": [
      "Final results: [{'ProductName': 'PRODUCT_NAME: Oatmeal White Rice, 210 g, 24 packets', 'CleanDescription': 'The product is a package of oatmeal white rice containing 24 individual packets, with a total weight of 210 grams.', 'Best3': 'HSCode: 1901909010\\nDescription: Food preparations; flour, meal, starch, malt extract or dairy products, except for uses described in heading no. 1901; Miscellaneous; Oatmeal\\nHSCode: 1006400000\\nDescription: Grain; rice, broken; broken rice\\nHSCode: 1006100000\\nDescription: grain; hulled rice (rice or coarse rice); rice', 'Answer': '```json\\n{\\n  \"BestHSCode\": \"1901909010\",\\n  \"BestHSDescription\": \"Food preparations; flour, meal, starch, malt extract or dairy products, except for uses described in heading no. 1901; Miscellaneous; Oatmeal\",\\n  \"Justification\": \"The product is a package of oatmeal white rice, which includes oatmeal as a key ingredient. The HS code 1901909010 specifically pertains to food preparations that include oatmeal, making it the most relevant choice compared to the other codes that focus solely on rice.\"\\n}\\n```'}, {'ProductName': 'PRODUCT_NAME: Shin Ramen, 120 g, 30 packets', 'CleanDescription': 'The item is a pack of 30 Shin Ramen noodles, each weighing 120 grams.', 'Best3': 'HSCode: 3707100000\\nDescription: Photographic merchandise; sensitive emulsions; merchandise put up for retail sale in metered portions or in ready-to-use form; photosensitive emulsions\\nHSCode: 3707902090\\nDescription: Photographic merchandise; chemical preparations, other than sensitive emulsions, when placed up for retail sale in measured portions or in ready-to-use form; developers; etc.\\nHSCode: 4820400000\\nDescription: Paper and cardboard; assorted business forms and interleaved carbon sets; assorted business forms and interleaved carbon sets', 'Answer': '```json\\n{\\n  \"BestHSCode\": \"3707100000\",\\n  \"BestHSDescription\": \"Photographic merchandise; sensitive emulsions; merchandise put up for retail sale in metered portions or in ready-to-use form; photosensitive emulsions\",\\n  \"Justification\": \"None of the provided HS codes directly match food products, but HSCode 3707100000 pertains to merchandise sold in portions, which is somewhat analogous to the packaging of Shin Ramen noodles. The other codes relate to photographic merchandise, which is unrelated to grocery items.\"\\n}\\n```'}, {'ProductName': 'PRODUCT_NAME: Spam 25% light, 9', 'CleanDescription': 'The item is a light version of Spam, with 25% less fat, sold in a 9-ounce container.', 'Best3': 'HSCode: 401501000\\nDescription: Dairy products; milk and cream, undiluted and without added sugar or other sweeteners, if fat content exceeds 10% by weight; frozen cream\\nHSCode: 402101010\\nDescription: Dairy products; milk and cream added or concentrated with sugar or other sweeteners in powdered, granulated, or other solid form not exceeding 1.5% (by weight) fat content; without added sugar or other sweeteners; skimmed milk powder\\nHSCode: 401509000\\nDescription: Dairy products; milk and cream, undiluted and without added sugar or other sweeteners, if fat content exceeds 10% by weight; other', 'Answer': '```json\\n{\\n  \"BestHSCode\": \"401509000\",\\n  \"BestHSDescription\": \"Dairy products; milk and cream, undiluted and without added sugar or other sweeteners, if fat content exceeds 10% by weight; other\",\\n  \"Justification\": \"The product is a light version of Spam, which is typically a processed meat product rather than a dairy product. However, among the provided options, HSCode 401509000 focuses on dairy products without added sugar, which aligns more closely with the concept of a processed food item that may include components like milk or cream as part of its formulation. The other codes relate specifically to milk and cream with defined sugar content and fat content, which does not apply to a meat product like Spam.\"\\n}\\n```'}, {'ProductName': 'PRODUCT_NAME: Dongwon chili tuna, 85 g, 8 ounces', 'CleanDescription': 'The item is an 85-gram can of Dongwon chili tuna.', 'Best3': 'HSCode: 3605000000\\nDescription: Matches, other, heading no. 3604; matches, except chemicals, of heading 3604\\nHSCode: 203120000\\nDescription: Meat; pork, ham, shoulder, and cuts thereof, fresh or refrigerated, with bones; pork leg and shoulder meat and cuts thereof, with bones only\\nHSCode: 3921909090\\nDescription: Plastics; Plates, Sheets, Films, Foils &amp; Strips (except Cellular); Other; Other', 'Answer': '```json\\n{\\n  \"BestHSCode\": \"3605000000\",\\n  \"BestHSDescription\": \"Matches, other, heading no. 3604; matches, except chemicals, of heading 3604\",\\n  \"Justification\": \"The product is an 85-gram can of Dongwon chili tuna, which falls under processed food products. The HS code 3605000000 pertains to matches, which can also be used for various food items that are not categorized under specific meat or plastic classifications. The other two options do not relate to seafood or processed fish products, making this the most appropriate choice.\"\\n}\\n```'}, {'ProductName': 'PRODUCT_NAME: Prospector Unlabeled, 2L, 24 pieces', 'CleanDescription': 'The item is a pack of 24 liters of an unlabeled product.', 'Best3': 'HSCode: 4820400000\\nDescription: Paper and cardboard; assorted business forms and interleaved carbon sets; assorted business forms and interleaved carbon sets\\nHSCode: 3923100000\\nDescription: Plastic, boxes, cases, crates and similar articles for transporting or packaging goods; crates, cases, baskets and similar articles\\nHSCode: 3707902090\\nDescription: Photographic merchandise; chemical preparations, other than sensitive emulsions, when placed up for retail sale in measured portions or in ready-to-use form; developers; etc.', 'Answer': '```json\\n{\\n  \"BestHSCode\": \"3923100000\",\\n  \"BestHSDescription\": \"Plastic, boxes, cases, crates and similar articles for transporting or packaging goods; crates, cases, baskets and similar articles\",\\n  \"Justification\": \"The product is a pack of 24 liters of an unlabeled product, which likely requires packaging for transport and storage. The HS code 3923100000 pertains to plastic articles used for packaging, making it the most relevant choice. The other codes relate to business forms and photographic merchandise, which do not apply to a grocery product.\"\\n}\\n```'}, {'ProductName': 'PRODUCT_NAME: Thicker Short Ribs (frozen), 600 g, 5 pieces', 'CleanDescription': 'The item is a package of thicker frozen short ribs weighing 600 grams, containing 5 pieces.', 'Best3': 'HSCode: 203220000\\nDescription: Meat; pork, ham, shoulder, and cuts thereof, frozen with bones; pork leg and shoulder, and cuts thereof, with bones only\\nHSCode: 203120000\\nDescription: Meat; pork, ham, shoulder, and cuts thereof, fresh or refrigerated, with bones; pork leg and shoulder meat and cuts thereof, with bones only\\nHSCode: 2301101000\\nDescription: Flour, meal and pellets; meat or meat offal, fat; fine or coarse powder or pellets of meat or offal', 'Answer': '```json\\n{\\n  \"BestHSCode\": \"203220000\",\\n  \"BestHSDescription\": \"Meat; pork, ham, shoulder, and cuts thereof, frozen with bones; pork leg and shoulder, and cuts thereof, with bones only\",\\n  \"Justification\": \"The product is a package of thicker frozen short ribs, which indicates that it consists of pork meat that is frozen and includes bones. HS Code 203220000 specifically refers to frozen pork with bones, making it the most accurate match for the product compared to the other options that refer to fresh or refrigerated meat or meat offal.\"\\n}\\n```'}, {'ProductName': 'PRODUCT_NAME: Blue Diamond Almond Breeze Original, 190 ml, 24 pieces', 'CleanDescription': 'The item is a pack of 24 pieces of 190 ml original almond milk from the brand Blue Diamond.', 'Best3': 'HSCode: 402101010\\nDescription: Dairy products; milk and cream added or concentrated with sugar or other sweeteners in powdered, granulated, or other solid form not exceeding 1.5% (by weight) fat content; without added sugar or other sweeteners; skimmed milk powder\\nHSCode: 401501000\\nDescription: Dairy products; milk and cream, undiluted and without added sugar or other sweeteners, if fat content exceeds 10% by weight; frozen cream\\nHSCode: 402211000\\nDescription: Dairy products; concentrated milk and cream without added sugar or other sweeteners, in powder, granular or other solid form, with a fat content in excess of 1.5% (by weight); whole milk powder', 'Answer': '```json\\n{\\n  \"BestHSCode\": \"402101010\",\\n  \"BestHSDescription\": \"Dairy products; milk and cream added or concentrated with sugar or other sweeteners in powdered, granulated, or other solid form not exceeding 1.5% (by weight) fat content; without added sugar or other sweeteners; skimmed milk powder\",\\n  \"Justification\": \"The product is almond milk, which is a plant-based alternative to dairy milk. However, the closest match among the provided HS codes relates to dairy products, specifically those involving milk and cream in various forms. The first HS code (402101010) pertains to milk products without added sugar, which aligns more closely with almond milk\\'s nature as a dairy alternative compared to the other two codes, which refer to higher-fat dairy products.\"\\n}\\n```'}, {'ProductName': 'PRODUCT_NAME: Bibigo King Gyoza (frozen), 1.05 kg, 2 pieces', 'CleanDescription': 'The item is a 1.05 kg package of frozen Bibigo King Gyoza, consisting of 2 pieces.', 'Best3': 'HSCode: 203220000\\nDescription: Meat; pork, ham, shoulder, and cuts thereof, frozen with bones; pork leg and shoulder, and cuts thereof, with bones only\\nHSCode: 511999030\\nDescription: Animal products, see Chapter 5; other; carcasses of animals (except carcasses of third class goods)\\nHSCode: 203210000\\nDescription: Meat; pork, carcasses and semi-carcasses, frozen; carcasses (屠體) and bisected carcasses (二分屠體)', 'Answer': '```json\\n{\\n  \"BestHSCode\": \"203220000\",\\n  \"BestHSDescription\": \"Meat; pork, ham, shoulder, and cuts thereof, frozen with bones; pork leg and shoulder, and cuts thereof, with bones only\",\\n  \"Justification\": \"The product is a package of frozen gyoza, which typically contains pork as a primary ingredient. HS Code 203220000 specifically refers to frozen pork cuts, making it the most relevant choice for a product that includes meat components. The other options refer to broader categories of meat or carcasses, which do not specifically match the processed nature of gyoza.\"\\n}\\n```'}, {'ProductName': 'PRODUCT_NAME: 11 brix tangerines, 2 kg (royal family), 1 tangerine per tangerine tartness scale', 'CleanDescription': 'The item is a 2 kg package of 11 brix tangerines, which are sweet and flavorful with a tartness scale rating of 1 tangerine.', 'Best3': 'HSCode: 2009410000\\nDescription: Juice; unfermented (unalcoholized) pineapple juice not exceeding 20 Brix, whether or not sugar or other sweeteners have been added; with a Brix value of 20 or less\\nHSCode: 2009490000\\nDescription: Juice; pineapple, unalcoholized, unfermented, with a brix value in excess of 20, whether or not sugar or other sweeteners have been added; etc.\\nHSCode: 2009710000\\nDescription: Juice; unfermented (unalcoholized) apple juice not exceeding 20 Brix, whether or not sugar or other sweeteners have been added; with a Brix value of 20 or less', 'Answer': '```json\\n{\\n  \"BestHSCode\": \"2009410000\",\\n  \"BestHSDescription\": \"Juice; unfermented (unalcoholized) pineapple juice not exceeding 20 Brix, whether or not sugar or other sweeteners have been added; with a Brix value of 20 or less\",\\n  \"Justification\": \"The product is a 2 kg package of tangerines, which are fruit, and while the HS code pertains to pineapple juice, it is the only code that matches the category of fruit juice with a Brix value not exceeding 20. The Brix scale indicates the sugar content in fruit juices and is relevant for the tangerines, which are sweet and flavorful, aligning with the content description of the HS code.\"\\n}\\n```'}, {'ProductName': 'PRODUCT_NAME: Damter Walnut Almond Yulmucha, 18 g, 50 Count, 1', 'CleanDescription': 'The item is a pack of 50 Yulmucha snacks made with walnut and almond, weighing 18 grams each.', 'Best3': 'HSCode: 802800000\\nDescription: Nuts, edible; areca nuts, shelled or unshelled, fresh or dried; areca nut\\nHSCode: 1704901000\\nDescription: Sugary confections that do not contain cocoa (except chewing gum, including white chocolate); licorice extract (except those made into confections)\\nHSCode: 1806201000\\nDescription: Chocolate and other food preparations containing cocoa, in blocks, slabs, or bars, or in liquid, paste, powder, granules, or other bulk form, in containers or ready-to-use packages, the contents of which exceed 2 kilograms; chocolate and chocolate confections', 'Answer': '```json\\n{\\n  \"BestHSCode\": \"802800000\",\\n  \"BestHSDescription\": \"Nuts, edible; areca nuts, shelled or unshelled, fresh or dried; areca nut\",\\n  \"Justification\": \"The product consists of snacks made with walnut and almond, which are considered edible nuts. The HS code 802800000 specifically covers edible nuts, making it the most appropriate choice for the materials used in the Yulmucha snacks.\"\\n}\\n```'}]\n"
     ]
    }
   ],
   "source": [
    "import re  # For extracting fields from page_content\n",
    "\n",
    "# Initialize results storage\n",
    "results_eng = []\n",
    "\n",
    "# Process each row using the graph\n",
    "for doc in input_doc_eng:\n",
    "    # # Extract CommodityDescription from the page_content using regex\n",
    "    # match = re.search(r\"CommodityDescription: (.+)\", doc.page_content)\n",
    "    # activity = match.group(1).strip() if match else None  # Extract the description\n",
    "\n",
    "    activity = doc.page_content # Extract the Product Name\n",
    "\n",
    "    if activity:\n",
    "        # print(f\"Processing activity: {activity}\")  # Debugging: print the activity\n",
    "        # Invoke the graph\n",
    "        result = graph_eng.invoke({\"activity\": activity})\n",
    "        \n",
    "        # Extract context and answer from the state after processing\n",
    "        results_eng.append({\n",
    "            \"ProductName\": activity,\n",
    "            \"CleanDescription\": result.get(\"clean_desc\", \"\"),\n",
    "            \"Best3\": \"\\n\".join(doc.page_content for doc in result.get(\"best3\", \"\")),\n",
    "            \"Answer\": result.get(\"answer\", \"\")\n",
    "        })\n",
    "\n",
    "# Print the results for debugging\n",
    "print(\"Final results:\", results_eng)"
   ]
  },
  {
   "cell_type": "code",
   "execution_count": 129,
   "metadata": {},
   "outputs": [
    {
     "name": "stdout",
     "output_type": "stream",
     "text": [
      "Final results: [{'ProductName': '품목명: 오뚜기 흰밥, 210g, 24개', 'CleanDescription': '오뚜기 흰밥은 210g의 용량으로 포장된 흰 쌀밥이며, 한 박스에 24개가 들어 있습니다.', 'Best3': '코드: 100640\\n설명: 곡물; 쌀, 깨진; 쇄미(broken rice)\\n코드: 110630\\n설명: 밀가루, 식사 및 분말; 8장의 제품 중; 제8류 물품의 것\\n코드: 110610\\n설명: 밀가루, 식사 및 분말; 제목의 말린 콩과 식물성 채소 중 번호. 0713; 건조한 채두류(菜豆類)의 것(제0713호의 것으로 한정한다)', 'Answer': '```json\\n{\\n  \"가장_적합한_HS_코드\": \"100640\",\\n  \"가장_적합한_HS_항목명\": \"곡물; 쌀, 깨진; 쇄미(broken rice)\",\\n  \"판단_근거\": \"오뚜기 흰밥은 쌀로 만든 제품으로, HS 코드 100640이 쌀과 관련된 항목으로 가장 적합합니다. 다른 두 코드(110630 및 110610)는 밀가루 및 분말과 관련된 제품으로, 흰밥과는 관련이 없습니다.\"\\n}\\n```'}, {'ProductName': '품목명: 신라면 120g, 30개', 'CleanDescription': '신라면은 120g의 용량으로 포장된 인스턴트 면 제품으로, 30개가 들어 있는 묶음입니다.', 'Best3': '코드: 190230\\n설명: 음식 준비물; 파스타(박제 제외), 조리 또는 기타 조리된 음식; 인스탄트 면류;라면, 기타, 기타\\n코드: 110630\\n설명: 밀가루, 식사 및 분말; 8장의 제품 중; 제8류 물품의 것\\n코드: 210390\\n설명: 소스 및 이를 위한 준비물; 혼합 조미료 및 혼합 조미료; 장류;된장, 춘장, 고추장, 기타, 기타;마요네스, 인스턴트 카레, 혼합조미료, 메주, 기타', 'Answer': '```json\\n{\\n  \"가장_적합한_HS_코드\": \"190230\",\\n  \"가장_적합한_HS_항목명\": \"음식 준비물; 파스타(박제 제외), 조리 또는 기타 조리된 음식; 인스탄트 면류;라면, 기타, 기타\",\\n  \"판단_근거\": \"신라면은 인스턴트 면 제품으로, HS 코드 190230은 인스턴트 면류를 포함하고 있어 가장 적합합니다. 다른 두 코드는 밀가루 및 조미료에 해당하며, 신라면의 주된 성격을 반영하지 않습니다.\"\\n}\\n```'}, {'ProductName': '품목명: 스팸 25% 라이트, 9개', 'CleanDescription': '스팸 25% 라이트, 9개는 25%의 지방 함량이 낮춘 스팸 제품으로, 9개의 개별 포장이 포함된 식료품입니다.', 'Best3': '코드: 150420\\n설명: 지방 및 유지류 및 그 분획물, 생선(간유 제외); 어류의 지방과 기름 및 그 분획물[간유(肝油)는 제외한다]\\n코드: 110630\\n설명: 밀가루, 식사 및 분말; 8장의 제품 중; 제8류 물품의 것\\n코드: 150430\\n설명: 지방과 기름 및 그 분획물; 해양 포유류의 경우; 고래기름과 그 분획물, 기타', 'Answer': '```json\\n{\\n  \"가장_적합한_HS_코드\": \"150420\",\\n  \"가장_적합한_HS_항목명\": \"지방 및 유지류 및 그 분획물, 생선(간유 제외); 어류의 지방과 기름 및 그 분획물[간유(肝油)는 제외한다]\",\\n  \"판단_근거\": \"스팸 제품은 주로 돼지고기와 지방으로 구성되어 있으며, HS 코드 150420은 지방 및 유지류와 관련이 있습니다. 이 코드가 스팸 제품의 지방 함량과 제조 과정에 적합하므로 가장 적합한 선택입니다.\"\\n}\\n```'}, {'ProductName': '품목명: 동원 라이트 스탠다드 참치, 85g, 8개', 'CleanDescription': '동원 라이트 스탠다드 참치는 85g 용량의 참치가 8개 들어 있는 제품입니다.', 'Best3': '코드: 030349\\n설명: 생선; 냉동, 참치, 품목 번호. 0303.4, 필레, 0304의 어육 및 세번 0303.91 내지 0303.99의 식용 어 내장을 제외한 것; 기타\\n코드: 030389\\n설명: 생선; 냉동, 세번 0303호의 필레, 0304호의 어육 및 세번 0303.91 내지 0303.99호의 식용 어 내장 제외; 은대구, 갈치, 돔;옥돔[브랜치오스테거스 자포니커스(Branchiostegus Japonicus)], 옥두어[브랜치오스테거스 알부스(Branchiostegus albus)], 기타, 붕장어, 조기;참조기[라리미크티스 폴리악티스(Larimichthys polyactis)], 부세[라리미크티스 크로세아(Larimichthys crocea)], 기타, 학꽁치(Hyporhampus sajori), 복어, 기타; 보리멸, 홍살치, 달고기, 임연수어, 볼낙(적어를 포함한다), 아귀, 먹장어(대서양 또는 태평양), 밀크피쉬, 기타 ;  기타 ;  민어,  기타 ;  까나리,  기타 ;  이빨고기[디소스티쿠스(Dissostichus)속은 제외한다],  기타 ;기타;보리멸, 홍살치, 달고기, 임연수어, 볼낙(적어를 포함한다), 아귀, 먹장어(대서양 또는 태평양), 밀크피쉬, 기타 ; 기타 ; 민어,  기타 ; 까나리,  기타 ; 이빨고기[디소스티쿠스(Dissostichus)속은 제외한다],  기타 ; 기타\\n코드: 030489\\n설명: 생선 필레; 냉동, 기타의 생선 세번 0304.8에 해당하는 것; 붕장어의 것, 이빨고기[디소스티쿠스(Dissostichus)속은 제외한다]의 것, 틸라피아[오레오크로미스(Oreochromis)속은 제외한다]의 것, 쥐치의 것, 고등어의 것, 기타', 'Answer': '```json\\n{\\n  \"가장_적합한_HS_코드\": \"030349\",\\n  \"가장_적합한_HS_항목명\": \"생선; 냉동, 참치, 품목 번호. 0303.4, 필레, 0304의 어육 및 세번 0303.91 내지 0303.99의 식용 어 내장을 제외한 것; 기타\",\\n  \"판단_근거\": \"동원 라이트 스탠다드 참치는 참치 제품으로, HS 코드 030349는 냉동 참치를 포함하고 있으며, 참치의 필레와 관련된 품목입니다. 다른 코드들은 일반적인 생선 또는 특정 생선 품종에 대한 것으로, 참치와 직접적으로 관련이 없는 항목이므로 030349가 가장 적합합니다.\"\\n}\\n```'}, {'ProductName': '품목명: 동원 고추 참치, 85g, 8개', 'CleanDescription': '동원 고추 참치는 85g의 용량으로 포장된 8개의 캔으로 구성된 참치 제품입니다. 이 제품은 고추와 함께 조리된 참치가 들어 있습니다.', 'Best3': '코드: 160419\\n설명: 생선 준비물; 생선 준비 또는 보존, 통째로 또는 조각으로 (다진 것은 아님), 세번 번호의 기타. 1604; 밀폐용기에 넣은 것;꽁치, 전갱이, 기타, 기타;쥐치포, 기타\\n코드: 160415\\n설명: 생선 준비물; 고등어, 준비 또는 보존, 통째 또는 조각(다진 것은 아님); 밀폐용기에 넣은 것, 기타\\n코드: 030349\\n설명: 생선; 냉동, 참치, 품목 번호. 0303.4, 필레, 0304의 어육 및 세번 0303.91 내지 0303.99의 식용 어 내장을 제외한 것; 기타', 'Answer': '```json\\n{\\n  \"가장_적합한_HS_코드\": \"160419\",\\n  \"가장_적합한_HS_항목명\": \"생선 준비물; 생선 준비 또는 보존, 통째로 또는 조각으로 (다진 것은 아님), 세번 번호의 기타. 1604; 밀폐용기에 넣은 것;꽁치, 전갱이, 기타, 기타;쥐치포, 기타\",\\n  \"판단_근거\": \"동원 고추 참치는 조리된 참치 제품으로, 고추와 함께 보존된 상태로 밀폐용기에 포장되어 있습니다. HS 코드 160419는 생선 준비물로서 통째 또는 조각으로 보존된 생선 제품을 포함하며, 이는 해당 제품의 특성과 일치합니다. 다른 코드들은 특정 생선 종류에 국한되거나 냉동 상태의 생선을 다루고 있어 이 제품의 특성과 맞지 않습니다.\"\\n}\\n```'}, {'ProductName': '품목명: 펩시 콜라 제로슈거 라임향, 210ml, 30개', 'CleanDescription': '펩시 콜라 제로슈거 라임향은 라임 맛이 나는 탄산 음료로, 용량은 210ml이며, 30개가 들어있는 패키지입니다.', 'Best3': '코드: 210690\\n설명: 식품 준비물; 항목 번호 2106.10의 n.e.c.; 알코올을 함유하지 않은 음료의 베이스;콜라 베이스, 과일향의 음료베이스, 기타, 당시럽[향미제(香味劑)나 착색제를 첨가한 것으로 한정한다], 인삼제품류;    백삼제품류;  인삼제품류;   백삼제품류;   인삼차, 인삼제품류;   백삼제품류; 인삼제품류;   백삼제품류; 인삼제품류;  백삼제품류;  인삼차, 인삼제품류;  백삼제품류;  기타, 인삼제품류;   홍삼제품류; 인삼제품류;  홍삼제품류;  홍삼차, 인삼제품류;  홍삼제품류;인삼제품류;   백삼제품류; 인삼제품류;  백삼제품류;  인삼차, 인삼제품류;  백삼제품류;인삼제품류;  백삼제품류;인삼제품류; 백삼제품류; 인삼차, 인삼제품류; 백삼제품류; 기타, 인삼제품류;  홍삼제품류;인삼제품류; 홍삼제품류; 홍삼차, 인삼제품류; 홍삼제품류; 기타, 기타; 커피크리머, 버터를 기본 재료로 한 조제품;  버터를 기본 재료로 한 조제품;  버터 함량이 전 중량의 100분의 30 이하인 것,  버터를 기본 재료로 한 조제품;  버터 함량이 전 중량의 100분의 30 초과 100분의 70 이하인 것,  버터를 기본 재료로 한 조제품;기타;커피크리머, 버터를 기본 재료로 한 조제품; 버터를 기본 재료로 한 조제품; 버터 함량이 전 중량의 100분의 30 이하인 것,  버터를 기본 재료로 한 조제품; 버터 함량이 전 중량의 100분의 30 초과 100분의 70 이하인 것,  버터를 기본 재료로 한 조제품; 버터 함량이 전 중량의 100분의 70을 초과하는 것, 아이스크림 제조용 조제품, 자기소화효모(autolyzed yeast)와 그 밖의 효모 추출물(extract), 향미(香味)용 조제품, 도토리 가루, 알로에를 기본 재료로 한 조제품, 음료 제조용 조제품[방향성(芳香性) 물질을 기본 재료로 한 것은 제외하며, 알코올 용량이 전 용량의 100분의 0.5를 초과하는 것으로 한정한다], 로열젤리, 벌꿀조제품의 것,   기타\\n코드: 220890\\n설명: 증류주, 리큐어 및 기타 증류성 음료; n.e.c. (세번. 2208; 브랜디류(소호 제2208.20호의 것은 제외한다), 소주, 고량주, 데낄라, 기타\\n코드: 220210\\n설명: 미네랄 및 탄산수, 설탕 또는 기타 감미료 또는 향료가 첨가된 물 포함; 색깔을 입힌 것, 기타', 'Answer': '```json\\n{\\n  \"가장_적합한_HS_코드\": \"220210\",\\n  \"가장_적합한_HS_항목명\": \"미네랄 및 탄산수, 설탕 또는 기타 감미료 또는 향료가 첨가된 물 포함; 색깔을 입힌 것, 기타\",\\n  \"판단_근거\": \"펩시 콜라 제로슈거 라임향은 탄산 음료로, 설탕 대신 감미료가 첨가된 음료입니다. HS 코드 220210은 설탕이나 향료가 첨가된 탄산수 및 음료를 포함하며, 다른 두 코드(210690 및 220890)는 주로 식품 준비물이나 증류주에 해당하므로 적합하지 않습니다.\"\\n}\\n```'}, {'ProductName': '품목명: 탐사수 무라벨, 2L, 24개', 'CleanDescription': '탐사수 무라벨은 2리터 용량의 물이 담긴 제품으로, 총 24개가 들어 있는 포장입니다.', 'Best3': '코드: 285390\\n설명: 인화물, 화학적으로 정의되었든 아니든, 페로인산이 아닌 인화물; 기타 무기 화합물(증류수, 전도도수 및 이와 유사한 순도의 물 포함); 액체 공기, 희귀 가스 제거 여부; 압축 공기; 귀금속 아말감이 아닌 아말감; 증류수, 전도도수와 이와 유사한 순도의 물, 인화물(燐化物)(화학적으로 단일한 것인지에 상관없으며 인철은 제외한다), 기타\\n코드: 690912\\n설명: 세라믹 제품; 실험실, 화학 또는 기타 기술적 용도의 경우, 모스 척도에서 9 이상의 경도를 갖는 물품; 모스 경도가 9 이상인 물품\\n코드: 392330\\n설명: 플라스틱, 카보이, 병, 플라스크 및 이와 유사한 물품, 물품 운반 또는 포장용 물품; 카보이(carboy)ㆍ병ㆍ플라스크(flask)와 이와 유사한 물품', 'Answer': '```json\\n{\\n  \"가장_적합한_HS_코드\": \"285390\",\\n  \"가장_적합한_HS_항목명\": \"인화물, 화학적으로 정의되었든 아니든, 페로인산이 아닌 인화물; 기타 무기 화합물(증류수, 전도도수 및 이와 유사한 순도의 물 포함); 액체 공기, 희귀 가스 제거 여부; 압축 공기; 귀금속 아말감이 아닌 아말감; 증류수, 전도도수와 이와 유사한 순도의 물, 인화물(燐化物)(화학적으로 단일한 것인지에 상관없으며 인철은 제외한다), 기타\",\\n  \"판단_근거\": \"탐사수는 물이 담긴 제품으로, HS 코드 285390은 물을 포함한 무기 화합물에 해당하며, 특히 증류수와 유사한 순도의 물을 포함합니다. 다른 HS 코드들은 세라믹 제품이나 플라스틱 포장과 관련이 있어 해당 물품과의 연관성이 낮습니다.\"\\n}\\n```'}, {'ProductName': '품목명: 오뚜기 진라면 컵 매운맛 65g, 30개', 'CleanDescription': '오뚜기 진라면 컵 매운맛은 65g의 용량을 가진 컵라면으로, 한 박스에 30개가 들어 있습니다.', 'Best3': '코드: 110630\\n설명: 밀가루, 식사 및 분말; 8장의 제품 중; 제8류 물품의 것\\n코드: 160559\\n설명: 연체동물 제제; 항목 번호. 1605.5, 페이스트, 소시지, 준비된 식사 등과 같은 제제; 골뱅이;밀폐용기에 넣은 것, 기타, 소라;밀폐용기에 넣은 것, 기타, 기타;밀폐용기에 넣은 것, 기타\\n코드: 110610\\n설명: 밀가루, 식사 및 분말; 제목의 말린 콩과 식물성 채소 중 번호. 0713; 건조한 채두류(菜豆類)의 것(제0713호의 것으로 한정한다)', 'Answer': '```json\\n{\\n  \"가장_적합한_HS_코드\": \"160559\",\\n  \"가장_적합한_HS_항목명\": \"연체동물 제제; 항목 번호. 1605.5, 페이스트, 소시지, 준비된 식사 등과 같은 제제; 골뱅이;밀폐용기에 넣은 것, 기타, 소라;밀폐용기에 넣은 것, 기타, 기타;밀폐용기에 넣은 것, 기타\",\\n  \"판단_근거\": \"오뚜기 진라면 컵 매운맛은 즉석식품으로, 주로 가공된 재료로 만들어진 면과 수프가 포함되어 있습니다. HS 코드 160559는 가공식품과 관련되어 있으며, 특히 즉석식사 및 준비된 식사를 포함하고 있어 본 제품의 특성에 가장 적합합니다. 다른 두 코드(110630 및 110610)는 주로 원재료인 밀가루와 관련된 항목으로, 최종 소비재인 컵라면과는 맞지 않습니다.\"\\n}\\n```'}, {'ProductName': '품목명: 곰곰 더 진한 갈비탕 (냉동), 600g, 5개', 'CleanDescription': '곰곰 더 진한 갈비탕은 냉동 형태로 제공되는 갈비탕으로, 총 중량이 600g이며 5개가 포함되어 있습니다.', 'Best3': '코드: 020220\\n설명: 육류; 소 동물 중 뼈가 있는 부위(도체 및 반도체 제외), 냉동 식품; 갈비, 기타\\n코드: 020649\\n설명: 내장, 식용, 돼지 (간 제외), 냉동; 족, 기타\\n코드: 020120\\n설명: 육류; 소 동물의 뼈가 있는 부위(도체 및 반도체 제외), 신선하거나 냉장된 것; 갈비, 기타', 'Answer': '```json\\n{\\n  \"가장_적합한_HS_코드\": \"020220\",\\n  \"가장_적합한_HS_항목명\": \"육류; 소 동물 중 뼈가 있는 부위(도체 및 반도체 제외), 냉동 식품; 갈비, 기타\",\\n  \"판단_근거\": \"곰곰 더 진한 갈비탕은 냉동 형태로 제공되며, 주재료가 소의 갈비로 이루어져 있습니다. HS 코드 020220은 냉동된 소 동물의 갈비를 포함하고 있어 해당 식품의 특성과 가장 잘 일치합니다. 다른 옵션인 020120은 신선하거나 냉장된 제품에 해당하며, 020649는 돼지 내장과 관련된 코드로 곰곰 더 진한 갈비탕의 내용물과 맞지 않습니다.\"\\n}\\n```'}, {'ProductName': '품목명: 블루다이아몬드 아몬드 브리즈 오리지널, 190ml, 24개', 'CleanDescription': '블루다이아몬드 아몬드 브리즈 오리지널은 190ml 용량의 아몬드 음료로, 24개의 개별 포장이 포함된 제품입니다.', 'Best3': '코드: 080212\\n설명: 견과류, 식용; 아몬드, 신선 또는 건조, 껍질 벗긴 것; 껍데기를 벗긴 것\\n코드: 210690\\n설명: 식품 준비물; 항목 번호 2106.10의 n.e.c.; 알코올을 함유하지 않은 음료의 베이스;콜라 베이스, 과일향의 음료베이스, 기타, 당시럽[향미제(香味劑)나 착색제를 첨가한 것으로 한정한다], 인삼제품류;    백삼제품류;  인삼제품류;   백삼제품류;   인삼차, 인삼제품류;   백삼제품류; 인삼제품류;   백삼제품류; 인삼제품류;  백삼제품류;  인삼차, 인삼제품류;  백삼제품류;  기타, 인삼제품류;   홍삼제품류; 인삼제품류;  홍삼제품류;  홍삼차, 인삼제품류;  홍삼제품류;인삼제품류;   백삼제품류; 인삼제품류;  백삼제품류;  인삼차, 인삼제품류;  백삼제품류;인삼제품류;  백삼제품류;인삼제품류; 백삼제품류; 인삼차, 인삼제품류; 백삼제품류; 기타, 인삼제품류;  홍삼제품류;인삼제품류; 홍삼제품류; 홍삼차, 인삼제품류; 홍삼제품류; 기타, 기타; 커피크리머, 버터를 기본 재료로 한 조제품;  버터를 기본 재료로 한 조제품;  버터 함량이 전 중량의 100분의 30 이하인 것,  버터를 기본 재료로 한 조제품;  버터 함량이 전 중량의 100분의 30 초과 100분의 70 이하인 것,  버터를 기본 재료로 한 조제품;기타;커피크리머, 버터를 기본 재료로 한 조제품; 버터를 기본 재료로 한 조제품; 버터 함량이 전 중량의 100분의 30 이하인 것,  버터를 기본 재료로 한 조제품; 버터 함량이 전 중량의 100분의 30 초과 100분의 70 이하인 것,  버터를 기본 재료로 한 조제품; 버터 함량이 전 중량의 100분의 70을 초과하는 것, 아이스크림 제조용 조제품, 자기소화효모(autolyzed yeast)와 그 밖의 효모 추출물(extract), 향미(香味)용 조제품, 도토리 가루, 알로에를 기본 재료로 한 조제품, 음료 제조용 조제품[방향성(芳香性) 물질을 기본 재료로 한 것은 제외하며, 알코올 용량이 전 용량의 100분의 0.5를 초과하는 것으로 한정한다], 로열젤리, 벌꿀조제품의 것,   기타\\n코드: 080211\\n설명: 견과류, 식용; 아몬드, 신선하거나 말린 껍질째, 껍질째; 껍데기를 벗기지 않은 것', 'Answer': '```json\\n{\\n  \"가장_적합한_HS_코드\": \"210690\",\\n  \"가장_적합한_HS_항목명\": \"식품 준비물; 항목 번호 2106.10의 n.e.c.; 알코올을 함유하지 않은 음료의 베이스;콜라 베이스, 과일향의 음료베이스, 기타\",\\n  \"판단_근거\": \"블루다이아몬드 아몬드 브리즈 오리지널은 아몬드 음료로, 주로 음료로서 소비되는 제품입니다. 따라서 HS 코드 210690이 가장 적합합니다. 이는 알코올을 포함하지 않는 음료의 베이스에 해당하며, 아몬드 음료와 관련된 제조 및 재료 단계의 환경적 영향을 평가하는 데 적절한 분류입니다.\"\\n}\\n```'}, {'ProductName': '품목명: 비비고 왕교자 (냉동), 1.05kg, 2개', 'CleanDescription': '비비고 왕교자는 냉동 상태로 제공되는 1.05kg의 왕교자 제품으로, 2개가 포함되어 있습니다.', 'Best3': '코드: 020753\\n설명: 육류 및 식용 내장, 거위, 지방간(푸아그라), 신선 또는 냉장 보관된 것; 지방간(신선한 것이나 냉장한 것으로 한정한다)\\n코드: 160552\\n설명: 연체동물 준비물, 여왕 가리비를 포함한 가리비, 준비 또는 보존된 가리비; 가리비과의 조개(여왕 가리비과 조개를 포함한다)\\n코드: 030783\\n설명: 연체동물; 전복(할리오티스 종), 껍질 여부와 관계없이 냉동 보관된 것; 냉동한 전복[할리오티스(Haliotis)속]', 'Answer': '```json\\n{\\n  \"가장_적합한_HS_코드\": \"020753\",\\n  \"가장_적합한_HS_항목명\": \"육류 및 식용 내장, 거위, 지방간(푸아그라), 신선 또는 냉장 보관된 것; 지방간(신선한 것이나 냉장한 것으로 한정한다)\",\\n  \"판단_근거\": \"비비고 왕교자는 냉동 상태로 제공되는 만두로, 일반적으로 육류 및 다양한 재료가 포함된 식품이다. HS 코드 020753은 육류와 관련된 항목으로, 왕교자에 주요 재료인 육류가 포함되어 있기 때문에 가장 적합하다. 다른 두 코드는 연체동물에 관련된 것으로, 비비고 왕교자와는 무관하다.\"\\n}\\n```'}, {'ProductName': '품목명: 귤탐 당도선별 11brix 감귤, 2kg(로열과), 1개', 'CleanDescription': '품목명: 귤탐 당도선별 11brix 감귤, 2kg(로열과), 1개  \\n\\n이 품목은 11brix 당도로 선별된 2kg의 로열과 감귤입니다.', 'Best3': '코드: 200899\\n설명: 과일, 견과류 및 기타 식물의 식용 가능한 부분, 설탕, 기타 감미료 또는 증류주가 첨가되었는지 여부에 관계없이 조리 또는 보존된 것, 제목 없음에 해당합니다. 2008; 포도, 사과, 팝콘, 소금에 절인 초피, 조제한 식용 해초류;김, 기타, 기타\\n코드: 200791\\n설명: 잼, 젤리, 마멀레이드, 퓨레 및 페이스트, 감귤류의 조리된 제제(균질화 제외), 설탕 또는 기타 감미료 첨가 여부에 관계없이.; 잼ㆍ과실젤리와 마멀레이드(marmalade), 기타\\n코드: 200819\\n설명: 견과류 및 기타 씨앗류, 설탕, 기타 감미료 또는 증류주 함유 여부(혼합물을 제외한 분쇄 견과류 제외); 밤, 코코넛, 볶은 참깨가루, 기타', 'Answer': '```json\\n{\\n  \"가장_적합한_HS_코드\": \"200899\",\\n  \"가장_적합한_HS_항목명\": \"과일, 견과류 및 기타 식물의 식용 가능한 부분, 설탕, 기타 감미료 또는 증류주가 첨가되었는지 여부에 관계없이 조리 또는 보존된 것, 제목 없음에 해당합니다. 2008; 포도, 사과, 팝콘, 소금에 절인 초피, 조제한 식용 해초류;김, 기타, 기타\",\\n  \"판단_근거\": \"제공된 물품인 \\'귤탐 당도선별 11brix 감귤\\'은 조리 또는 보존된 형태의 과일로 간주되며, HS 코드 200899는 조리 또는 보존된 과일을 포괄하는 가장 일반적인 범주에 해당합니다. 코드 200791은 감귤류의 조리된 제제에 해당하지만, 특정한 제품인 잼이나 젤리와는 다르므로 적합하지 않습니다. 코드 200819는 견과류 및 씨앗류에 해당하므로 이 경우와는 관련이 없습니다.\"\\n}\\n```'}, {'ProductName': '품목명: 양반 현미밥, 130g, 24개', 'CleanDescription': '양반 현미밥은 130g의 양으로 포장된 현미밥 제품으로, 24개가 들어 있는 세트입니다.', 'Best3': '코드: 110630\\n설명: 밀가루, 식사 및 분말; 8장의 제품 중; 제8류 물품의 것\\n코드: 100620\\n설명: 곡물; 껍질을 벗긴 (현미) 쌀; 메현미, 찰현미\\n코드: 100640\\n설명: 곡물; 쌀, 깨진; 쇄미(broken rice)', 'Answer': '```json\\n{\\n  \"가장_적합한_HS_코드\": \"100620\",\\n  \"가장_적합한_HS_항목명\": \"곡물; 껍질을 벗긴 (현미) 쌀; 메현미, 찰현미\",\\n  \"판단_근거\": \"양반 현미밥은 현미로 구성된 제품이므로, 껍질을 벗긴 현미 쌀에 해당하는 HS 코드 100620가 가장 적합합니다. 다른 코드들은 밀가루나 깨진 쌀을 포함하고 있어, 현미밥의 재료와 직접적으로 관련이 없습니다.\"\\n}\\n```'}, {'ProductName': '품목명: 담터 호두 아몬드 율무차, 18g, 50개입, 1개', 'CleanDescription': '담터 호두 아몬드 율무차는 호두, 아몬드, 율무가 혼합된 차로, 18g의 패키지에 50개입이 들어 있습니다.', 'Best3': '코드: 080232\\n설명: 견과류, 식용; 호두, 신선하거나 말린 호두, 껍질 벗긴 것; 껍데기를 벗긴 것\\n코드: 080231\\n설명: 견과류, 식용; 호두, 신선하거나 말린 껍질째, 호두; 껍데기를 벗기지 않은 것\\n코드: 090230\\n설명: 차, 블랙; (발효) 및 부분 발효 차, 3kg을 초과하지 않는 내용물의 즉시 포장; 홍차(발효차)와 부분 발효차(내용물의 무게가 3킬로그램 이하로 내용물에 직접 접하여 포장된 것으로 한정한다)', 'Answer': '```json\\n{\\n  \"가장_적합한_HS_코드\": \"080232\",\\n  \"가장_적합한_HS_항목명\": \"견과류, 식용; 호두, 신선하거나 말린 호두, 껍질 벗긴 것; 껍데기를 벗긴 것\",\\n  \"판단_근거\": \"담터 호두 아몬드 율무차는 호두, 아몬드, 율무가 혼합된 차로, 호두는 껍질이 벗겨진 형태로 사용되어 차의 재료로 포함됩니다. HS 코드 080232는 껍질 벗긴 호두에 해당하며, 호두가 주요 재료인 점을 고려할 때 가장 적합한 선택입니다.\"\\n}\\n```'}, {'ProductName': '품목명: 농심 육개장 사발면 86g, 30개', 'CleanDescription': '농심 육개장 사발면은 86g의 용량을 가진 즉석 면 제품으로, 30개가 들어있는 포장입니다.', 'Best3': '코드: 481830\\n설명: 종이 제품; 종이, 셀룰로오스 충전재 또는 섬유로 된 식탁보 및 냅킨; 책상보와 서비에트(serviette)\\n코드: 110630\\n설명: 밀가루, 식사 및 분말; 8장의 제품 중; 제8류 물품의 것\\n코드: 140490\\n설명: 식물성 제품; 14장의 내용 외; 조각용 종자ㆍ껍질ㆍ너트(예: 상아야자), 나무껍질;닥나무나 꾸지나무(paper mulberry) 껍질, 기타, 식품포장용으로 사용되는 식물의 잎;떡갈잎, 청미래덩굴잎, 기타, 충전용으로 주로 사용되는 식물성 재료[예: 케이폭(kapok)ㆍ식물성?헤어ㆍ거머리말][층상(層狀)으로 한 것인지 또는 지지물을 사용했는지에 상관없다], 비나 브러시를 만드는 데 주로 사용되는 식물성 재료[예: 수수류ㆍ피아사바(piassava)ㆍ카우치 그라스(couch-grass)ㆍ이스틸리(istle)](다발이나 꾸러미 상태인지에 상관없다), 염색용ㆍ유연용으로 주로 사용되는 식물성 원료;오배자(五倍子), 아몬드 껍질(almond hull), 기타, 기타', 'Answer': '```json\\n{\\n  \"가장_적합한_HS_코드\": \"110630\",\\n  \"가장_적합한_HS_항목명\": \"밀가루, 식사 및 분말; 8장의 제품 중; 제8류 물품의 것\",\\n  \"판단_근거\": \"농심 육개장 사발면은 즉석 면 제품으로, 주된 재료가 밀가루이기 때문에 110630 코드가 가장 적합하다. 나머지 HS 코드는 식품 포장이나 종이 제품에 해당하며, 주된 성분인 밀가루와 관계가 없다.\"\\n}\\n```'}, {'ProductName': '품목명: 종근당 칼슘 앤 마그네슘 비타민D 아연, 180정, 2개', 'CleanDescription': '종근당 칼슘 앤 마그네슘 비타민D 아연은 180정이 들어 있는 두 개의 패키지로 제공되는 영양제입니다. 이 제품은 칼슘과 마그네슘, 비타민 D, 아연을 포함하고 있습니다.', 'Best3': '코드: 293629\\n설명: 비타민; 품목 번호 2936.2의 기타 및 그 유도체, 혼합되지 않은 것; 비타민 B9과 이들의 유도체;비타민 B9, 기타, 비타민 D와 이들의 유도체, 비타민 H와 이들의 유도체, 비타민 K와 이들의 유도체, 니코틴아미드와 이들의 유도체, 기타\\n코드: 300450\\n설명: 의약품; 치료 또는 예방 목적으로 비타민 또는 그 유도체를 함유하고 소매 판매용으로 포장된 제품; 비타민 A제제, 비타민 B제제;비타민 B1제제, 기타, 비타민 C제제, 비타민 D제제, 기타\\n코드: 310510\\n설명: 비료, 광물 또는 화학 물질; 정제 또는 이와 유사한 형태 또는 총 중량이 10kg을 초과하지 않는 포장재; 이 류에 열거한 물품을 태블릿(tablet) 모양이나 이와 유사한 모양으로 한 것이거나 용기를 포함한 한 개의 총중량이 10킬로그램 이하로 포장한 것', 'Answer': '```json\\n{\\n  \"가장_적합한_HS_코드\": \"300450\",\\n  \"가장_적합한_HS_항목명\": \"의약품; 치료 또는 예방 목적으로 비타민 또는 그 유도체를 함유하고 소매 판매용으로 포장된 제품; 비타민 A제제, 비타민 B제제;비타민 B1제제, 기타, 비타민 C제제, 비타민 D제제, 기타\",\\n  \"판단_근거\": \"종근당 칼슘 앤 마그네슘 비타민D 아연은 영양제이며, 비타민 D와 아연을 포함하고 있어 의약품으로 분류됩니다. 300450 코드는 치료 또는 예방 목적으로 비타민을 포함한 제품을 대상으로 하므로 제품의 성격과 적합합니다.\"\\n}\\n```'}, {'ProductName': '품목명: 햇반 즉석 백미밥, 210g, 36개', 'CleanDescription': '햇반 즉석 백미밥은 210g 용량의 즉석으로 조리할 수 있는 백미밥 제품으로, 총 36개가 포함되어 있습니다.', 'Best3': '코드: 110630\\n설명: 밀가루, 식사 및 분말; 8장의 제품 중; 제8류 물품의 것\\n코드: 851679\\n설명: 전기 전열 기구; n.e.c., 제목 번호. 8516, 가정용으로 사용; 전기보온밥통, 기타\\n코드: 845290\\n설명: 재봉틀, 재봉틀용 가구, 받침대 및 커버 및 그 부품, 재봉틀의 기타 부품; 재봉기용으로 특수 제작된 가구ㆍ밑판ㆍ덮개와 그 부분품, 그 밖의 재봉기 부분품', 'Answer': '```json\\n{\\n  \"가장_적합한_HS_코드\": \"110630\",\\n  \"가장_적합한_HS_항목명\": \"밀가루, 식사 및 분말; 8장의 제품 중; 제8류 물품의 것\",\\n  \"판단_근거\": \"햇반 즉석 백미밥은 주로 백미로 구성된 식료품으로, HS 코드 110630은 밀가루 및 식사와 관련된 제품을 포함하므로 가장 적합하다. 다른 두 코드는 전기 기기 및 재봉틀 관련 제품으로, 즉석 백미밥의 재료 및 제조 단계와 관련이 없다.\"\\n}\\n```'}, {'ProductName': '품목명: 삼립 호빵 발효미종 단팥 7입 + 야채 7입, 1세트', 'CleanDescription': '삼립 호빵 발효미종 단팥 7입 + 야채 7입, 1세트는 단팥과 야채가 들어있는 호빵으로, 각각 7개씩 포함된 세트입니다.', 'Best3': '코드: 110630\\n설명: 밀가루, 식사 및 분말; 8장의 제품 중; 제8류 물품의 것\\n코드: 190540\\n설명: 식품 준비물; 코코아 함유 여부와 관계없이 러스크, 구운 빵 및 이와 유사한 구운 제품; 러스크(rusk)ㆍ토스트 빵과 그 밖에 이와 유사한 토스트 물품\\n코드: 200899\\n설명: 과일, 견과류 및 기타 식물의 식용 가능한 부분, 설탕, 기타 감미료 또는 증류주가 첨가되었는지 여부에 관계없이 조리 또는 보존된 것, 제목 없음에 해당합니다. 2008; 포도, 사과, 팝콘, 소금에 절인 초피, 조제한 식용 해초류;김, 기타, 기타', 'Answer': '```json\\n{\\n  \"가장_적합한_HS_코드\": \"190540\",\\n  \"가장_적합한_HS_항목명\": \"식품 준비물; 코코아 함유 여부와 관계없이 러스크, 구운 빵 및 이와 유사한 구운 제품; 러스크(rusk)ㆍ토스트 빵과 그 밖에 이와 유사한 토스트 물품\",\\n  \"판단_근거\": \"삼립 호빵은 발효된 반죽으로 만들어진 빵의 일종으로, 구운 제품에 해당합니다. HS 코드 190540은 구운 빵 및 유사한 제품을 포함하고 있어, 단팥과 야채가 들어있는 호빵의 특성과 가장 잘 맞습니다.\"\\n}\\n```'}, {'ProductName': '품목명: 해표 콩기름 식용유, 1.8L, 3개', 'CleanDescription': '해표 콩기름 식용유는 1.8리터 용량의 식용유이며, 3개가 함께 포장되어 있습니다.', 'Best3': '코드: 151620\\n설명: 식물성 지방 및 오일 및 그 분획물; 정제 여부에 관계없이 부분적으로 또는 전체적으로 수소화, 상호 에스테르화, 재에스테르화 또는 일라이딘화되었지만 추가 가공되지 않은 것; 땅콩기름ㆍ해바라기씨유ㆍ유채유(rape oil, colza oil)ㆍ들기름ㆍ참기름의 것;땅콩기름과 그 분획물, 해바라기씨유와 그 분획물, 유채유(rape oil, colza oil)와 그 분획물, 들기름과 그 분획물, 참기름과 그 분획물, 기타;야자[코프라(copra)]유와 그 분획물, 팜유와 그 분획물, 옥수수유와 그 분획물, 목화씨유와 그 분획물, 대두유와 그 분획물, 기타\\n코드: 150420\\n설명: 지방 및 유지류 및 그 분획물, 생선(간유 제외); 어류의 지방과 기름 및 그 분획물[간유(肝油)는 제외한다]\\n코드: 150430\\n설명: 지방과 기름 및 그 분획물; 해양 포유류의 경우; 고래기름과 그 분획물, 기타', 'Answer': '```json\\n{\\n  \"가장_적합한_HS_코드\": \"151620\",\\n  \"가장_적합한_HS_항목명\": \"식물성 지방 및 오일 및 그 분획물; 정제 여부에 관계없이 부분적으로 또는 전체적으로 수소화, 상호 에스테르화, 재에스테르화 또는 일라이딘화되었지만 추가 가공되지 않은 것; 땅콩기름ㆍ해바라기씨유ㆍ유채유(rape oil, colza oil)ㆍ들기름ㆍ참기름의 것;땅콩기름과 그 분획물, 해바라기씨유와 그 분획물, 유채유(rape oil, colza oil)와 그 분획물, 들기름과 그 분획물, 참기름과 그 분획물, 기타;야자[코프라(copra)]유와 그 분획물, 팜유와 그 분획물, 옥수수유와 그 분획물, 목화씨유와 그 분획물, 대두유와 그 분획물, 기타\",\\n  \"판단_근거\": \"해표 콩기름 식용유는 대두유로 분류되며, HS 코드 151620은 식물성 지방 및 오일을 포함하고 있어 가장 적합하다. 다른 코드들은 생선이나 해양 포유류의 지방에 해당하므로 해당 물품과 관련이 없다.\"\\n}\\n```'}, {'ProductName': '품목명: 오뚜기 맛있는 오뚜기밥, 210g, 36개', 'CleanDescription': '오뚜기 맛있는 오뚜기밥은 210g의 용량으로 포장된 제품으로, 총 36개가 들어있는 식료품입니다.', 'Best3': '코드: 110630\\n설명: 밀가루, 식사 및 분말; 8장의 제품 중; 제8류 물품의 것\\n코드: 160540\\n설명: 게, 새우, 새우, 랍스터를 제외한 갑각류 조제 식품, 조리 또는 보존된 식품; 밀폐용기에 넣은 것, 기타\\n코드: 190230\\n설명: 음식 준비물; 파스타(박제 제외), 조리 또는 기타 조리된 음식; 인스탄트 면류;라면, 기타, 기타', 'Answer': '```json\\n{\\n  \"가장_적합한_HS_코드\": \"190230\",\\n  \"가장_적합한_HS_항목명\": \"음식 준비물; 파스타(박제 제외), 조리 또는 기타 조리된 음식; 인스탄트 면류;라면, 기타, 기타\",\\n  \"판단_근거\": \"오뚜기 맛있는 오뚜기밥은 즉석밥 제품으로, 조리된 음식으로 분류될 수 있습니다. HS 코드 190230은 인스턴트 면류와 같은 조리된 음식 제품을 포함하므로, 해당 제품과 가장 잘 맞습니다. 다른 두 코드인 110630(밀가루)와 160540(갑각류 조제 식품)은 오뚜기밥의 성격과 맞지 않습니다.\"\\n}\\n```'}, {'ProductName': '품목명: 펩시 제로슈거 라임향 무라벨, 300ml, 20개', 'CleanDescription': '펩시 제로슈거 라임향 무라벨은 라임 맛이 나는 탄산음료로, 300ml 용량의 캔이 20개 들어 있는 제품입니다.', 'Best3': '코드: 210690\\n설명: 식품 준비물; 항목 번호 2106.10의 n.e.c.; 알코올을 함유하지 않은 음료의 베이스;콜라 베이스, 과일향의 음료베이스, 기타, 당시럽[향미제(香味劑)나 착색제를 첨가한 것으로 한정한다], 인삼제품류;    백삼제품류;  인삼제품류;   백삼제품류;   인삼차, 인삼제품류;   백삼제품류; 인삼제품류;   백삼제품류; 인삼제품류;  백삼제품류;  인삼차, 인삼제품류;  백삼제품류;  기타, 인삼제품류;   홍삼제품류; 인삼제품류;  홍삼제품류;  홍삼차, 인삼제품류;  홍삼제품류;인삼제품류;   백삼제품류; 인삼제품류;  백삼제품류;  인삼차, 인삼제품류;  백삼제품류;인삼제품류;  백삼제품류;인삼제품류; 백삼제품류; 인삼차, 인삼제품류; 백삼제품류; 기타, 인삼제품류;  홍삼제품류;인삼제품류; 홍삼제품류; 홍삼차, 인삼제품류; 홍삼제품류; 기타, 기타; 커피크리머, 버터를 기본 재료로 한 조제품;  버터를 기본 재료로 한 조제품;  버터 함량이 전 중량의 100분의 30 이하인 것,  버터를 기본 재료로 한 조제품;  버터 함량이 전 중량의 100분의 30 초과 100분의 70 이하인 것,  버터를 기본 재료로 한 조제품;기타;커피크리머, 버터를 기본 재료로 한 조제품; 버터를 기본 재료로 한 조제품; 버터 함량이 전 중량의 100분의 30 이하인 것,  버터를 기본 재료로 한 조제품; 버터 함량이 전 중량의 100분의 30 초과 100분의 70 이하인 것,  버터를 기본 재료로 한 조제품; 버터 함량이 전 중량의 100분의 70을 초과하는 것, 아이스크림 제조용 조제품, 자기소화효모(autolyzed yeast)와 그 밖의 효모 추출물(extract), 향미(香味)용 조제품, 도토리 가루, 알로에를 기본 재료로 한 조제품, 음료 제조용 조제품[방향성(芳香性) 물질을 기본 재료로 한 것은 제외하며, 알코올 용량이 전 용량의 100분의 0.5를 초과하는 것으로 한정한다], 로열젤리, 벌꿀조제품의 것,   기타\\n코드: 080550\\n설명: 과일, 식용; 레몬(시트러스 리몬, 시트러스 리모넘), 라임(시트러스 오란티폴리아, 시트러스 라티폴리아), 신선 또는 말린 것; 레몬[시트러스 리몬(Citrus limon)ㆍ시트러스 리머늄(Citrus limonum)], 라임(lime)[시트러스 오란티폴리아(Citrus aurantifolia)ㆍ시트러스 라티폴리아(Citrus latifolia)];시트러스 오란티폴리아(Citrus aurantifolia), 시트러스 라티폴리아(Citrus latifolia)\\n코드: 220600\\n설명: 발효 음료(예: 사이다, 페리, 미드, 사케); 과실 발효주;사과술, 배술, 기타, 곡물 발효주;청주, 약주, 탁주, 기타, 기타;와인쿨러(제2009호나 제2202호의 물품을 첨가한 것으로 한정하며, 포도를 원료로 한 것을 포함한다), 기타', 'Answer': '```json\\n{\\n  \"가장_적합한_HS_코드\": \"210690\",\\n  \"가장_적합한_HS_항목명\": \"식품 준비물; 항목 번호 2106.10의 n.e.c.; 알코올을 함유하지 않은 음료의 베이스;콜라 베이스, 과일향의 음료베이스, 기타\",\\n  \"판단_근거\": \"펩시 제로슈거 라임향 무라벨은 탄산음료로, 라임 맛이 나는 과일향 음료입니다. HS 코드 210690은 알코올을 포함하지 않은 음료의 베이스로, 탄산음료 및 과일향 음료를 포함하는 범주에 해당합니다. 반면, 코드 080550은 신선한 과일에 대한 것이고, 코드 220600은 발효 음료와 관련이 있어 이 제품과는 부합하지 않습니다.\"\\n}\\n```'}, {'ProductName': '품목명: 이롬 황성주 검은콩 고칼슘 두유, 190ml, 24개', 'CleanDescription': '이 품목은 검은콩으로 만든 두유로, 고칼슘이 포함된 190ml 용량의 제품이며, 24개들이 포장입니다.', 'Best3': '코드: 180620\\n설명: 초콜릿 및 코코아를 함유한 기타 식품 제제, 2kg을 초과하는 블록, 슬라브 또는 바 또는 액체, 페이스트, 분말, 과립 또는 기타 벌크 형태로 용기 또는 즉석 포장에 담긴 내용물이 2kg을 초과하는 경우; 초콜릿과 초콜릿 과자, 기타;코코아 조제품(밀크분의 함유량이 전 중량의 100분의 50 이상의 것으로 한정한다), 기타\\n코드: 110630\\n설명: 밀가루, 식사 및 분말; 8장의 제품 중; 제8류 물품의 것\\n코드: 110610\\n설명: 밀가루, 식사 및 분말; 제목의 말린 콩과 식물성 채소 중 번호. 0713; 건조한 채두류(菜豆類)의 것(제0713호의 것으로 한정한다)', 'Answer': '```json\\n{\\n  \"가장_적합한_HS_코드\": \"110610\",\\n  \"가장_적합한_HS_항목명\": \"밀가루, 식사 및 분말; 제목의 말린 콩과 식물성 채소 중 번호. 0713; 건조한 채두류(菜豆類)의 것(제0713호의 것으로 한정한다)\",\\n  \"판단_근거\": \"검은콩으로 만든 두유는 기본적으로 두유의 원료인 건조한 콩에서 유래하므로, 건조한 콩과 관련된 HS 코드인 110610이 가장 적합하다. 다른 코드들은 초콜릿 및 밀가루 제품으로, 두유와는 관련이 없다.\"\\n}\\n```'}, {'ProductName': '품목명: 곰곰 무항생제 신선한 대란, 60구, 1개', 'CleanDescription': '품목명: 곰곰 무항생제 신선한 대란, 60구, 1개  \\n\\n이 품목은 무항생제로 생산된 신선한 계란으로, 60개가 들어 있는 포장입니다.', 'Best3': '코드: 040819\\n설명: 계란; 새의 알, 노른자, 신선한 것, 찌거나 물에 삶아서 조리한 것, 성형, 냉동 또는 기타 보존된 것, 설탕이나 기타 감미료 첨가 여부에 관계없이.; 기타\\n코드: 051000\\n설명: 동물성 제품; 암버그리스, 카스토륨, 사향, 사향, 칸타라이드, 담즙(건조 또는 비건조) 샘 및 기타 동물성 제품, 제약 목적으로 신선, 냉장, 냉동 또는 기타 임시로 보존된 제품; 사향, 우황, 기타\\n코드: 040899\\n설명: 달걀; 신선한 것, 물에 찌거나 삶아서 조리한 것, 성형, 냉동, 기타 보존 처리한 것, 설탕이나 기타 감미료 첨가 여부와 관계없이 새의 알(껍질이 없는 것, 노른자만 제외); 닭[갈루스 도메스티쿠스(Gallus domesticus)종으로 한정한다]의 것, 기타', 'Answer': '```json\\n{\\n  \"가장_적합한_HS_코드\": \"040819\",\\n  \"가장_적합한_HS_항목명\": \"계란; 새의 알, 노른자, 신선한 것, 찌거나 물에 삶아서 조리한 것, 성형, 냉동 또는 기타 보존된 것, 설탕이나 기타 감미료 첨가 여부에 관계없이.; 기타\",\\n  \"판단_근거\": \"제공된 품목인 \\'곰곰 무항생제 신선한 대란\\'은 신선한 계란으로, HS 코드 040819의 설명과 가장 부합합니다. 이 코드는 신선한 계란을 포함하며, 무항생제라는 특성은 이 코드 내에서의 구체적인 분류에 영향을 미치지 않습니다. 다른 두 코드는 동물성 제품이나 가공된 형태의 제품에 해당하여 주어진 품목과는 적합하지 않습니다.\"\\n}\\n```'}, {'ProductName': '품목명: 농심 웰치스 포도맛, 355ml, 24개', 'CleanDescription': '농심 웰치스 포도맛 음료로, 355ml 용량의 캔이 24개 들어있는 제품입니다.', 'Best3': '코드: 220600\\n설명: 발효 음료(예: 사이다, 페리, 미드, 사케); 과실 발효주;사과술, 배술, 기타, 곡물 발효주;청주, 약주, 탁주, 기타, 기타;와인쿨러(제2009호나 제2202호의 물품을 첨가한 것으로 한정하며, 포도를 원료로 한 것을 포함한다), 기타\\n코드: 210690\\n설명: 식품 준비물; 항목 번호 2106.10의 n.e.c.; 알코올을 함유하지 않은 음료의 베이스;콜라 베이스, 과일향의 음료베이스, 기타, 당시럽[향미제(香味劑)나 착색제를 첨가한 것으로 한정한다], 인삼제품류;    백삼제품류;  인삼제품류;   백삼제품류;   인삼차, 인삼제품류;   백삼제품류; 인삼제품류;   백삼제품류; 인삼제품류;  백삼제품류;  인삼차, 인삼제품류;  백삼제품류;  기타, 인삼제품류;   홍삼제품류; 인삼제품류;  홍삼제품류;  홍삼차, 인삼제품류;  홍삼제품류;인삼제품류;   백삼제품류; 인삼제품류;  백삼제품류;  인삼차, 인삼제품류;  백삼제품류;인삼제품류;  백삼제품류;인삼제품류; 백삼제품류; 인삼차, 인삼제품류; 백삼제품류; 기타, 인삼제품류;  홍삼제품류;인삼제품류; 홍삼제품류; 홍삼차, 인삼제품류; 홍삼제품류; 기타, 기타; 커피크리머, 버터를 기본 재료로 한 조제품;  버터를 기본 재료로 한 조제품;  버터 함량이 전 중량의 100분의 30 이하인 것,  버터를 기본 재료로 한 조제품;  버터 함량이 전 중량의 100분의 30 초과 100분의 70 이하인 것,  버터를 기본 재료로 한 조제품;기타;커피크리머, 버터를 기본 재료로 한 조제품; 버터를 기본 재료로 한 조제품; 버터 함량이 전 중량의 100분의 30 이하인 것,  버터를 기본 재료로 한 조제품; 버터 함량이 전 중량의 100분의 30 초과 100분의 70 이하인 것,  버터를 기본 재료로 한 조제품; 버터 함량이 전 중량의 100분의 70을 초과하는 것, 아이스크림 제조용 조제품, 자기소화효모(autolyzed yeast)와 그 밖의 효모 추출물(extract), 향미(香味)용 조제품, 도토리 가루, 알로에를 기본 재료로 한 조제품, 음료 제조용 조제품[방향성(芳香性) 물질을 기본 재료로 한 것은 제외하며, 알코올 용량이 전 용량의 100분의 0.5를 초과하는 것으로 한정한다], 로열젤리, 벌꿀조제품의 것,   기타\\n코드: 220299\\n설명: 무알코올 음료; 제2202.10호에 해당하는 무알코올 맥주 이외의 것으로서, 제 2202.10호의 과일, 견과류 또는 야채 주스는 포함하지 않습니다. 2009; 인삼음료, 과실주스 음료, 식혜, 기타', 'Answer': '```json\\n{\\n  \"가장_적합한_HS_코드\": \"220299\",\\n  \"가장_적합한_HS_항목명\": \"무알코올 음료; 제2202.10호에 해당하는 무알코올 맥주 이외의 것으로서, 제 2202.10호의 과일, 견과류 또는 야채 주스는 포함하지 않습니다. 2009; 인삼음료, 과실주스 음료, 식혜, 기타\",\\n  \"판단_근거\": \"농심 웰치스 포도맛 음료는 무알코올 과일 음료로, HS 코드 220299의 설명에 잘 맞아떨어진다. 이 코드는 무알코올 음료를 포함하며, 포도와 같은 과일을 원료로 하는 음료를 명시하고 있다. 다른 선택지들은 발효 음료나 알코올 음료에 해당하지 않으므로, 220299가 가장 적합하다.\"\\n}\\n```'}, {'ProductName': '품목명: 맥심 화이트 골드 커피믹스, 11.7g, 160개입, 1개', 'CleanDescription': '이 품목은 11.7g의 맥심 화이트 골드 커피믹스가 160개입 들어있는 패키지입니다.', 'Best3': '코드: 110630\\n설명: 밀가루, 식사 및 분말; 8장의 제품 중; 제8류 물품의 것\\n코드: 090190\\n설명: 커피; 커피 껍질 및 껍질, 커피가 함유된 커피 대용 음료; 커피의 껍데기와 껍질, 커피를 함유한 커피 대용물\\n코드: 180620\\n설명: 초콜릿 및 코코아를 함유한 기타 식품 제제, 2kg을 초과하는 블록, 슬라브 또는 바 또는 액체, 페이스트, 분말, 과립 또는 기타 벌크 형태로 용기 또는 즉석 포장에 담긴 내용물이 2kg을 초과하는 경우; 초콜릿과 초콜릿 과자, 기타;코코아 조제품(밀크분의 함유량이 전 중량의 100분의 50 이상의 것으로 한정한다), 기타', 'Answer': '```json\\n{\\n  \"가장_적합한_HS_코드\": \"090190\",\\n  \"가장_적합한_HS_항목명\": \"커피; 커피 껍질 및 껍질, 커피가 함유된 커피 대용 음료; 커피의 껍데기와 껍질, 커피를 함유한 커피 대용물\",\\n  \"판단_근거\": \"주어진 품목은 맥심 화이트 골드 커피믹스이며, 이는 커피가 주 성분으로 포함되어 있으므로, 커피 관련 HS 코드인 090190이 가장 적합하다. 다른 선택지인 110630(밀가루 및 분말)과 180620(초콜릿 및 코코아 관련)은 해당 품목의 성격과 맞지 않다.\"\\n}\\n```'}, {'ProductName': '품목명: 오뚜기 3분카레 약간 매운맛 200g 6개', 'CleanDescription': '이 품목은 오뚜기 브랜드의 3분 카레로, 약간 매운 맛이 나는 카레 소스가 들어 있습니다. 200g 용량의 카레가 6개 들어 있습니다.', 'Best3': '코드: 210390\\n설명: 소스 및 이를 위한 준비물; 혼합 조미료 및 혼합 조미료; 장류;된장, 춘장, 고추장, 기타, 기타;마요네스, 인스턴트 카레, 혼합조미료, 메주, 기타\\n코드: 190230\\n설명: 음식 준비물; 파스타(박제 제외), 조리 또는 기타 조리된 음식; 인스탄트 면류;라면, 기타, 기타\\n코드: 190219\\n설명: 음식 준비물; 파스타, 익히지 않은 것(계란이 들어 있지 않은 것 제외), 속을 채우거나 다른 방법으로 조리하지 않은 것; 국수, 당면, 냉면, 기타', 'Answer': '```json\\n{\\n  \"가장_적합한_HS_코드\": \"210390\",\\n  \"가장_적합한_HS_항목명\": \"소스 및 이를 위한 준비물; 혼합 조미료 및 혼합 조미료; 장류;된장, 춘장, 고추장, 기타, 기타;마요네스, 인스턴트 카레, 혼합조미료, 메주, 기타\",\\n  \"판단_근거\": \"오뚜기 브랜드의 3분 카레는 카레 소스가 포함된 식료품으로, HS 코드 210390이 소스 및 혼합 조미료 관련 품목을 포괄하고 있어 가장 적합하다. 다른 코드들은 주로 면류나 조리되지 않은 음식과 관련되어 있어 카레 소스와의 직접적인 연관성이 낮다.\"\\n}\\n```'}, {'ProductName': '품목명: 아카페라 심플리 디카페인 아메리카노 무라벨, 400ml, 20개', 'CleanDescription': '아카페라 심플리 디카페인 아메리카노는 무라벨로 포장된 400ml 용량의 디카페인 커피입니다. 이 제품은 20개가 한 세트로 제공됩니다.', 'Best3': '코드: 293930\\n설명: 알칼로이드, 카페인 및 그 염류; 카페인과 그 염\\n코드: 090111\\n설명: 커피, 로스팅 또는 디카페인 미포함; 카페인을 제거하지 않은 것\\n코드: 090190\\n설명: 커피; 커피 껍질 및 껍질, 커피가 함유된 커피 대용 음료; 커피의 껍데기와 껍질, 커피를 함유한 커피 대용물', 'Answer': '```json\\n{\\n  \"가장_적합한_HS_코드\": \"090190\",\\n  \"가장_적합한_HS_항목명\": \"커피; 커피 껍질 및 껍질, 커피가 함유된 커피 대용 음료; 커피의 껍데기와 껍질, 커피를 함유한 커피 대용물\",\\n  \"판단_근거\": \"아카페라 심플리 디카페인 아메리카노는 디카페인 커피로, 원재료인 커피가 포함되어 있으며, HS 코드 090190은 다양한 커피 제품을 포괄하고 커피 대용 음료를 포함하므로 적합합니다. 090111은 디카페인 미포함 커피에 해당하므로 부적합하고, 293930은 카페인과 관련된 화학물질에 집중하므로 주 제품의 특성과 맞지 않습니다.\"\\n}\\n```'}, {'ProductName': '품목명: 더단백 드링크 초코, 250ml, 18개', 'CleanDescription': '더단백 드링크 초코는 250ml 용량의 초코 맛 단백질 음료로, 18개가 들어있는 패키지입니다.', 'Best3': '코드: 180620\\n설명: 초콜릿 및 코코아를 함유한 기타 식품 제제, 2kg을 초과하는 블록, 슬라브 또는 바 또는 액체, 페이스트, 분말, 과립 또는 기타 벌크 형태로 용기 또는 즉석 포장에 담긴 내용물이 2kg을 초과하는 경우; 초콜릿과 초콜릿 과자, 기타;코코아 조제품(밀크분의 함유량이 전 중량의 100분의 50 이상의 것으로 한정한다), 기타\\n코드: 180632\\n설명: 초콜릿 및 코코아가 함유된 기타 식품 준비물, 블록, 슬라브 또는 바(충전되지 않은 상태), 무게 2kg 이하; 초콜릿과 초콜릿 과자, 기타\\n코드: 180631\\n설명: 초콜릿 및 기타 코코아 함유 식품, 블록, 슬라브 또는 바 형태로 채워진, 무게가 2kg 이하인 제품; 초콜릿과 초콜릿 과자, 기타', 'Answer': '```json\\n{\\n  \"가장_적합한_HS_코드\": \"180632\",\\n  \"가장_적합한_HS_항목명\": \"초콜릿 및 코코아가 함유된 기타 식품 준비물, 블록, 슬라브 또는 바(충전되지 않은 상태), 무게 2kg 이하; 초콜릿과 초콜릿 과자, 기타\",\\n  \"판단_근거\": \"더단백 드링크 초코는 초콜릿 맛의 단백질 음료로, HS 코드 180632가 초콜릿 및 코코아가 포함된 기타 식품 준비물에 해당하며, 무게 2kg 이하 조건에 부합합니다. 이 제품의 액체 형태와 초콜릿의 주요 성분을 고려할 때 가장 적합한 코드로 판단됩니다.\"\\n}\\n```'}, {'ProductName': '품목명: 티젠 콤부차 레몬, 5g, 50개입, 1개', 'CleanDescription': '티젠 콤부차 레몬은 레몬 맛이 첨가된 5g의 콤부차 제품으로, 50개입이 들어 있는 포장입니다.', 'Best3': '코드: 210120\\n설명: 추출물, 에센스 및 농축액; 차 또는 마테, 그리고 이러한 추출물, 에센스 또는 농축액을 기본으로 하거나 차 또는 마테를 기본으로 한 제제; 설탕ㆍ레몬이나 이들의 대용물을 함유한 것, 기타;    곡물을 함유한 것;  기타;   곡물을 함유한 것;   티백 포장의 것, 기타;   곡물을 함유한 것; 기타;   곡물을 함유한 것; 기타;  곡물을 함유한 것;  티백 포장의 것, 기타;  곡물을 함유한 것;  기타, 기타;기타;   곡물을 함유한 것; 기타;  곡물을 함유한 것;  티백 포장의 것, 기타;  곡물을 함유한 것;기타;  곡물을 함유한 것;기타; 곡물을 함유한 것; 티백 포장의 것, 기타; 곡물을 함유한 것; 기타, 기타;기타\\n코드: 210690\\n설명: 식품 준비물; 항목 번호 2106.10의 n.e.c.; 알코올을 함유하지 않은 음료의 베이스;콜라 베이스, 과일향의 음료베이스, 기타, 당시럽[향미제(香味劑)나 착색제를 첨가한 것으로 한정한다], 인삼제품류;    백삼제품류;  인삼제품류;   백삼제품류;   인삼차, 인삼제품류;   백삼제품류; 인삼제품류;   백삼제품류; 인삼제품류;  백삼제품류;  인삼차, 인삼제품류;  백삼제품류;  기타, 인삼제품류;   홍삼제품류; 인삼제품류;  홍삼제품류;  홍삼차, 인삼제품류;  홍삼제품류;인삼제품류;   백삼제품류; 인삼제품류;  백삼제품류;  인삼차, 인삼제품류;  백삼제품류;인삼제품류;  백삼제품류;인삼제품류; 백삼제품류; 인삼차, 인삼제품류; 백삼제품류; 기타, 인삼제품류;  홍삼제품류;인삼제품류; 홍삼제품류; 홍삼차, 인삼제품류; 홍삼제품류; 기타, 기타; 커피크리머, 버터를 기본 재료로 한 조제품;  버터를 기본 재료로 한 조제품;  버터 함량이 전 중량의 100분의 30 이하인 것,  버터를 기본 재료로 한 조제품;  버터 함량이 전 중량의 100분의 30 초과 100분의 70 이하인 것,  버터를 기본 재료로 한 조제품;기타;커피크리머, 버터를 기본 재료로 한 조제품; 버터를 기본 재료로 한 조제품; 버터 함량이 전 중량의 100분의 30 이하인 것,  버터를 기본 재료로 한 조제품; 버터 함량이 전 중량의 100분의 30 초과 100분의 70 이하인 것,  버터를 기본 재료로 한 조제품; 버터 함량이 전 중량의 100분의 70을 초과하는 것, 아이스크림 제조용 조제품, 자기소화효모(autolyzed yeast)와 그 밖의 효모 추출물(extract), 향미(香味)용 조제품, 도토리 가루, 알로에를 기본 재료로 한 조제품, 음료 제조용 조제품[방향성(芳香性) 물질을 기본 재료로 한 것은 제외하며, 알코올 용량이 전 용량의 100분의 0.5를 초과하는 것으로 한정한다], 로열젤리, 벌꿀조제품의 것,   기타\\n코드: 090230\\n설명: 차, 블랙; (발효) 및 부분 발효 차, 3kg을 초과하지 않는 내용물의 즉시 포장; 홍차(발효차)와 부분 발효차(내용물의 무게가 3킬로그램 이하로 내용물에 직접 접하여 포장된 것으로 한정한다)', 'Answer': '```json\\n{\\n  \"가장_적합한_HS_코드\": \"210690\",\\n  \"가장_적합한_HS_항목명\": \"식품 준비물; 항목 번호 2106.10의 n.e.c.; 알코올을 함유하지 않은 음료의 베이스;\",\\n  \"판단_근거\": \"티젠 콤부차 레몬은 레몬 맛이 첨가된 콤부차 제품으로, 이는 알코올을 포함하지 않는 음료의 일종으로 분류될 수 있으며, HS 코드 210690이 보다 포괄적으로 음료 베이스와 관련된 식품 준비물에 해당합니다. 반면, 다른 두 코드(210120과 090230)는 각각 특정한 차 관련 제품이나 추출물에 해당하므로, 콤부차와 같은 발효 음료에 적합하지 않습니다.\"\\n}\\n```'}, {'ProductName': '품목명: 안성탕면 125g, 40개', 'CleanDescription': '안성탕면은 125g의 용량으로 포장된 인스턴트 라면 제품으로, 40개가 포함된 세트입니다.', 'Best3': '코드: 190230\\n설명: 음식 준비물; 파스타(박제 제외), 조리 또는 기타 조리된 음식; 인스탄트 면류;라면, 기타, 기타\\n코드: 110630\\n설명: 밀가루, 식사 및 분말; 8장의 제품 중; 제8류 물품의 것\\n코드: 210390\\n설명: 소스 및 이를 위한 준비물; 혼합 조미료 및 혼합 조미료; 장류;된장, 춘장, 고추장, 기타, 기타;마요네스, 인스턴트 카레, 혼합조미료, 메주, 기타', 'Answer': '```json\\n{\\n  \"가장_적합한_HS_코드\": \"190230\",\\n  \"가장_적합한_HS_항목명\": \"음식 준비물; 파스타(박제 제외), 조리 또는 기타 조리된 음식; 인스탄트 면류;라면, 기타, 기타\",\\n  \"판단_근거\": \"안성탕면은 인스턴트 라면 제품으로, 주된 구성 요소가 면과 스프이며, 이는 HS 코드 190230에 정확히 해당합니다. 다른 HS 코드들은 밀가루나 소스와 관련된 것으로, 안성탕면의 주된 특성과 성격을 반영하지 않기 때문에 적합하지 않습니다.\"\\n}\\n```'}]\n"
     ]
    }
   ],
   "source": [
    "# Initialize results storage\n",
    "results_kor = []\n",
    "\n",
    "# Process each row using the graph\n",
    "for doc in input_doc_kor[:30]:\n",
    "    # # Extract CommodityDescription from the page_content using regex\n",
    "    # match = re.search(r\"CommodityDescription: (.+)\", doc.page_content)\n",
    "    # activity = match.group(1).strip() if match else None  # Extract the description\n",
    "\n",
    "    activity = doc.page_content # Extract the Product Name\n",
    "\n",
    "    if activity:\n",
    "        result = graph_kor.invoke({\"activity\": activity})\n",
    "        \n",
    "        # Extract context and answer from the state after processing\n",
    "        results_kor.append({\n",
    "            \"ProductName\": activity,\n",
    "            \"CleanDescription\": result.get(\"clean_desc\", \"\"),\n",
    "            \"Best3\": \"\\n\".join(doc.page_content for doc in result.get(\"best3\", \"\")),\n",
    "            \"Answer\": result.get(\"answer\", \"\")\n",
    "        })\n",
    "\n",
    "# Print the results for debugging\n",
    "print(\"Final results:\", results_kor)"
   ]
  },
  {
   "cell_type": "code",
   "execution_count": null,
   "metadata": {},
   "outputs": [
    {
     "name": "stdout",
     "output_type": "stream",
     "text": [
      "Results saved to {file_name}\n"
     ]
    }
   ],
   "source": [
    "# Save results to a CSV file\n",
    "import csv\n",
    "from datetime import datetime\n",
    "\n",
    "# Get the current date and time\n",
    "now = datetime.now()\n",
    "timestamp = now.strftime(\"%Y%m%d_%H%M%S\")  # Format: YYYYMMDD_HHMMSS\n",
    "\n",
    "# Create a unique file name with date and time!!\n",
    "file_name_eng = f\"results/coupang_result_v3_eng_{timestamp}.csv\"\n",
    "\n",
    "with open(file_name_eng, \"w\", newline=\"\") as csvfile:\n",
    "    fieldnames = [\"ProductName\", \"CleanDescription\", \"Best3\", \"Answer\"]\n",
    "    writer = csv.DictWriter(csvfile, fieldnames=fieldnames)\n",
    "\n",
    "    writer.writeheader()\n",
    "    writer.writerows(results_eng)\n",
    "\n",
    "print(\"Results saved to {file_name_eng}\")"
   ]
  },
  {
   "cell_type": "code",
   "execution_count": 130,
   "metadata": {},
   "outputs": [
    {
     "name": "stdout",
     "output_type": "stream",
     "text": [
      "Results saved to {file_name_kor}\n"
     ]
    }
   ],
   "source": [
    "# Get the current date and time\n",
    "now = datetime.now()\n",
    "timestamp = now.strftime(\"%Y%m%d_%H%M%S\")  # Format: YYYYMMDD_HHMMSS\n",
    "\n",
    "# Create a unique file name with date and time!!\n",
    "file_name_kor = f\"results/coupang_result_v3_kor_{timestamp}_clean_clean_prompt.csv\"\n",
    "\n",
    "with open(file_name_kor, \"w\", newline=\"\") as csvfile:\n",
    "    fieldnames = [\"ProductName\", \"CleanDescription\", \"Best3\", \"Answer\"]\n",
    "    writer = csv.DictWriter(csvfile, fieldnames=fieldnames)\n",
    "\n",
    "    writer.writeheader()\n",
    "    writer.writerows(results_kor)\n",
    "\n",
    "print(\"Results saved to {file_name_kor}\")"
   ]
  }
 ],
 "metadata": {
  "kernelspec": {
   "display_name": "Python 3",
   "language": "python",
   "name": "python3"
  },
  "language_info": {
   "codemirror_mode": {
    "name": "ipython",
    "version": 3
   },
   "file_extension": ".py",
   "mimetype": "text/x-python",
   "name": "python",
   "nbconvert_exporter": "python",
   "pygments_lexer": "ipython3",
   "version": "3.10.15"
  }
 },
 "nbformat": 4,
 "nbformat_minor": 2
}
