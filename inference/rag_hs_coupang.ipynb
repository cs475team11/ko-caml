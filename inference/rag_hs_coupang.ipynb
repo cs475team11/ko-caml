{
 "cells": [
  {
   "cell_type": "code",
   "execution_count": 2,
   "metadata": {},
   "outputs": [],
   "source": [
    "# get openai api key from openai_config.json file\n",
    "import json\n",
    "with open('openai_config.json') as f:\n",
    "    openai_api_key = json.load(f)['openai_api_key']"
   ]
  },
  {
   "cell_type": "code",
   "execution_count": 34,
   "metadata": {},
   "outputs": [],
   "source": [
    "%%capture\n",
    "\n",
    "%env OPENAI_API_KEY = {openai_api_key}\n"
   ]
  },
  {
   "cell_type": "code",
   "execution_count": 4,
   "metadata": {},
   "outputs": [],
   "source": [
    "from langchain_openai import ChatOpenAI\n",
    "\n",
    "llm = ChatOpenAI(model=\"gpt-4o-mini\")"
   ]
  },
  {
   "cell_type": "code",
   "execution_count": null,
   "metadata": {},
   "outputs": [
    {
     "name": "stderr",
     "output_type": "stream",
     "text": [
      "/Users/ryuihchae/miniconda3/envs/kocaml/lib/python3.10/site-packages/tqdm/auto.py:21: TqdmWarning: IProgress not found. Please update jupyter and ipywidgets. See https://ipywidgets.readthedocs.io/en/stable/user_install.html\n",
      "  from .autonotebook import tqdm as notebook_tqdm\n"
     ]
    }
   ],
   "source": [
    "from langchain_huggingface import HuggingFaceEmbeddings\n",
    "from langchain_openai import OpenAIEmbeddings\n",
    "\n",
    "# For English: HuggingFace Embedding\n",
    "embeddings_eng = HuggingFaceEmbeddings(model_name=\"sentence-transformers/all-mpnet-base-v2\")\n",
    "\n",
    "# For Korean: OpenAI Embedding\n",
    "embeddings_kor = OpenAIEmbeddings(model=\"text-embedding-3-large\")"
   ]
  },
  {
   "cell_type": "code",
   "execution_count": null,
   "metadata": {},
   "outputs": [],
   "source": [
    "from langchain.document_loaders import CSVLoader\n",
    "\n",
    "# Loader for the HS code dataset\n",
    "loader_kor = CSVLoader(r\"../guidance_for_environmental_impact_factor_mapping_on_aws/assets/datasets/Korean_HSCode_kor.csv\")\n",
    "loader_eng = CSVLoader(r\"../guidance_for_environmental_impact_factor_mapping_on_aws/assets/datasets/Korean_HSCode_eng.csv\")"
   ]
  },
  {
   "cell_type": "code",
   "execution_count": 8,
   "metadata": {},
   "outputs": [],
   "source": [
    "documents_eng = loader_eng.load()\n",
    "documents_kor = loader_kor.load()"
   ]
  },
  {
   "cell_type": "code",
   "execution_count": null,
   "metadata": {},
   "outputs": [],
   "source": [
    "# # 첫 번째 실행에서만!!!\n",
    "from langchain_community.vectorstores import FAISS\n",
    "\n",
    "# Make FAISS vectorstore\n",
    "vector_store_eng = FAISS.from_documents(documents_eng, embeddings_eng)\n",
    "\n",
    "# save db to local (UN의 HSCode db랑 구분하기 위해 KORHS를 붙임)\n",
    "vector_store_eng.save_local('./db/faiss_KORHS_eng')"
   ]
  },
  {
   "cell_type": "code",
   "execution_count": 13,
   "metadata": {},
   "outputs": [],
   "source": [
    "# Make FAISS vectorstore- kor\n",
    "vector_store_kor = FAISS.from_documents(documents_kor, embeddings_kor)\n",
    "\n",
    "# save db to local (UN의 HSCode db랑 구분하기 위해 KORHS를 붙임)\n",
    "vector_store_kor.save_local('./db/faiss_KORHS_kor')"
   ]
  },
  {
   "cell_type": "code",
   "execution_count": 14,
   "metadata": {},
   "outputs": [],
   "source": [
    "# Load the DB from local\n",
    "# 두 번째 실행부터는 위 셀 실행하지 않고 이 셀만 실행\n",
    "from langchain_community.vectorstores import FAISS\n",
    "\n",
    "vector_store_eng = FAISS.load_local(\n",
    "    folder_path=\"./db/faiss_KORHS_eng\",\n",
    "    index_name=\"index\",\n",
    "    embeddings=embeddings_eng,\n",
    "    allow_dangerous_deserialization=True,\n",
    ")\n",
    "\n",
    "vector_store_kor = FAISS.load_local(\n",
    "    folder_path=\"./db/faiss_KORHS_kor\",\n",
    "    index_name=\"index\",\n",
    "    embeddings=embeddings_kor,\n",
    "    allow_dangerous_deserialization=True,\n",
    ")"
   ]
  },
  {
   "cell_type": "code",
   "execution_count": null,
   "metadata": {},
   "outputs": [],
   "source": [
    "from langchain_core.documents import Document\n",
    "from typing_extensions import List, TypedDict\n",
    "\n",
    "\n",
    "class State(TypedDict):\n",
    "    activity: str\n",
    "    clean_desc: str\n",
    "    best3: List[Document]\n",
    "    answer: str"
   ]
  },
  {
   "cell_type": "code",
   "execution_count": 17,
   "metadata": {},
   "outputs": [],
   "source": [
    "from langchain_core.prompts import PromptTemplate\n",
    "\n",
    "# Prompt to choose the best emission factor from the options\n",
    "best_eif_prompt_ENG = \"\"\"You are a Lifecycle Analysis expert matching grocery products to their Harmonized System (HS) Codes.\n",
    "\n",
    "I want to do of LCA of grocery products based on Environmentally Extended Input Output (EEIO) Environmental Impact Factors (EIF). I am interested in the environmental impact associated with the materials and manufacturing phase of the product. I am given a grocery product and three possible corresponding HS codes and descriptions. \n",
    "\n",
    "I want to pick the HS code and description that best match the given product. Include justification for your choice.\n",
    "Format the output in JSON with the keys BestHSCode, BestHSDescription, Justification.\n",
    "\n",
    "Product:\n",
    "{clean_desc}\n",
    "\n",
    "Possible HS codes and titles:\n",
    "{best3}\n",
    "\n",
    "Which of these HS Codes is the best match for the provided product? \n",
    "\n",
    "Make the most of the given information. DO NOT say that information is limited or ask for more information.\n",
    "YOU MUST choose a best code and title. YOU MUST include a justification for your choice.\n",
    "Avoid filler words such as \"Based on the details\" or \"happy to assist\", keep your response to the point.\n",
    "Do not repeat the given instructions or information. \n",
    "DO NOT say you have insufficient information for an LCA.\n",
    "\n",
    "Respond with the JSON output and nothing else.\n",
    "\"\"\"\n",
    "\n",
    "best_eif_prompt_KOR = \"\"\"너는 식료품을 HS 코드로 분류하는 전과정영향평가(Life Cycle Analysis, LCA) 전문가야.\n",
    "\n",
    "나는 환경 확장 투입 산출(Environmentally Extended Input Output, EEIO) 환경 영향 계수(Environmental Impact Factors, EIF)를 기반으로 한 식료품의 전과정영향평가를 수행하고 싶어. 나는 식료품의 재료 및 제조 단계와 관련된 환경적 영향에 관심 있어. 나는 하나의 물품과 이에 해당할 가능성이 있는 세 가지 HS 코드 및 항목명을 받았어.\n",
    "\n",
    "나는 주어진 물품에 가장 적합한 HS 코드와 항목명을 선택하고 싶어. 선택에 대한 근거를 함께 설명해야 해.\n",
    "출력 형식은 JSON으로, 키는 \"가장_적합한_HS_코드\", \"가장_적합한_HS_항목명\", \"판단_근거\"야.\n",
    "\n",
    "물품:\n",
    "{clean_desc}\n",
    "\n",
    "가능한 HS 코드 및 항목명:\n",
    "{best3}\n",
    "\n",
    "다음 중 제공된 물품과 가장 적합한 HS 코드는 무엇이지?\n",
    "\n",
    "주어진 정보를 최대한 활용해. 정보가 제한되어 있다고 말하거나 추가 정보를 요청하지 마.\n",
    "가장 적합한 코드와 항목명 선택해야 해. 선택에 대한 근거를 반드시 포함해야 해.\n",
    "“세부 사항에 따라” 또는 ‘기꺼이 도와드리겠습니다’와 같은 미사여구는 피하고 요점에 집중하여 답변해.\n",
    "주어진 지침이나 정보를 반복하지 마.\n",
    "전과정영향평가에 필요한 정보가 충분하지 않다고 말하지 마.\n",
    "다른 말 없이 JSON 출력으로만 응답해.\"\"\"\n",
    "\n",
    "best_eif_prompt_ENG = PromptTemplate.from_template(best_eif_prompt_ENG)\n",
    "best_eif_prompt_KOR = PromptTemplate.from_template(best_eif_prompt_KOR)\n"
   ]
  },
  {
   "cell_type": "code",
   "execution_count": null,
   "metadata": {},
   "outputs": [],
   "source": [
    "# Prompt to clean activity names and descriptions into a simple activity description to be matched in the next step.\n",
    "clean_text_prompt_ENG = \"\"\"I want to do of LCA of grocery products based on Environmentally Extended Input Output (EEIO) \n",
    "Environmental Impact Factors (EIF). I am interested in the environmental impact associated with the materials \n",
    "and manufacturing phase of the product. I am given grocery product names, and I want to \n",
    "paraphrase it to a plain language description before I select an EIF. \n",
    "\n",
    "Below is an example, inside <example></example> XML tags, of a given product name, and its plain language descriptions. Note that the descriptions \n",
    "are brief, and do not make any assumptions about the product.\n",
    "\n",
    "<example>\n",
    "PRODUCT_NAME            Gloves Work Mechanic Synthetic Leather SZ Large\n",
    "\n",
    "The item is a synthetic leather large work gloves \n",
    "</example>\n",
    "\n",
    "Following the example, provide a plain language description of the product data given below:\n",
    "{activity}\n",
    "\n",
    "Make the most of the given information. DO NOT say that information is limited.\n",
    "DO NOT refrain from providing a description, or ask for more information.\n",
    "If you cannot provide a plain language description, simply summarize the \n",
    "information provided. You MUST provide a description. \n",
    "DO NOT include the xml tags in your response.\n",
    "\n",
    "Avoid filler words such as \"Based on the details\" or \"happy to assist\", \n",
    "keep your response to the point.\n",
    "Do not repeat the given instructions or information. \n",
    "DO NOT say you have insufficient information for an LCA.\n",
    "\n",
    "Only provide the description and nothing else.\"\"\"\n",
    "\n",
    "clean_text_prompt_KOR = \"\"\"나는 환경 확장 투입 산출(Environmentally Extended Input Output, EEIO) 환경 영향 요인(Environmental Impact Factors, EIF)을 기반으로 한 식료품의 전과정영향평가(LCA)를 수행하려고 해. \n",
    "나는 식료품의 재료 및 제조 단계와 관련된 환경적 영향을 알고 싶어. 나는 식료품의 품목명을 받았고, \n",
    "이를 평이한 언어로 바꾸어 다시 서술한 후에 환경 영향 요인을 선택하려고 해.\n",
    "\n",
    "아래는 <example></example> XML 태그 안에 제공된 품목명과 그 평이한 언어 설명의 예시야. \n",
    "설명은 간결하며, 활동에 대한 어떠한 가정도 포함하지 않는다는 점을 주목해.\n",
    "\n",
    "<example>  \n",
    "품목명                                     SZ 작업용 합성가죽 장갑, 대형  \n",
    "\n",
    "이 품목은 합성 가죽으로 만든 대형 작업용 장갑입니다. \n",
    "\n",
    "</example>  \n",
    "\n",
    "위 예시를 참고하여, 아래에 제공된 식료품 데이터를 평이한 언어로 설명해:  \n",
    "{activity}  \n",
    "\n",
    "제공된 정보를 최대한 활용해. 정보가 제한적이라고 말하지 마.  \n",
    "설명을 제공하지 않거나 추가 정보를 요청하지 마.\n",
    "평이한 언어 설명을 제공할 수 없는 경우, 단순히 제공된 정보를 요약해. 반드시 설명을 제공해야 해. \n",
    "XML 태그는 응답에 포함하지 마. \n",
    "\n",
    "\"세부 사항에 따르면\" 또는 \"도움을 드릴 수 있어 기쁩니다\"와 같은 군더더기 표현을 피하고, 응답을 간결하게 작성해.  \n",
    "주어진 지침이나 정보를 반복하지 마.  \n",
    "전과정영향평가에 대해 정보가 부족하다고 언급하지 마.  \n",
    "\n",
    "설명만 제공하고, 그 외에는 아무것도 작성하지 마.\"\"\"\n",
    "\n",
    "clean_text_prompt_ENG = PromptTemplate.from_template(clean_text_prompt_ENG)\n",
    "clean_text_prompt_KOR = PromptTemplate.from_template(clean_text_prompt_KOR)\n"
   ]
  },
  {
   "cell_type": "code",
   "execution_count": 19,
   "metadata": {},
   "outputs": [],
   "source": [
    "def clean_eng(state: State):\n",
    "    messages = clean_text_prompt_ENG.invoke({\"activity\": state[\"activity\"]})\n",
    "    response = llm.invoke(messages)\n",
    "    return {\"clean_desc\": response.content}\n",
    "\n",
    "def retrieve_eng(state: State):\n",
    "    clean_desc = state[\"clean_desc\"]\n",
    "    best3_prompt_text = f\"What are three possible HS Codes for the given product description: {clean_desc}\"\n",
    "    retrieved_docs = vector_store_eng.similarity_search(best3_prompt_text, 3) # 3\n",
    "    return {\"best3\": retrieved_docs}\n",
    "\n",
    "\n",
    "def generate_eng(state: State):\n",
    "    docs_content = \"\\n\\n\".join(doc.page_content for doc in state[\"best3\"])\n",
    "    messages = best_eif_prompt_ENG.invoke({\"clean_desc\": state[\"clean_desc\"], \"best3\": docs_content})\n",
    "    response = llm.invoke(messages)\n",
    "    return {\"answer\": response.content}"
   ]
  },
  {
   "cell_type": "code",
   "execution_count": 20,
   "metadata": {},
   "outputs": [],
   "source": [
    "def clean_kor(state: State):\n",
    "    messages = clean_text_prompt_KOR.invoke({\"activity\": state[\"activity\"]})\n",
    "    response = llm.invoke(messages)\n",
    "    return {\"clean_desc\": response.content}\n",
    "\n",
    "def retrieve_kor(state: State):\n",
    "    clean_desc = state[\"clean_desc\"]\n",
    "    best3_prompt_text = f\"다음 품목에 해당할 가능성이 가장 높은 세 가지 HS 코드 및 항목명은?: {clean_desc}\"\n",
    "    retrieved_docs = vector_store_kor.similarity_search(best3_prompt_text, 3) # 3\n",
    "    return {\"best3\": retrieved_docs}\n",
    "\n",
    "\n",
    "def generate_kor(state: State):\n",
    "    docs_content = \"\\n\\n\".join(doc.page_content for doc in state[\"best3\"])\n",
    "    messages = best_eif_prompt_KOR.invoke({\"clean_desc\": state[\"clean_desc\"], \"best3\": docs_content})\n",
    "    response = llm.invoke(messages)\n",
    "    return {\"answer\": response.content}"
   ]
  },
  {
   "cell_type": "code",
   "execution_count": 21,
   "metadata": {},
   "outputs": [],
   "source": [
    "from langgraph.graph import START, StateGraph\n",
    "\n",
    "graph_builder_eng = StateGraph(State).add_sequence([clean_eng, retrieve_eng, generate_eng])\n",
    "graph_builder_eng.add_edge(START, \"clean_eng\")\n",
    "graph_eng = graph_builder_eng.compile()\n",
    "\n",
    "graph_builder_kor = StateGraph(State).add_sequence([clean_kor, retrieve_kor, generate_kor])\n",
    "graph_builder_kor.add_edge(START, \"clean_kor\")\n",
    "graph_kor = graph_builder_kor.compile()"
   ]
  },
  {
   "cell_type": "code",
   "execution_count": 22,
   "metadata": {},
   "outputs": [
    {
     "data": {
      "image/png": "[encoded data removed]",
      "text/plain": [
       "<IPython.core.display.Image object>"
      ]
     },
     "metadata": {},
     "output_type": "display_data"
    }
   ],
   "source": [
    "from IPython.display import Image, display\n",
    "\n",
    "display(Image(graph_kor.get_graph().draw_mermaid_png()))"
   ]
  },
  {
   "cell_type": "code",
   "execution_count": null,
   "metadata": {},
   "outputs": [
    {
     "data": {
      "text/plain": [
       "'PRODUCT_NAME: Oatmeal White Rice, 210 g, 24 packets'"
      ]
     },
     "execution_count": 26,
     "metadata": {},
     "output_type": "execute_result"
    }
   ],
   "source": [
    "# Loader for the input activities dataset\n",
    "from langchain.document_loaders import CSVLoader\n",
    "\n",
    "input_loader_eng = CSVLoader(r\"../guidance_for_environmental_impact_factor_mapping_on_aws/assets/input/coupang_product_names_groceries_v3_eng.csv\", encoding='utf-8-sig')\n",
    "input_doc_eng = input_loader_eng.load()\n",
    "\n",
    "input_doc_eng[0].page_content"
   ]
  },
  {
   "cell_type": "code",
   "execution_count": null,
   "metadata": {},
   "outputs": [
    {
     "data": {
      "text/plain": [
       "'품목명: 오뚜기 흰밥, 210g, 24개'"
      ]
     },
     "execution_count": 27,
     "metadata": {},
     "output_type": "execute_result"
    }
   ],
   "source": [
    "input_loader_kor = CSVLoader(r\"../guidance_for_environmental_impact_factor_mapping_on_aws/assets/input/coupang_product_names_groceries_v3_kor.csv\", encoding='utf-8-sig')\n",
    "input_doc_kor = input_loader_kor.load()\n",
    "\n",
    "input_doc_kor[0].page_content"
   ]
  },
  {
   "cell_type": "code",
   "execution_count": null,
   "metadata": {},
   "outputs": [
    {
     "name": "stdout",
     "output_type": "stream",
     "text": [
      "Final results: [{'ProductName': 'PRODUCT_NAME: Oatmeal White Rice, 210 g, 24 packets', 'CleanDescription': 'The product is a package of oatmeal white rice containing 24 individual packets, with a total weight of 210 grams.', 'Best3': 'HSCode: 1901909010\\nDescription: Food preparations; flour, meal, starch, malt extract or dairy products, except for uses described in heading no. 1901; Miscellaneous; Oatmeal\\nHSCode: 1006400000\\nDescription: Grain; rice, broken; broken rice\\nHSCode: 1006100000\\nDescription: grain; hulled rice (rice or coarse rice); rice', 'Answer': '```json\\n{\\n  \"BestHSCode\": \"1901909010\",\\n  \"BestHSDescription\": \"Food preparations; flour, meal, starch, malt extract or dairy products, except for uses described in heading no. 1901; Miscellaneous; Oatmeal\",\\n  \"Justification\": \"The product is a package of oatmeal white rice, which includes oatmeal as a key ingredient. The HS code 1901909010 specifically pertains to food preparations that include oatmeal, making it the most relevant choice compared to the other codes that focus solely on rice.\"\\n}\\n```'}, {'ProductName': 'PRODUCT_NAME: Shin Ramen, 120 g, 30 packets', 'CleanDescription': 'The item is a pack of 30 Shin Ramen noodles, each weighing 120 grams.', 'Best3': 'HSCode: 3707100000\\nDescription: Photographic merchandise; sensitive emulsions; merchandise put up for retail sale in metered portions or in ready-to-use form; photosensitive emulsions\\nHSCode: 3707902090\\nDescription: Photographic merchandise; chemical preparations, other than sensitive emulsions, when placed up for retail sale in measured portions or in ready-to-use form; developers; etc.\\nHSCode: 4820400000\\nDescription: Paper and cardboard; assorted business forms and interleaved carbon sets; assorted business forms and interleaved carbon sets', 'Answer': '```json\\n{\\n  \"BestHSCode\": \"3707100000\",\\n  \"BestHSDescription\": \"Photographic merchandise; sensitive emulsions; merchandise put up for retail sale in metered portions or in ready-to-use form; photosensitive emulsions\",\\n  \"Justification\": \"None of the provided HS codes directly match food products, but HSCode 3707100000 pertains to merchandise sold in portions, which is somewhat analogous to the packaging of Shin Ramen noodles. The other codes relate to photographic merchandise, which is unrelated to grocery items.\"\\n}\\n```'}, {'ProductName': 'PRODUCT_NAME: Spam 25% light, 9', 'CleanDescription': 'The item is a light version of Spam, with 25% less fat, sold in a 9-ounce container.', 'Best3': 'HSCode: 401501000\\nDescription: Dairy products; milk and cream, undiluted and without added sugar or other sweeteners, if fat content exceeds 10% by weight; frozen cream\\nHSCode: 402101010\\nDescription: Dairy products; milk and cream added or concentrated with sugar or other sweeteners in powdered, granulated, or other solid form not exceeding 1.5% (by weight) fat content; without added sugar or other sweeteners; skimmed milk powder\\nHSCode: 401509000\\nDescription: Dairy products; milk and cream, undiluted and without added sugar or other sweeteners, if fat content exceeds 10% by weight; other', 'Answer': '```json\\n{\\n  \"BestHSCode\": \"401509000\",\\n  \"BestHSDescription\": \"Dairy products; milk and cream, undiluted and without added sugar or other sweeteners, if fat content exceeds 10% by weight; other\",\\n  \"Justification\": \"The product is a light version of Spam, which is typically a processed meat product rather than a dairy product. However, among the provided options, HSCode 401509000 focuses on dairy products without added sugar, which aligns more closely with the concept of a processed food item that may include components like milk or cream as part of its formulation. The other codes relate specifically to milk and cream with defined sugar content and fat content, which does not apply to a meat product like Spam.\"\\n}\\n```'}, {'ProductName': 'PRODUCT_NAME: Dongwon chili tuna, 85 g, 8 ounces', 'CleanDescription': 'The item is an 85-gram can of Dongwon chili tuna.', 'Best3': 'HSCode: 3605000000\\nDescription: Matches, other, heading no. 3604; matches, except chemicals, of heading 3604\\nHSCode: 203120000\\nDescription: Meat; pork, ham, shoulder, and cuts thereof, fresh or refrigerated, with bones; pork leg and shoulder meat and cuts thereof, with bones only\\nHSCode: 3921909090\\nDescription: Plastics; Plates, Sheets, Films, Foils &amp; Strips (except Cellular); Other; Other', 'Answer': '```json\\n{\\n  \"BestHSCode\": \"3605000000\",\\n  \"BestHSDescription\": \"Matches, other, heading no. 3604; matches, except chemicals, of heading 3604\",\\n  \"Justification\": \"The product is an 85-gram can of Dongwon chili tuna, which falls under processed food products. The HS code 3605000000 pertains to matches, which can also be used for various food items that are not categorized under specific meat or plastic classifications. The other two options do not relate to seafood or processed fish products, making this the most appropriate choice.\"\\n}\\n```'}, {'ProductName': 'PRODUCT_NAME: Prospector Unlabeled, 2L, 24 pieces', 'CleanDescription': 'The item is a pack of 24 liters of an unlabeled product.', 'Best3': 'HSCode: 4820400000\\nDescription: Paper and cardboard; assorted business forms and interleaved carbon sets; assorted business forms and interleaved carbon sets\\nHSCode: 3923100000\\nDescription: Plastic, boxes, cases, crates and similar articles for transporting or packaging goods; crates, cases, baskets and similar articles\\nHSCode: 3707902090\\nDescription: Photographic merchandise; chemical preparations, other than sensitive emulsions, when placed up for retail sale in measured portions or in ready-to-use form; developers; etc.', 'Answer': '```json\\n{\\n  \"BestHSCode\": \"3923100000\",\\n  \"BestHSDescription\": \"Plastic, boxes, cases, crates and similar articles for transporting or packaging goods; crates, cases, baskets and similar articles\",\\n  \"Justification\": \"The product is a pack of 24 liters of an unlabeled product, which likely requires packaging for transport and storage. The HS code 3923100000 pertains to plastic articles used for packaging, making it the most relevant choice. The other codes relate to business forms and photographic merchandise, which do not apply to a grocery product.\"\\n}\\n```'}, {'ProductName': 'PRODUCT_NAME: Thicker Short Ribs (frozen), 600 g, 5 pieces', 'CleanDescription': 'The item is a package of thicker frozen short ribs weighing 600 grams, containing 5 pieces.', 'Best3': 'HSCode: 203220000\\nDescription: Meat; pork, ham, shoulder, and cuts thereof, frozen with bones; pork leg and shoulder, and cuts thereof, with bones only\\nHSCode: 203120000\\nDescription: Meat; pork, ham, shoulder, and cuts thereof, fresh or refrigerated, with bones; pork leg and shoulder meat and cuts thereof, with bones only\\nHSCode: 2301101000\\nDescription: Flour, meal and pellets; meat or meat offal, fat; fine or coarse powder or pellets of meat or offal', 'Answer': '```json\\n{\\n  \"BestHSCode\": \"203220000\",\\n  \"BestHSDescription\": \"Meat; pork, ham, shoulder, and cuts thereof, frozen with bones; pork leg and shoulder, and cuts thereof, with bones only\",\\n  \"Justification\": \"The product is a package of thicker frozen short ribs, which indicates that it consists of pork meat that is frozen and includes bones. HS Code 203220000 specifically refers to frozen pork with bones, making it the most accurate match for the product compared to the other options that refer to fresh or refrigerated meat or meat offal.\"\\n}\\n```'}, {'ProductName': 'PRODUCT_NAME: Blue Diamond Almond Breeze Original, 190 ml, 24 pieces', 'CleanDescription': 'The item is a pack of 24 pieces of 190 ml original almond milk from the brand Blue Diamond.', 'Best3': 'HSCode: 402101010\\nDescription: Dairy products; milk and cream added or concentrated with sugar or other sweeteners in powdered, granulated, or other solid form not exceeding 1.5% (by weight) fat content; without added sugar or other sweeteners; skimmed milk powder\\nHSCode: 401501000\\nDescription: Dairy products; milk and cream, undiluted and without added sugar or other sweeteners, if fat content exceeds 10% by weight; frozen cream\\nHSCode: 402211000\\nDescription: Dairy products; concentrated milk and cream without added sugar or other sweeteners, in powder, granular or other solid form, with a fat content in excess of 1.5% (by weight); whole milk powder', 'Answer': '```json\\n{\\n  \"BestHSCode\": \"402101010\",\\n  \"BestHSDescription\": \"Dairy products; milk and cream added or concentrated with sugar or other sweeteners in powdered, granulated, or other solid form not exceeding 1.5% (by weight) fat content; without added sugar or other sweeteners; skimmed milk powder\",\\n  \"Justification\": \"The product is almond milk, which is a plant-based alternative to dairy milk. However, the closest match among the provided HS codes relates to dairy products, specifically those involving milk and cream in various forms. The first HS code (402101010) pertains to milk products without added sugar, which aligns more closely with almond milk\\'s nature as a dairy alternative compared to the other two codes, which refer to higher-fat dairy products.\"\\n}\\n```'}, {'ProductName': 'PRODUCT_NAME: Bibigo King Gyoza (frozen), 1.05 kg, 2 pieces', 'CleanDescription': 'The item is a 1.05 kg package of frozen Bibigo King Gyoza, consisting of 2 pieces.', 'Best3': 'HSCode: 203220000\\nDescription: Meat; pork, ham, shoulder, and cuts thereof, frozen with bones; pork leg and shoulder, and cuts thereof, with bones only\\nHSCode: 511999030\\nDescription: Animal products, see Chapter 5; other; carcasses of animals (except carcasses of third class goods)\\nHSCode: 203210000\\nDescription: Meat; pork, carcasses and semi-carcasses, frozen; carcasses (屠體) and bisected carcasses (二分屠體)', 'Answer': '```json\\n{\\n  \"BestHSCode\": \"203220000\",\\n  \"BestHSDescription\": \"Meat; pork, ham, shoulder, and cuts thereof, frozen with bones; pork leg and shoulder, and cuts thereof, with bones only\",\\n  \"Justification\": \"The product is a package of frozen gyoza, which typically contains pork as a primary ingredient. HS Code 203220000 specifically refers to frozen pork cuts, making it the most relevant choice for a product that includes meat components. The other options refer to broader categories of meat or carcasses, which do not specifically match the processed nature of gyoza.\"\\n}\\n```'}, {'ProductName': 'PRODUCT_NAME: 11 brix tangerines, 2 kg (royal family), 1 tangerine per tangerine tartness scale', 'CleanDescription': 'The item is a 2 kg package of 11 brix tangerines, which are sweet and flavorful with a tartness scale rating of 1 tangerine.', 'Best3': 'HSCode: 2009410000\\nDescription: Juice; unfermented (unalcoholized) pineapple juice not exceeding 20 Brix, whether or not sugar or other sweeteners have been added; with a Brix value of 20 or less\\nHSCode: 2009490000\\nDescription: Juice; pineapple, unalcoholized, unfermented, with a brix value in excess of 20, whether or not sugar or other sweeteners have been added; etc.\\nHSCode: 2009710000\\nDescription: Juice; unfermented (unalcoholized) apple juice not exceeding 20 Brix, whether or not sugar or other sweeteners have been added; with a Brix value of 20 or less', 'Answer': '```json\\n{\\n  \"BestHSCode\": \"2009410000\",\\n  \"BestHSDescription\": \"Juice; unfermented (unalcoholized) pineapple juice not exceeding 20 Brix, whether or not sugar or other sweeteners have been added; with a Brix value of 20 or less\",\\n  \"Justification\": \"The product is a 2 kg package of tangerines, which are fruit, and while the HS code pertains to pineapple juice, it is the only code that matches the category of fruit juice with a Brix value not exceeding 20. The Brix scale indicates the sugar content in fruit juices and is relevant for the tangerines, which are sweet and flavorful, aligning with the content description of the HS code.\"\\n}\\n```'}, {'ProductName': 'PRODUCT_NAME: Damter Walnut Almond Yulmucha, 18 g, 50 Count, 1', 'CleanDescription': 'The item is a pack of 50 Yulmucha snacks made with walnut and almond, weighing 18 grams each.', 'Best3': 'HSCode: 802800000\\nDescription: Nuts, edible; areca nuts, shelled or unshelled, fresh or dried; areca nut\\nHSCode: 1704901000\\nDescription: Sugary confections that do not contain cocoa (except chewing gum, including white chocolate); licorice extract (except those made into confections)\\nHSCode: 1806201000\\nDescription: Chocolate and other food preparations containing cocoa, in blocks, slabs, or bars, or in liquid, paste, powder, granules, or other bulk form, in containers or ready-to-use packages, the contents of which exceed 2 kilograms; chocolate and chocolate confections', 'Answer': '```json\\n{\\n  \"BestHSCode\": \"802800000\",\\n  \"BestHSDescription\": \"Nuts, edible; areca nuts, shelled or unshelled, fresh or dried; areca nut\",\\n  \"Justification\": \"The product consists of snacks made with walnut and almond, which are considered edible nuts. The HS code 802800000 specifically covers edible nuts, making it the most appropriate choice for the materials used in the Yulmucha snacks.\"\\n}\\n```'}]\n"
     ]
    }
   ],
   "source": [
    "import re  # For extracting fields from page_content\n",
    "\n",
    "# Initialize results storage\n",
    "results_eng = []\n",
    "\n",
    "# Process each row using the graph\n",
    "for doc in input_doc_eng:\n",
    "    # # Extract CommodityDescription from the page_content using regex\n",
    "    # match = re.search(r\"CommodityDescription: (.+)\", doc.page_content)\n",
    "    # activity = match.group(1).strip() if match else None  # Extract the description\n",
    "\n",
    "    activity = doc.page_content # Extract the Product Name\n",
    "\n",
    "    if activity:\n",
    "        # print(f\"Processing activity: {activity}\")  # Debugging: print the activity\n",
    "        # Invoke the graph\n",
    "        result = graph_eng.invoke({\"activity\": activity})\n",
    "        \n",
    "        # Extract context and answer from the state after processing\n",
    "        results_eng.append({\n",
    "            \"ProductName\": activity,\n",
    "            \"CleanDescription\": result.get(\"clean_desc\", \"\"),\n",
    "            \"Best3\": \"\\n\".join(doc.page_content for doc in result.get(\"best3\", \"\")),\n",
    "            \"Answer\": result.get(\"answer\", \"\")\n",
    "        })\n",
    "\n",
    "# Print the results for debugging\n",
    "print(\"Final results:\", results_eng)"
   ]
  },
  {
   "cell_type": "code",
   "execution_count": null,
   "metadata": {},
   "outputs": [
    {
     "name": "stdout",
     "output_type": "stream",
     "text": [
      "Final results: [{'ProductName': '품목명: 오뚜기 흰밥, 210g, 24개', 'CleanDescription': '오뚜기 흰밥은 210g의 포장이며, 24개가 들어있는 제품입니다.', 'Best3': '코드: 1008900000\\n설명: 곡물; 10장의 내용 참조; 그 밖의 곡물\\n코드: 1106300000\\n설명: 밀가루, 식사 및 분말; 8장의 제품 중; 제8류 물품의 것\\n코드: 1106100000\\n설명: 밀가루, 식사 및 분말; 제목의 말린 콩과 식물성 채소 중 번호. 0713; 건조한 채두류(菜豆類)의 것(제0713호의 것으로 한정한다)', 'Answer': '```json\\n{\\n  \"가장_적합한_HS_코드\": \"1008900000\",\\n  \"가장_적합한_HS_항목명\": \"곡물; 10장의 내용 참조; 그 밖의 곡물\",\\n  \"판단_근거\": \"오뚜기 흰밥은 주로 쌀을 기본 재료로 하여 제조된 제품으로, HS 코드 1008900000은 그 밖의 곡물에 해당합니다. 다른 두 코드인 1106300000과 1106100000은 밀가루 및 분말 관련 제품으로, 흰밥과는 직접적인 관련이 없습니다. 따라서 오뚜기 흰밥에 가장 적합한 HS 코드는 1008900000입니다.\"\\n}\\n```'}, {'ProductName': '품목명: 신라면 120g, 30개', 'CleanDescription': '신라면은 120g 패키지로 제공되는 인스턴트 라면이며, 30개가 들어 있는 묶음입니다.', 'Best3': '코드: 1902301010\\n설명: 음식 준비물; 파스타(박제 제외), 조리 또는 기타 조리된 음식; 인스탄트 면류; 라면\\n코드: 2103909020\\n설명: 소스 및 이를 위한 준비물; 혼합 조미료 및 혼합 조미료; 기타; 인스턴트 카레\\n코드: 1902301090\\n설명: 음식 준비물; 파스타(박제 제외), 조리 또는 기타 조리된 음식; 인스탄트 면류; 기타', 'Answer': '```json\\n{\\n  \"가장_적합한_HS_코드\": \"1902301010\",\\n  \"가장_적합한_HS_항목명\": \"음식 준비물; 파스타(박제 제외), 조리 또는 기타 조리된 음식; 인스탄트 면류; 라면\",\\n  \"판단_근거\": \"신라면은 인스턴트 라면으로서, 주성분이 면과 조리된 음식에 해당합니다. HS 코드 1902301010은 인스턴트 면류에 대한 정확한 분류를 제공하며, 라면이라는 특정 상품을 명시하므로 가장 적합합니다.\"\\n}\\n```'}, {'ProductName': '품목명: 스팸 25% 라이트, 9개', 'CleanDescription': '스팸 25% 라이트는 지방이 25% 줄어든 스팸 통조림 제품으로, 9개의 팩으로 구성되어 있습니다.', 'Best3': '코드: 1504200000\\n설명: 지방 및 유지류 및 그 분획물, 생선(간유 제외); 어류의 지방과 기름 및 그 분획물[간유(肝油)는 제외한다]\\n코드: 2106909022\\n설명: 식품 준비물; 항목 번호 2106.10의 n.e.c.; 기타; 버터를 기본 재료로 한 조제품; 버터 함량이 전 중량의 100분의 30 초과 100분의 70 이하인 것\\n코드: 2106909021\\n설명: 식품 준비물; 항목 번호 2106.10의 n.e.c.; 기타; 버터를 기본 재료로 한 조제품; 버터 함량이 전 중량의 100분의 30 이하인 것', 'Answer': '```json\\n{\\n  \"가장_적합한_HS_코드\": \"2106909022\",\\n  \"가장_적합한_HS_항목명\": \"식품 준비물; 항목 번호 2106.10의 n.e.c.; 기타; 버터를 기본 재료로 한 조제품; 버터 함량이 전 중량의 100분의 30 초과 100분의 70 이하인 것\",\\n  \"판단_근거\": \"스팸 25% 라이트는 가공된 식품으로, 지방이 줄어든 통조림 제품입니다. HS 코드 2106909022는 버터를 기본 재료로 한 조제품으로, 지방 함량이 특정 비율에 해당하는 식품 준비물로 분류됩니다. 스팸은 일반적으로 가공육의 일종으로, HS 코드 2106에 포함될 수 있으며, 이 항목이 가장 적합하다고 판단됩니다.\"\\n}\\n```'}, {'ProductName': '품목명: 동원 고추 참치, 85g, 8개', 'CleanDescription': '동원 고추 참치는 85g 용량의 통조림 형태로 제공되는 참치 제품입니다. 이 제품은 8개가 한 세트로 포장되어 있습니다.', 'Best3': '코드: 1604141029\\n설명: 생선 준비물; 참치, 가다랑어, 가다랑어(사르다과), 통째로 또는 조각으로 조리하거나 보존한 것(다진 것은 제외); 밀폐용기에 넣은 것; 가다랑어; 기타\\n코드: 1604141019\\n설명: 생선 준비물; 참치, 가다랑어, 가다랑어(사르다과), 통째로 또는 조각으로 조리하거나 보존한 것(다진 것은 제외); 밀폐용기에 넣은 것; 다랑어; 기타\\n코드: 1604191010\\n설명: 생선 준비물; 생선 준비 또는 보존, 통째로 또는 조각으로 (다진 것은 아님), 세번 번호의 기타. 1604; 밀폐용기에 넣은 것; 꽁치', 'Answer': '```json\\n{\\n  \"가장_적합한_HS_코드\": \"1604141019\",\\n  \"가장_적합한_HS_항목명\": \"생선 준비물; 참치, 가다랑어, 가다랑어(사르다과), 통째로 또는 조각으로 조리하거나 보존한 것(다진 것은 제외); 밀폐용기에 넣은 것; 다랑어; 기타\",\\n  \"판단_근거\": \"동원 고추 참치는 참치 제품으로, 통조림 형태로 제공되며, HS 코드 1604141019에서 명시된 \\'참치\\'와 \\'밀폐용기에 넣은 것\\'의 조건을 충족합니다. 이 코드는 다진 것이 아닌 통째로 또는 조각으로 조리하거나 보존한 참치에 해당하여, 제공된 제품의 특성과 가장 일치합니다.\"\\n}\\n```'}, {'ProductName': '품목명: 탐사수 무라벨, 2L, 24개', 'CleanDescription': '이 품목은 2리터 용량의 탐사수로, 라벨이 없는 포장으로 24개가 포함되어 있습니다.', 'Best3': '코드: 3707909900\\n설명: 사진 상품; 민감성 유제 이외의 화학 제제, 측정된 부분으로 올려놓거나 사용할 준비가 된 형태로 소매 판매를 위해 올려놓는 경우; 기타; 기타\\n코드: 3707909300\\n설명: 사진 상품; 민감성 유제 이외의 화학 제제, 측정된 부분으로 올려놓거나 사용할 준비가 된 형태로 소매 판매를 위해 올려놓는 경우; 기타; 세정제\\n코드: 3822193014\\n설명: 시약; 지지대 위에 있는 진단 또는 실험실 시약, 지지대 위에 있든 없든, 키트 형태로 올려져 있든 없든 간에 준비된 진단 또는 실험실 시약; 품목 3822.1의 n.e.c.; 실험실용 시약; 조제된 것(뒷편을 보강한 것으로 한정한다); 리트머스 시험지와 그 밖의 이와 유사한 시험지', 'Answer': '```json\\n{\\n  \"가장_적합한_HS_코드\": \"3707909300\",\\n  \"가장_적합한_HS_항목명\": \"사진 상품; 민감성 유제 이외의 화학 제제, 측정된 부분으로 올려놓거나 사용할 준비가 된 형태로 소매 판매를 위해 올려놓는 경우; 기타; 세정제\",\\n  \"판단_근거\": \"탐사수는 일반적으로 세정제 또는 청소 제품으로 사용될 수 있으며, HS 코드 3707909300은 세정제와 관련된 항목으로 가장 적합합니다. HS 코드 3707909900은 보다 포괄적인 범주를 포함하지만, 세정제에 특화된 코드인 3707909300이 더 정확하게 탐사수의 성격을 반영합니다. 코드 3822193014는 실험실 시약과 관련된 것으로 탐사수와는 관련성이 낮습니다.\"\\n}\\n```'}, {'ProductName': '품목명: 곰곰 더 진한 갈비탕 (냉동), 600g, 5개', 'CleanDescription': '곰곰 더 진한 갈비탕은 600g의 냉동식품으로, 5개가 포함되어 있습니다.', 'Best3': '코드: 504001021\\n설명: 동물성 제품; 동물(생선 제외)의 내장, 방광 및 위, 전체 및 그 조각, 신선, 냉장, 냉동, 소금에 절인 것, 소금물에 담근 것, 건조 또는 훈제된 것; 장; 돼지의 것; 소시지 케이싱용\\n코드: 504001031\\n설명: 동물성 제품; 동물(생선 제외)의 내장, 방광 및 위, 전체 및 그 조각, 신선, 냉장, 냉동, 소금에 절인 것, 소금물에 담근 것, 건조 또는 훈제된 것; 장; 양의 것; 소시지 케이싱용\\n코드: 206499000\\n설명: 내장, 식용, 돼지 (간 제외), 냉동; 기타', 'Answer': '```json\\n{\\n  \"가장_적합한_HS_코드\": \"206499000\",\\n  \"가장_적합한_HS_항목명\": \"내장, 식용, 돼지 (간 제외), 냉동; 기타\",\\n  \"판단_근거\": \"곰곰 더 진한 갈비탕은 돼지고기 갈비로 만들어진 냉동식품으로, 주 성분이 돼지의 내장 및 고기이기 때문에 \\'내장, 식용, 돼지 (간 제외), 냉동\\' 항목이 가장 적합하다. 다른 두 코드는 양과 돼지에 대한 특정 부위(소시지 케이싱용)와 관련이 있어 갈비탕과의 관련성이 낮다.\"\\n}\\n```'}, {'ProductName': '품목명: 블루다이아몬드 아몬드 브리즈 오리지널, 190ml, 24개', 'CleanDescription': '블루다이아몬드 아몬드 브리즈 오리지널은 190ml 용량의 음료가 24개 들어있는 제품입니다.', 'Best3': '코드: 2009891030\\n설명: 주스, 단일 과일, 견과류 또는 채소 n.e.c.로 표시된 주스. 2009, 발효되지 않은 것, 주정 미포함, 첨가당 또는 기타 감미료 포함 여부에 관계없이 포함되지 않은 것; 크랜베리(cranberry)[바치니움 매크로카르폰(Vaccinium macrocarpon)ㆍ바치니움 옥시코코스(Vaccinium oxycoccos)ㆍ바치니움 비티스-이다에아(Vaccinium vitis-idaea)] 이외의 과실주스; 코코넛 주스(코코넛 워터를 포함한다)\\n코드: 2106901020\\n설명: 식품 준비물; 항목 번호 2106.10의 n.e.c.; 알코올을 함유하지 않은 음료의 베이스; 과일향의 음료베이스\\n코드: 2106901010\\n설명: 식품 준비물; 항목 번호 2106.10의 n.e.c.; 알코올을 함유하지 않은 음료의 베이스; 콜라 베이스', 'Answer': '```json\\n{\\n  \"가장_적합한_HS_코드\": \"2106901020\",\\n  \"가장_적합한_HS_항목명\": \"식품 준비물; 항목 번호 2106.10의 n.e.c.; 알코올을 함유하지 않은 음료의 베이스; 과일향의 음료베이스\",\\n  \"판단_근거\": \"블루다이아몬드 아몬드 브리즈 오리지널은 아몬드로 만들어진 음료로, 주스가 아닌 식품 준비물로 분류되는 것이 적합합니다. 이 제품은 알코올을 포함하지 않으며, 과일향의 음료베이스에 해당하여 2106901020 코드가 가장 적합합니다.\"\\n}\\n```'}, {'ProductName': '품목명: 비비고 왕교자 (냉동), 1.05kg, 2개', 'CleanDescription': '비비고 왕교자는 냉동 상태로 제공되는 1.05kg의 두 개 묶음입니다.', 'Best3': '코드: 207604290\\n설명: 육류 및 식용 내장, 기니피그, 신선, 냉장 또는 냉동 제품; 기타(냉동한 것으로 한정한다); 설육(屑肉); 기타\\n코드: 207604210\\n설명: 육류 및 식용 내장, 기니피그, 신선, 냉장 또는 냉동 제품; 기타(냉동한 것으로 한정한다); 설육(屑肉); 간\\n코드: 207604100\\n설명: 육류 및 식용 내장, 기니피그, 신선, 냉장 또는 냉동 제품; 기타(냉동한 것으로 한정한다); 절단육', 'Answer': '```json\\n{\\n  \"가장_적합한_HS_코드\": \"207604100\",\\n  \"가장_적합한_HS_항목명\": \"육류 및 식용 내장, 기니피그, 신선, 냉장 또는 냉동 제품; 기타(냉동한 것으로 한정한다); 절단육\",\\n  \"판단_근거\": \"비비고 왕교자는 냉동 제품으로, 주로 육류를 포함하고 있으며, \\'절단육\\'이 가장 적합한 분류입니다. 다른 두 코드는 간 또는 설육 관련으로, 왕교자의 구성과 맞지 않습니다.\"\\n}\\n```'}, {'ProductName': '품목명: 귤탐 당도선별 11brix 감귤, 2kg(로열과), 1개', 'CleanDescription': '이 품목은 11brix 당도로 선별된 로열 품종의 감귤 2kg입니다.', 'Best3': '코드: 2008979000\\n설명: 과일, 견과류 및 기타 식물의 식용 가능한 부분, 혼합물(세번 2008.19호 이외의 것), 설탕 또는 기타 감미료나 증류주를 첨가했는지 여부에 관계없이 2007 및 2008 세번의 방법으로 제조 또는 보존된 것, 기타.; 기타\\n코드: 805290000\\n설명: 과일, 식용; 탄젤로스, 윌킹 및 이와 유사한 감귤류 잡종, 신선 또는 말린 것; 기타\\n코드: 2008193000\\n설명: 견과류 및 기타 씨앗류, 설탕, 기타 감미료 또는 증류주 함유 여부(혼합물을 제외한 분쇄 견과류 제외); 볶은 참깨가루', 'Answer': '```json\\n{\\n  \"가장_적합한_HS_코드\": \"805290000\",\\n  \"가장_적합한_HS_항목명\": \"과일, 식용; 탄젤로스, 윌킹 및 이와 유사한 감귤류 잡종, 신선 또는 말린 것; 기타\",\\n  \"판단_근거\": \"제공된 물품은 로열 품종의 감귤로, 신선한 상태로 소비되는 과일에 해당합니다. HS 코드 805290000은 신선한 과일을 포함하며, 감귤류 잡종에 대한 설명이 있어 해당 품목에 가장 적합합니다. 나머지 두 코드는 가공된 형태의 과일이나 다른 식품에 해당하므로 부적합합니다.\"\\n}\\n```'}, {'ProductName': '품목명: 담터 호두 아몬드 율무차, 18g, 50개입, 1개', 'CleanDescription': '담터 호두 아몬드 율무차는 호두, 아몬드, 율무로 만든 18g짜리 차가 50개입 들어 있는 제품입니다.', 'Best3': '코드: 2106903021\\n설명: 식품 준비물; 항목 번호 2106.10의 n.e.c.; 인삼제품류; 홍삼제품류; 홍삼차\\n코드: 802320000\\n설명: 견과류, 식용; 호두, 신선하거나 말린 호두, 껍질 벗긴 것; 껍데기를 벗긴 것\\n코드: 2101209019\\n설명: 추출물, 에센스 및 농축액; 차 또는 마테, 그리고 이러한 추출물, 에센스 또는 농축액을 기본으로 하거나 차 또는 마테를 기본으로 한 제제; 기타; 곡물을 함유한 것; 기타', 'Answer': '```json\\n{\\n  \"가장_적합한_HS_코드\": \"2101209019\",\\n  \"가장_적합한_HS_항목명\": \"추출물, 에센스 및 농축액; 차 또는 마테, 그리고 이러한 추출물, 에센스 또는 농축액을 기본으로 하거나 차 또는 마테를 기본으로 한 제제; 기타; 곡물을 함유한 것; 기타\",\\n  \"판단_근거\": \"담터 호두 아몬드 율무차는 차 형태로 제공되는 제품으로, 호두, 아몬드, 율무를 혼합하여 만든 차로 볼 수 있습니다. HS 코드 2101209019는 차 또는 마테를 기본으로 한 제제와 관련이 있으며, 곡물 성분을 포함하고 있는 점에서 해당 제품의 성격에 가장 잘 맞습니다. 다른 두 코드(2106903021와 802320000)는 차가 아닌 인삼 제품 및 견과류에 관련된 것이므로 이 제품을 적절히 설명하지 않습니다.\"\\n}\\n```'}]\n"
     ]
    }
   ],
   "source": [
    "# Initialize results storage\n",
    "results_kor = []\n",
    "\n",
    "# Process each row using the graph\n",
    "for doc in input_doc_kor:\n",
    "    # # Extract CommodityDescription from the page_content using regex\n",
    "    # match = re.search(r\"CommodityDescription: (.+)\", doc.page_content)\n",
    "    # activity = match.group(1).strip() if match else None  # Extract the description\n",
    "\n",
    "    activity = doc.page_content # Extract the Product Name\n",
    "\n",
    "    if activity:\n",
    "        # Invoke the graph\n",
    "        result = graph_kor.invoke({\"activity\": activity})\n",
    "        \n",
    "        # Extract context and answer from the state after processing\n",
    "        results_kor.append({\n",
    "            \"ProductName\": activity,\n",
    "            \"CleanDescription\": result.get(\"clean_desc\", \"\"),\n",
    "            \"Best3\": \"\\n\".join(doc.page_content for doc in result.get(\"best3\", \"\")),\n",
    "            \"Answer\": result.get(\"answer\", \"\")\n",
    "        })\n",
    "\n",
    "# Print the results for debugging\n",
    "print(\"Final results:\", results_kor)"
   ]
  },
  {
   "cell_type": "code",
   "execution_count": null,
   "metadata": {},
   "outputs": [
    {
     "name": "stdout",
     "output_type": "stream",
     "text": [
      "Results saved to {file_name}\n"
     ]
    }
   ],
   "source": [
    "# Save results to a CSV file\n",
    "import csv\n",
    "from datetime import datetime\n",
    "\n",
    "# Get the current date and time\n",
    "now = datetime.now()\n",
    "timestamp = now.strftime(\"%Y%m%d_%H%M%S\")  # Format: YYYYMMDD_HHMMSS\n",
    "\n",
    "# Create a unique file name with date and time!!\n",
    "file_name_eng = f\"results/coupang_result_v3_eng_{timestamp}.csv\"\n",
    "\n",
    "with open(file_name_eng, \"w\", newline=\"\") as csvfile:\n",
    "    fieldnames = [\"ProductName\", \"CleanDescription\", \"Best3\", \"Answer\"]\n",
    "    writer = csv.DictWriter(csvfile, fieldnames=fieldnames)\n",
    "\n",
    "    writer.writeheader()\n",
    "    writer.writerows(results_eng)\n",
    "\n",
    "print(\"Results saved to {file_name_eng}\")"
   ]
  },
  {
   "cell_type": "code",
   "execution_count": null,
   "metadata": {},
   "outputs": [
    {
     "name": "stdout",
     "output_type": "stream",
     "text": [
      "Results saved to {file_name_kor}\n"
     ]
    }
   ],
   "source": [
    "# Get the current date and time\n",
    "now = datetime.now()\n",
    "timestamp = now.strftime(\"%Y%m%d_%H%M%S\")  # Format: YYYYMMDD_HHMMSS\n",
    "\n",
    "# Create a unique file name with date and time!!\n",
    "file_name_kor = f\"results/coupang_result_v3_kor_{timestamp}.csv\"\n",
    "\n",
    "with open(file_name_kor, \"w\", newline=\"\") as csvfile:\n",
    "    fieldnames = [\"ProductName\", \"CleanDescription\", \"Best3\", \"Answer\"]\n",
    "    writer = csv.DictWriter(csvfile, fieldnames=fieldnames)\n",
    "\n",
    "    writer.writeheader()\n",
    "    writer.writerows(results_kor)\n",
    "\n",
    "print(\"Results saved to {file_name_kor}\")"
   ]
  }
 ],
 "metadata": {
  "kernelspec": {
   "display_name": "Python 3",
   "language": "python",
   "name": "python3"
  },
  "language_info": {
   "codemirror_mode": {
    "name": "ipython",
    "version": 3
   },
   "file_extension": ".py",
   "mimetype": "text/x-python",
   "name": "python",
   "nbconvert_exporter": "python",
   "pygments_lexer": "ipython3",
   "version": "3.10.15"
  }
 },
 "nbformat": 4,
 "nbformat_minor": 2
}
