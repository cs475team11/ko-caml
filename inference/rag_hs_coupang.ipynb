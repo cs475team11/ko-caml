{
 "cells": [
  {
   "cell_type": "code",
<<<<<<< HEAD
   "execution_count": 1,
   "metadata": {},
   "outputs": [],
   "source": [
    "# %env LANGCHAIN_TRACING_V2=\"true\"\n",
    "# %env LANGCHAIN_API_KEY=YOUR_API_KEY"
   ]
  },
  {
   "cell_type": "code",
   "execution_count": 17,
=======
   "execution_count": 2,
>>>>>>> cbb78fb (coupang exp prep)
   "metadata": {},
   "outputs": [],
   "source": [
    "# get openai api key from openai_config.json file\n",
    "import json\n",
    "with open('openai_config.json') as f:\n",
    "    config =json.load(f)\n",
    "    openai_api_key = config['openai_api_key']\n",
    "    NCP_CLOVASTUDIO_API_KEY = config['NCP_CLOVASTUDIO_API_KEY']\n",
    "    NCP_APIGW_API_KEY = config['NCP_APIGW_API_KEY']\n",
    "    NCP_CLOVASTUDIO_APP_ID = config['NCP_CLOVASTUDIO_APP_ID']"
   ]
  },
  {
   "cell_type": "code",
   "execution_count": 18,
   "metadata": {},
   "outputs": [],
   "source": [
    "%%capture\n",
    "\n",
    "%env OPENAI_API_KEY = {openai_api_key}\n",
    "%env NCP_CLOVASTUDIO_API_KEY = {NCP_CLOVASTUDIO_API_KEY}\n",
    "%env NCP_APIGW_API_KEY = {NCP_APIGW_API_KEY}\n",
    "%env NCP_CLOVASTUDIO_APP_ID = {NCP_CLOVASTUDIO_APP_ID}"
   ]
  },
  {
   "cell_type": "code",
   "execution_count": 7,
   "metadata": {},
   "outputs": [],
   "source": [
    "from langchain_openai import ChatOpenAI\n",
    "\n",
    "llm = ChatOpenAI(model=\"gpt-4o-mini\")"
   ]
  },
  {
   "cell_type": "code",
<<<<<<< HEAD
   "execution_count": 8,
   "metadata": {},
   "outputs": [
    {
     "data": {
      "text/plain": [
       "AIMessage(content='Hello! How can I assist you today?', additional_kwargs={'refusal': None}, response_metadata={'token_usage': {'completion_tokens': 9, 'prompt_tokens': 11, 'total_tokens': 20, 'completion_tokens_details': {'accepted_prediction_tokens': 0, 'audio_tokens': 0, 'reasoning_tokens': 0, 'rejected_prediction_tokens': 0}, 'prompt_tokens_details': {'audio_tokens': 0, 'cached_tokens': 0}}, 'model_name': 'gpt-4o-mini-2024-07-18', 'system_fingerprint': 'fp_bba3c8e70b', 'finish_reason': 'stop', 'logprobs': None}, id='run-efa0d40d-f003-4a58-b983-1b59d8723592-0', usage_metadata={'input_tokens': 11, 'output_tokens': 9, 'total_tokens': 20, 'input_token_details': {'audio': 0, 'cache_read': 0}, 'output_token_details': {'audio': 0, 'reasoning': 0}})"
      ]
     },
     "execution_count": 8,
     "metadata": {},
     "output_type": "execute_result"
    }
   ],
   "source": [
    "# Check if the API KEY is set\n",
    "llm.invoke(\"Hello, world!\")"
   ]
  },
  {
   "cell_type": "code",
   "execution_count": 9,
=======
   "execution_count": null,
>>>>>>> cbb78fb (coupang exp prep)
   "metadata": {},
   "outputs": [
    {
     "name": "stderr",
     "output_type": "stream",
     "text": [
      "c:\\Users\\jane0\\anaconda3\\envs\\kocaml\\Lib\\site-packages\\tqdm\\auto.py:21: TqdmWarning: IProgress not found. Please update jupyter and ipywidgets. See https://ipywidgets.readthedocs.io/en/stable/user_install.html\n",
      "  from .autonotebook import tqdm as notebook_tqdm\n"
     ]
    }
   ],
   "source": [
    "from langchain_huggingface import HuggingFaceEmbeddings\n",
    "# from langchain_openai import OpenAIEmbeddings\n",
    "\n",
    "# For English: HuggingFace Embedding\n",
    "embeddings_eng = HuggingFaceEmbeddings(model_name=\"sentence-transformers/all-mpnet-base-v2\")\n",
    "\n",
    "# For Korean: OpenAI Embedding\n",
<<<<<<< HEAD
    "# embeddings_kor = OpenAIEmbeddings(model=\"text-embedding-3-small\")\n",
    "# embeddings_kor = OpenAIEmbeddings(model=\"text-embedding-3-large\")"
=======
    "embeddings_kor = OpenAIEmbeddings(model=\"text-embedding-3-large\")"
>>>>>>> cbb78fb (coupang exp prep)
   ]
  },
  {
   "cell_type": "code",
<<<<<<< HEAD
   "execution_count": 29,
   "metadata": {},
   "outputs": [],
   "source": [
    "from langchain_community.embeddings import ClovaXEmbeddings\n",
    "\n",
    "embeddings_kor = ClovaXEmbeddings(model=\"v2\")"
   ]
  },
  {
   "cell_type": "code",
   "execution_count": 22,
=======
   "execution_count": null,
>>>>>>> cbb78fb (coupang exp prep)
   "metadata": {},
   "outputs": [],
   "source": [
    "from langchain.document_loaders import CSVLoader\n",
    "\n",
    "# Loader for the HS code dataset\n",
    "loader_kor = CSVLoader(r\"../guidance_for_environmental_impact_factor_mapping_on_aws/assets/datasets/Korean_HSCode_kor.csv\")\n",
    "loader_eng = CSVLoader(r\"../guidance_for_environmental_impact_factor_mapping_on_aws/assets/datasets/Korean_HSCode_eng.csv\")"
   ]
  },
  {
   "cell_type": "code",
   "execution_count": 23,
   "metadata": {},
   "outputs": [],
   "source": [
    "documents_eng = loader_eng.load()\n",
    "documents_kor = loader_kor.load()"
   ]
  },
  {
   "cell_type": "code",
<<<<<<< HEAD
   "execution_count": 26,
   "metadata": {},
   "outputs": [
    {
     "data": {
      "text/plain": [
       "'코드: 101211000\\n설명: 말; 살아있는 순종 번식 동물; 농가 사육용'"
      ]
     },
     "execution_count": 26,
     "metadata": {},
     "output_type": "execute_result"
    }
   ],
   "source": [
    "# Check if the documents are loaded\n",
    "documents_kor[0].page_content"
   ]
  },
  {
   "cell_type": "code",
   "execution_count": 27,
=======
   "execution_count": null,
>>>>>>> cbb78fb (coupang exp prep)
   "metadata": {},
   "outputs": [],
   "source": [
    "# # 첫 번째 실행에서만!!!\n",
    "from langchain_community.vectorstores import FAISS\n",
    "\n",
    "# Make FAISS vectorstore\n",
    "vector_store_eng = FAISS.from_documents(documents_eng, embeddings_eng)\n",
    "\n",
    "# save db to local (UN의 HSCode db랑 구분하기 위해 KORHS를 붙임)\n",
    "vector_store_eng.save_local('./db/faiss_KORHS_eng')"
   ]
  },
  {
   "cell_type": "code",
   "execution_count": 43,
   "metadata": {},
   "outputs": [
    {
     "name": "stderr",
     "output_type": "stream",
     "text": [
      "Adding documents:  97%|█████████▋| 10916/11294 [7:18:31<15:11,  2.41s/it] \n"
     ]
    },
    {
     "ename": "RemoteProtocolError",
     "evalue": "Server disconnected without sending a response.",
     "output_type": "error",
     "traceback": [
      "\u001b[1;31m---------------------------------------------------------------------------\u001b[0m",
      "\u001b[1;31mRemoteProtocolError\u001b[0m                       Traceback (most recent call last)",
      "File \u001b[1;32mc:\\Users\\jane0\\anaconda3\\envs\\kocaml\\Lib\\site-packages\\httpx\\_transports\\default.py:101\u001b[0m, in \u001b[0;36mmap_httpcore_exceptions\u001b[1;34m()\u001b[0m\n\u001b[0;32m    100\u001b[0m \u001b[38;5;28;01mtry\u001b[39;00m:\n\u001b[1;32m--> 101\u001b[0m     \u001b[38;5;28;01myield\u001b[39;00m\n\u001b[0;32m    102\u001b[0m \u001b[38;5;28;01mexcept\u001b[39;00m \u001b[38;5;167;01mException\u001b[39;00m \u001b[38;5;28;01mas\u001b[39;00m exc:\n",
      "File \u001b[1;32mc:\\Users\\jane0\\anaconda3\\envs\\kocaml\\Lib\\site-packages\\httpx\\_transports\\default.py:250\u001b[0m, in \u001b[0;36mHTTPTransport.handle_request\u001b[1;34m(self, request)\u001b[0m\n\u001b[0;32m    249\u001b[0m \u001b[38;5;28;01mwith\u001b[39;00m map_httpcore_exceptions():\n\u001b[1;32m--> 250\u001b[0m     resp \u001b[38;5;241m=\u001b[39m \u001b[38;5;28;43mself\u001b[39;49m\u001b[38;5;241;43m.\u001b[39;49m\u001b[43m_pool\u001b[49m\u001b[38;5;241;43m.\u001b[39;49m\u001b[43mhandle_request\u001b[49m\u001b[43m(\u001b[49m\u001b[43mreq\u001b[49m\u001b[43m)\u001b[49m\n\u001b[0;32m    252\u001b[0m \u001b[38;5;28;01massert\u001b[39;00m \u001b[38;5;28misinstance\u001b[39m(resp\u001b[38;5;241m.\u001b[39mstream, typing\u001b[38;5;241m.\u001b[39mIterable)\n",
      "File \u001b[1;32mc:\\Users\\jane0\\anaconda3\\envs\\kocaml\\Lib\\site-packages\\httpcore\\_sync\\connection_pool.py:256\u001b[0m, in \u001b[0;36mConnectionPool.handle_request\u001b[1;34m(self, request)\u001b[0m\n\u001b[0;32m    255\u001b[0m     \u001b[38;5;28mself\u001b[39m\u001b[38;5;241m.\u001b[39m_close_connections(closing)\n\u001b[1;32m--> 256\u001b[0m     \u001b[38;5;28;01mraise\u001b[39;00m exc \u001b[38;5;28;01mfrom\u001b[39;00m \u001b[38;5;28;01mNone\u001b[39;00m\n\u001b[0;32m    258\u001b[0m \u001b[38;5;66;03m# Return the response. Note that in this case we still have to manage\u001b[39;00m\n\u001b[0;32m    259\u001b[0m \u001b[38;5;66;03m# the point at which the response is closed.\u001b[39;00m\n",
      "File \u001b[1;32mc:\\Users\\jane0\\anaconda3\\envs\\kocaml\\Lib\\site-packages\\httpcore\\_sync\\connection_pool.py:236\u001b[0m, in \u001b[0;36mConnectionPool.handle_request\u001b[1;34m(self, request)\u001b[0m\n\u001b[0;32m    234\u001b[0m \u001b[38;5;28;01mtry\u001b[39;00m:\n\u001b[0;32m    235\u001b[0m     \u001b[38;5;66;03m# Send the request on the assigned connection.\u001b[39;00m\n\u001b[1;32m--> 236\u001b[0m     response \u001b[38;5;241m=\u001b[39m \u001b[43mconnection\u001b[49m\u001b[38;5;241;43m.\u001b[39;49m\u001b[43mhandle_request\u001b[49m\u001b[43m(\u001b[49m\n\u001b[0;32m    237\u001b[0m \u001b[43m        \u001b[49m\u001b[43mpool_request\u001b[49m\u001b[38;5;241;43m.\u001b[39;49m\u001b[43mrequest\u001b[49m\n\u001b[0;32m    238\u001b[0m \u001b[43m    \u001b[49m\u001b[43m)\u001b[49m\n\u001b[0;32m    239\u001b[0m \u001b[38;5;28;01mexcept\u001b[39;00m ConnectionNotAvailable:\n\u001b[0;32m    240\u001b[0m     \u001b[38;5;66;03m# In some cases a connection may initially be available to\u001b[39;00m\n\u001b[0;32m    241\u001b[0m     \u001b[38;5;66;03m# handle a request, but then become unavailable.\u001b[39;00m\n\u001b[0;32m    242\u001b[0m     \u001b[38;5;66;03m#\u001b[39;00m\n\u001b[0;32m    243\u001b[0m     \u001b[38;5;66;03m# In this case we clear the connection and try again.\u001b[39;00m\n",
      "File \u001b[1;32mc:\\Users\\jane0\\anaconda3\\envs\\kocaml\\Lib\\site-packages\\httpcore\\_sync\\connection.py:103\u001b[0m, in \u001b[0;36mHTTPConnection.handle_request\u001b[1;34m(self, request)\u001b[0m\n\u001b[0;32m    101\u001b[0m     \u001b[38;5;28;01mraise\u001b[39;00m exc\n\u001b[1;32m--> 103\u001b[0m \u001b[38;5;28;01mreturn\u001b[39;00m \u001b[38;5;28;43mself\u001b[39;49m\u001b[38;5;241;43m.\u001b[39;49m\u001b[43m_connection\u001b[49m\u001b[38;5;241;43m.\u001b[39;49m\u001b[43mhandle_request\u001b[49m\u001b[43m(\u001b[49m\u001b[43mrequest\u001b[49m\u001b[43m)\u001b[49m\n",
      "File \u001b[1;32mc:\\Users\\jane0\\anaconda3\\envs\\kocaml\\Lib\\site-packages\\httpcore\\_sync\\http11.py:136\u001b[0m, in \u001b[0;36mHTTP11Connection.handle_request\u001b[1;34m(self, request)\u001b[0m\n\u001b[0;32m    135\u001b[0m         \u001b[38;5;28mself\u001b[39m\u001b[38;5;241m.\u001b[39m_response_closed()\n\u001b[1;32m--> 136\u001b[0m \u001b[38;5;28;01mraise\u001b[39;00m exc\n",
      "File \u001b[1;32mc:\\Users\\jane0\\anaconda3\\envs\\kocaml\\Lib\\site-packages\\httpcore\\_sync\\http11.py:106\u001b[0m, in \u001b[0;36mHTTP11Connection.handle_request\u001b[1;34m(self, request)\u001b[0m\n\u001b[0;32m     97\u001b[0m \u001b[38;5;28;01mwith\u001b[39;00m Trace(\n\u001b[0;32m     98\u001b[0m     \u001b[38;5;124m\"\u001b[39m\u001b[38;5;124mreceive_response_headers\u001b[39m\u001b[38;5;124m\"\u001b[39m, logger, request, kwargs\n\u001b[0;32m     99\u001b[0m ) \u001b[38;5;28;01mas\u001b[39;00m trace:\n\u001b[0;32m    100\u001b[0m     (\n\u001b[0;32m    101\u001b[0m         http_version,\n\u001b[0;32m    102\u001b[0m         status,\n\u001b[0;32m    103\u001b[0m         reason_phrase,\n\u001b[0;32m    104\u001b[0m         headers,\n\u001b[0;32m    105\u001b[0m         trailing_data,\n\u001b[1;32m--> 106\u001b[0m     ) \u001b[38;5;241m=\u001b[39m \u001b[38;5;28;43mself\u001b[39;49m\u001b[38;5;241;43m.\u001b[39;49m\u001b[43m_receive_response_headers\u001b[49m\u001b[43m(\u001b[49m\u001b[38;5;241;43m*\u001b[39;49m\u001b[38;5;241;43m*\u001b[39;49m\u001b[43mkwargs\u001b[49m\u001b[43m)\u001b[49m\n\u001b[0;32m    107\u001b[0m     trace\u001b[38;5;241m.\u001b[39mreturn_value \u001b[38;5;241m=\u001b[39m (\n\u001b[0;32m    108\u001b[0m         http_version,\n\u001b[0;32m    109\u001b[0m         status,\n\u001b[0;32m    110\u001b[0m         reason_phrase,\n\u001b[0;32m    111\u001b[0m         headers,\n\u001b[0;32m    112\u001b[0m     )\n",
      "File \u001b[1;32mc:\\Users\\jane0\\anaconda3\\envs\\kocaml\\Lib\\site-packages\\httpcore\\_sync\\http11.py:177\u001b[0m, in \u001b[0;36mHTTP11Connection._receive_response_headers\u001b[1;34m(self, request)\u001b[0m\n\u001b[0;32m    176\u001b[0m \u001b[38;5;28;01mwhile\u001b[39;00m \u001b[38;5;28;01mTrue\u001b[39;00m:\n\u001b[1;32m--> 177\u001b[0m     event \u001b[38;5;241m=\u001b[39m \u001b[38;5;28;43mself\u001b[39;49m\u001b[38;5;241;43m.\u001b[39;49m\u001b[43m_receive_event\u001b[49m\u001b[43m(\u001b[49m\u001b[43mtimeout\u001b[49m\u001b[38;5;241;43m=\u001b[39;49m\u001b[43mtimeout\u001b[49m\u001b[43m)\u001b[49m\n\u001b[0;32m    178\u001b[0m     \u001b[38;5;28;01mif\u001b[39;00m \u001b[38;5;28misinstance\u001b[39m(event, h11\u001b[38;5;241m.\u001b[39mResponse):\n",
      "File \u001b[1;32mc:\\Users\\jane0\\anaconda3\\envs\\kocaml\\Lib\\site-packages\\httpcore\\_sync\\http11.py:231\u001b[0m, in \u001b[0;36mHTTP11Connection._receive_event\u001b[1;34m(self, timeout)\u001b[0m\n\u001b[0;32m    230\u001b[0m     msg \u001b[38;5;241m=\u001b[39m \u001b[38;5;124m\"\u001b[39m\u001b[38;5;124mServer disconnected without sending a response.\u001b[39m\u001b[38;5;124m\"\u001b[39m\n\u001b[1;32m--> 231\u001b[0m     \u001b[38;5;28;01mraise\u001b[39;00m RemoteProtocolError(msg)\n\u001b[0;32m    233\u001b[0m \u001b[38;5;28mself\u001b[39m\u001b[38;5;241m.\u001b[39m_h11_state\u001b[38;5;241m.\u001b[39mreceive_data(data)\n",
      "\u001b[1;31mRemoteProtocolError\u001b[0m: Server disconnected without sending a response.",
      "\nThe above exception was the direct cause of the following exception:\n",
      "\u001b[1;31mRemoteProtocolError\u001b[0m                       Traceback (most recent call last)",
      "Cell \u001b[1;32mIn[43], line 17\u001b[0m\n\u001b[0;32m     15\u001b[0m \u001b[38;5;66;03m# tqdm: progress bar\u001b[39;00m\n\u001b[0;32m     16\u001b[0m \u001b[38;5;28;01mfor\u001b[39;00m doc \u001b[38;5;129;01min\u001b[39;00m tqdm(documents_kor, desc\u001b[38;5;241m=\u001b[39m\u001b[38;5;124m\"\u001b[39m\u001b[38;5;124mAdding documents\u001b[39m\u001b[38;5;124m\"\u001b[39m, total\u001b[38;5;241m=\u001b[39m\u001b[38;5;28mlen\u001b[39m(documents_kor)):\n\u001b[1;32m---> 17\u001b[0m     embeddings \u001b[38;5;241m=\u001b[39m \u001b[43membeddings_kor\u001b[49m\u001b[38;5;241;43m.\u001b[39;49m\u001b[43membed_documents\u001b[49m\u001b[43m(\u001b[49m\u001b[43m[\u001b[49m\u001b[43mdoc\u001b[49m\u001b[38;5;241;43m.\u001b[39;49m\u001b[43mpage_content\u001b[49m\u001b[43m]\u001b[49m\u001b[43m)\u001b[49m[\u001b[38;5;241m0\u001b[39m]\n\u001b[0;32m     18\u001b[0m     vector_store_kor\u001b[38;5;241m.\u001b[39madd_documents(\n\u001b[0;32m     19\u001b[0m         ids\u001b[38;5;241m=\u001b[39m[\u001b[38;5;28mstr\u001b[39m(uuid4())], \n\u001b[0;32m     20\u001b[0m         documents\u001b[38;5;241m=\u001b[39m[doc], \n\u001b[0;32m     21\u001b[0m         embeddings\u001b[38;5;241m=\u001b[39m[embeddings]\n\u001b[0;32m     22\u001b[0m     )\n\u001b[0;32m     23\u001b[0m     time\u001b[38;5;241m.\u001b[39msleep(\u001b[38;5;241m2.2\u001b[39m)  \u001b[38;5;66;03m# for request rate limit\u001b[39;00m\n",
      "File \u001b[1;32mc:\\Users\\jane0\\anaconda3\\envs\\kocaml\\Lib\\site-packages\\langchain_community\\embeddings\\naver.py:186\u001b[0m, in \u001b[0;36mClovaXEmbeddings.embed_documents\u001b[1;34m(self, texts)\u001b[0m\n\u001b[0;32m    184\u001b[0m embeddings \u001b[38;5;241m=\u001b[39m []\n\u001b[0;32m    185\u001b[0m \u001b[38;5;28;01mfor\u001b[39;00m text \u001b[38;5;129;01min\u001b[39;00m texts:\n\u001b[1;32m--> 186\u001b[0m     embeddings\u001b[38;5;241m.\u001b[39mappend(\u001b[38;5;28;43mself\u001b[39;49m\u001b[38;5;241;43m.\u001b[39;49m\u001b[43m_embed_text\u001b[49m\u001b[43m(\u001b[49m\u001b[43mtext\u001b[49m\u001b[43m)\u001b[49m)\n\u001b[0;32m    187\u001b[0m \u001b[38;5;28;01mreturn\u001b[39;00m embeddings\n",
      "File \u001b[1;32mc:\\Users\\jane0\\anaconda3\\envs\\kocaml\\Lib\\site-packages\\langchain_community\\embeddings\\naver.py:172\u001b[0m, in \u001b[0;36mClovaXEmbeddings._embed_text\u001b[1;34m(self, text)\u001b[0m\n\u001b[0;32m    170\u001b[0m payload \u001b[38;5;241m=\u001b[39m {\u001b[38;5;124m\"\u001b[39m\u001b[38;5;124mtext\u001b[39m\u001b[38;5;124m\"\u001b[39m: text}\n\u001b[0;32m    171\u001b[0m client \u001b[38;5;241m=\u001b[39m cast(httpx\u001b[38;5;241m.\u001b[39mClient, \u001b[38;5;28mself\u001b[39m\u001b[38;5;241m.\u001b[39mclient)\n\u001b[1;32m--> 172\u001b[0m response \u001b[38;5;241m=\u001b[39m \u001b[43mclient\u001b[49m\u001b[38;5;241;43m.\u001b[39;49m\u001b[43mpost\u001b[49m\u001b[43m(\u001b[49m\u001b[43murl\u001b[49m\u001b[38;5;241;43m=\u001b[39;49m\u001b[38;5;28;43mself\u001b[39;49m\u001b[38;5;241;43m.\u001b[39;49m\u001b[43m_api_url\u001b[49m\u001b[43m,\u001b[49m\u001b[43m \u001b[49m\u001b[43mjson\u001b[49m\u001b[38;5;241;43m=\u001b[39;49m\u001b[43mpayload\u001b[49m\u001b[43m)\u001b[49m\n\u001b[0;32m    173\u001b[0m _raise_on_error(response)\n\u001b[0;32m    174\u001b[0m \u001b[38;5;28;01mreturn\u001b[39;00m response\u001b[38;5;241m.\u001b[39mjson()[\u001b[38;5;124m\"\u001b[39m\u001b[38;5;124mresult\u001b[39m\u001b[38;5;124m\"\u001b[39m][\u001b[38;5;124m\"\u001b[39m\u001b[38;5;124membedding\u001b[39m\u001b[38;5;124m\"\u001b[39m]\n",
      "File \u001b[1;32mc:\\Users\\jane0\\anaconda3\\envs\\kocaml\\Lib\\site-packages\\httpx\\_client.py:1146\u001b[0m, in \u001b[0;36mClient.post\u001b[1;34m(self, url, content, data, files, json, params, headers, cookies, auth, follow_redirects, timeout, extensions)\u001b[0m\n\u001b[0;32m   1125\u001b[0m \u001b[38;5;28;01mdef\u001b[39;00m \u001b[38;5;21mpost\u001b[39m(\n\u001b[0;32m   1126\u001b[0m     \u001b[38;5;28mself\u001b[39m,\n\u001b[0;32m   1127\u001b[0m     url: URL \u001b[38;5;241m|\u001b[39m \u001b[38;5;28mstr\u001b[39m,\n\u001b[1;32m   (...)\u001b[0m\n\u001b[0;32m   1139\u001b[0m     extensions: RequestExtensions \u001b[38;5;241m|\u001b[39m \u001b[38;5;28;01mNone\u001b[39;00m \u001b[38;5;241m=\u001b[39m \u001b[38;5;28;01mNone\u001b[39;00m,\n\u001b[0;32m   1140\u001b[0m ) \u001b[38;5;241m-\u001b[39m\u001b[38;5;241m>\u001b[39m Response:\n\u001b[0;32m   1141\u001b[0m \u001b[38;5;250m    \u001b[39m\u001b[38;5;124;03m\"\"\"\u001b[39;00m\n\u001b[0;32m   1142\u001b[0m \u001b[38;5;124;03m    Send a `POST` request.\u001b[39;00m\n\u001b[0;32m   1143\u001b[0m \n\u001b[0;32m   1144\u001b[0m \u001b[38;5;124;03m    **Parameters**: See `httpx.request`.\u001b[39;00m\n\u001b[0;32m   1145\u001b[0m \u001b[38;5;124;03m    \"\"\"\u001b[39;00m\n\u001b[1;32m-> 1146\u001b[0m     \u001b[38;5;28;01mreturn\u001b[39;00m \u001b[38;5;28;43mself\u001b[39;49m\u001b[38;5;241;43m.\u001b[39;49m\u001b[43mrequest\u001b[49m\u001b[43m(\u001b[49m\n\u001b[0;32m   1147\u001b[0m \u001b[43m        \u001b[49m\u001b[38;5;124;43m\"\u001b[39;49m\u001b[38;5;124;43mPOST\u001b[39;49m\u001b[38;5;124;43m\"\u001b[39;49m\u001b[43m,\u001b[49m\n\u001b[0;32m   1148\u001b[0m \u001b[43m        \u001b[49m\u001b[43murl\u001b[49m\u001b[43m,\u001b[49m\n\u001b[0;32m   1149\u001b[0m \u001b[43m        \u001b[49m\u001b[43mcontent\u001b[49m\u001b[38;5;241;43m=\u001b[39;49m\u001b[43mcontent\u001b[49m\u001b[43m,\u001b[49m\n\u001b[0;32m   1150\u001b[0m \u001b[43m        \u001b[49m\u001b[43mdata\u001b[49m\u001b[38;5;241;43m=\u001b[39;49m\u001b[43mdata\u001b[49m\u001b[43m,\u001b[49m\n\u001b[0;32m   1151\u001b[0m \u001b[43m        \u001b[49m\u001b[43mfiles\u001b[49m\u001b[38;5;241;43m=\u001b[39;49m\u001b[43mfiles\u001b[49m\u001b[43m,\u001b[49m\n\u001b[0;32m   1152\u001b[0m \u001b[43m        \u001b[49m\u001b[43mjson\u001b[49m\u001b[38;5;241;43m=\u001b[39;49m\u001b[43mjson\u001b[49m\u001b[43m,\u001b[49m\n\u001b[0;32m   1153\u001b[0m \u001b[43m        \u001b[49m\u001b[43mparams\u001b[49m\u001b[38;5;241;43m=\u001b[39;49m\u001b[43mparams\u001b[49m\u001b[43m,\u001b[49m\n\u001b[0;32m   1154\u001b[0m \u001b[43m        \u001b[49m\u001b[43mheaders\u001b[49m\u001b[38;5;241;43m=\u001b[39;49m\u001b[43mheaders\u001b[49m\u001b[43m,\u001b[49m\n\u001b[0;32m   1155\u001b[0m \u001b[43m        \u001b[49m\u001b[43mcookies\u001b[49m\u001b[38;5;241;43m=\u001b[39;49m\u001b[43mcookies\u001b[49m\u001b[43m,\u001b[49m\n\u001b[0;32m   1156\u001b[0m \u001b[43m        \u001b[49m\u001b[43mauth\u001b[49m\u001b[38;5;241;43m=\u001b[39;49m\u001b[43mauth\u001b[49m\u001b[43m,\u001b[49m\n\u001b[0;32m   1157\u001b[0m \u001b[43m        \u001b[49m\u001b[43mfollow_redirects\u001b[49m\u001b[38;5;241;43m=\u001b[39;49m\u001b[43mfollow_redirects\u001b[49m\u001b[43m,\u001b[49m\n\u001b[0;32m   1158\u001b[0m \u001b[43m        \u001b[49m\u001b[43mtimeout\u001b[49m\u001b[38;5;241;43m=\u001b[39;49m\u001b[43mtimeout\u001b[49m\u001b[43m,\u001b[49m\n\u001b[0;32m   1159\u001b[0m \u001b[43m        \u001b[49m\u001b[43mextensions\u001b[49m\u001b[38;5;241;43m=\u001b[39;49m\u001b[43mextensions\u001b[49m\u001b[43m,\u001b[49m\n\u001b[0;32m   1160\u001b[0m \u001b[43m    \u001b[49m\u001b[43m)\u001b[49m\n",
      "File \u001b[1;32mc:\\Users\\jane0\\anaconda3\\envs\\kocaml\\Lib\\site-packages\\httpx\\_client.py:827\u001b[0m, in \u001b[0;36mClient.request\u001b[1;34m(self, method, url, content, data, files, json, params, headers, cookies, auth, follow_redirects, timeout, extensions)\u001b[0m\n\u001b[0;32m    812\u001b[0m     warnings\u001b[38;5;241m.\u001b[39mwarn(message, \u001b[38;5;167;01mDeprecationWarning\u001b[39;00m, stacklevel\u001b[38;5;241m=\u001b[39m\u001b[38;5;241m2\u001b[39m)\n\u001b[0;32m    814\u001b[0m request \u001b[38;5;241m=\u001b[39m \u001b[38;5;28mself\u001b[39m\u001b[38;5;241m.\u001b[39mbuild_request(\n\u001b[0;32m    815\u001b[0m     method\u001b[38;5;241m=\u001b[39mmethod,\n\u001b[0;32m    816\u001b[0m     url\u001b[38;5;241m=\u001b[39murl,\n\u001b[1;32m   (...)\u001b[0m\n\u001b[0;32m    825\u001b[0m     extensions\u001b[38;5;241m=\u001b[39mextensions,\n\u001b[0;32m    826\u001b[0m )\n\u001b[1;32m--> 827\u001b[0m \u001b[38;5;28;01mreturn\u001b[39;00m \u001b[38;5;28;43mself\u001b[39;49m\u001b[38;5;241;43m.\u001b[39;49m\u001b[43msend\u001b[49m\u001b[43m(\u001b[49m\u001b[43mrequest\u001b[49m\u001b[43m,\u001b[49m\u001b[43m \u001b[49m\u001b[43mauth\u001b[49m\u001b[38;5;241;43m=\u001b[39;49m\u001b[43mauth\u001b[49m\u001b[43m,\u001b[49m\u001b[43m \u001b[49m\u001b[43mfollow_redirects\u001b[49m\u001b[38;5;241;43m=\u001b[39;49m\u001b[43mfollow_redirects\u001b[49m\u001b[43m)\u001b[49m\n",
      "File \u001b[1;32mc:\\Users\\jane0\\anaconda3\\envs\\kocaml\\Lib\\site-packages\\httpx\\_client.py:916\u001b[0m, in \u001b[0;36mClient.send\u001b[1;34m(self, request, stream, auth, follow_redirects)\u001b[0m\n\u001b[0;32m    912\u001b[0m \u001b[38;5;28mself\u001b[39m\u001b[38;5;241m.\u001b[39m_set_timeout(request)\n\u001b[0;32m    914\u001b[0m auth \u001b[38;5;241m=\u001b[39m \u001b[38;5;28mself\u001b[39m\u001b[38;5;241m.\u001b[39m_build_request_auth(request, auth)\n\u001b[1;32m--> 916\u001b[0m response \u001b[38;5;241m=\u001b[39m \u001b[38;5;28;43mself\u001b[39;49m\u001b[38;5;241;43m.\u001b[39;49m\u001b[43m_send_handling_auth\u001b[49m\u001b[43m(\u001b[49m\n\u001b[0;32m    917\u001b[0m \u001b[43m    \u001b[49m\u001b[43mrequest\u001b[49m\u001b[43m,\u001b[49m\n\u001b[0;32m    918\u001b[0m \u001b[43m    \u001b[49m\u001b[43mauth\u001b[49m\u001b[38;5;241;43m=\u001b[39;49m\u001b[43mauth\u001b[49m\u001b[43m,\u001b[49m\n\u001b[0;32m    919\u001b[0m \u001b[43m    \u001b[49m\u001b[43mfollow_redirects\u001b[49m\u001b[38;5;241;43m=\u001b[39;49m\u001b[43mfollow_redirects\u001b[49m\u001b[43m,\u001b[49m\n\u001b[0;32m    920\u001b[0m \u001b[43m    \u001b[49m\u001b[43mhistory\u001b[49m\u001b[38;5;241;43m=\u001b[39;49m\u001b[43m[\u001b[49m\u001b[43m]\u001b[49m\u001b[43m,\u001b[49m\n\u001b[0;32m    921\u001b[0m \u001b[43m\u001b[49m\u001b[43m)\u001b[49m\n\u001b[0;32m    922\u001b[0m \u001b[38;5;28;01mtry\u001b[39;00m:\n\u001b[0;32m    923\u001b[0m     \u001b[38;5;28;01mif\u001b[39;00m \u001b[38;5;129;01mnot\u001b[39;00m stream:\n",
      "File \u001b[1;32mc:\\Users\\jane0\\anaconda3\\envs\\kocaml\\Lib\\site-packages\\httpx\\_client.py:944\u001b[0m, in \u001b[0;36mClient._send_handling_auth\u001b[1;34m(self, request, auth, follow_redirects, history)\u001b[0m\n\u001b[0;32m    941\u001b[0m request \u001b[38;5;241m=\u001b[39m \u001b[38;5;28mnext\u001b[39m(auth_flow)\n\u001b[0;32m    943\u001b[0m \u001b[38;5;28;01mwhile\u001b[39;00m \u001b[38;5;28;01mTrue\u001b[39;00m:\n\u001b[1;32m--> 944\u001b[0m     response \u001b[38;5;241m=\u001b[39m \u001b[38;5;28;43mself\u001b[39;49m\u001b[38;5;241;43m.\u001b[39;49m\u001b[43m_send_handling_redirects\u001b[49m\u001b[43m(\u001b[49m\n\u001b[0;32m    945\u001b[0m \u001b[43m        \u001b[49m\u001b[43mrequest\u001b[49m\u001b[43m,\u001b[49m\n\u001b[0;32m    946\u001b[0m \u001b[43m        \u001b[49m\u001b[43mfollow_redirects\u001b[49m\u001b[38;5;241;43m=\u001b[39;49m\u001b[43mfollow_redirects\u001b[49m\u001b[43m,\u001b[49m\n\u001b[0;32m    947\u001b[0m \u001b[43m        \u001b[49m\u001b[43mhistory\u001b[49m\u001b[38;5;241;43m=\u001b[39;49m\u001b[43mhistory\u001b[49m\u001b[43m,\u001b[49m\n\u001b[0;32m    948\u001b[0m \u001b[43m    \u001b[49m\u001b[43m)\u001b[49m\n\u001b[0;32m    949\u001b[0m     \u001b[38;5;28;01mtry\u001b[39;00m:\n\u001b[0;32m    950\u001b[0m         \u001b[38;5;28;01mtry\u001b[39;00m:\n",
      "File \u001b[1;32mc:\\Users\\jane0\\anaconda3\\envs\\kocaml\\Lib\\site-packages\\httpx\\_client.py:981\u001b[0m, in \u001b[0;36mClient._send_handling_redirects\u001b[1;34m(self, request, follow_redirects, history)\u001b[0m\n\u001b[0;32m    978\u001b[0m \u001b[38;5;28;01mfor\u001b[39;00m hook \u001b[38;5;129;01min\u001b[39;00m \u001b[38;5;28mself\u001b[39m\u001b[38;5;241m.\u001b[39m_event_hooks[\u001b[38;5;124m\"\u001b[39m\u001b[38;5;124mrequest\u001b[39m\u001b[38;5;124m\"\u001b[39m]:\n\u001b[0;32m    979\u001b[0m     hook(request)\n\u001b[1;32m--> 981\u001b[0m response \u001b[38;5;241m=\u001b[39m \u001b[38;5;28;43mself\u001b[39;49m\u001b[38;5;241;43m.\u001b[39;49m\u001b[43m_send_single_request\u001b[49m\u001b[43m(\u001b[49m\u001b[43mrequest\u001b[49m\u001b[43m)\u001b[49m\n\u001b[0;32m    982\u001b[0m \u001b[38;5;28;01mtry\u001b[39;00m:\n\u001b[0;32m    983\u001b[0m     \u001b[38;5;28;01mfor\u001b[39;00m hook \u001b[38;5;129;01min\u001b[39;00m \u001b[38;5;28mself\u001b[39m\u001b[38;5;241m.\u001b[39m_event_hooks[\u001b[38;5;124m\"\u001b[39m\u001b[38;5;124mresponse\u001b[39m\u001b[38;5;124m\"\u001b[39m]:\n",
      "File \u001b[1;32mc:\\Users\\jane0\\anaconda3\\envs\\kocaml\\Lib\\site-packages\\httpx\\_client.py:1016\u001b[0m, in \u001b[0;36mClient._send_single_request\u001b[1;34m(self, request)\u001b[0m\n\u001b[0;32m   1011\u001b[0m     \u001b[38;5;28;01mraise\u001b[39;00m \u001b[38;5;167;01mRuntimeError\u001b[39;00m(\n\u001b[0;32m   1012\u001b[0m         \u001b[38;5;124m\"\u001b[39m\u001b[38;5;124mAttempted to send an async request with a sync Client instance.\u001b[39m\u001b[38;5;124m\"\u001b[39m\n\u001b[0;32m   1013\u001b[0m     )\n\u001b[0;32m   1015\u001b[0m \u001b[38;5;28;01mwith\u001b[39;00m request_context(request\u001b[38;5;241m=\u001b[39mrequest):\n\u001b[1;32m-> 1016\u001b[0m     response \u001b[38;5;241m=\u001b[39m \u001b[43mtransport\u001b[49m\u001b[38;5;241;43m.\u001b[39;49m\u001b[43mhandle_request\u001b[49m\u001b[43m(\u001b[49m\u001b[43mrequest\u001b[49m\u001b[43m)\u001b[49m\n\u001b[0;32m   1018\u001b[0m \u001b[38;5;28;01massert\u001b[39;00m \u001b[38;5;28misinstance\u001b[39m(response\u001b[38;5;241m.\u001b[39mstream, SyncByteStream)\n\u001b[0;32m   1020\u001b[0m response\u001b[38;5;241m.\u001b[39mrequest \u001b[38;5;241m=\u001b[39m request\n",
      "File \u001b[1;32mc:\\Users\\jane0\\anaconda3\\envs\\kocaml\\Lib\\site-packages\\httpx\\_transports\\default.py:249\u001b[0m, in \u001b[0;36mHTTPTransport.handle_request\u001b[1;34m(self, request)\u001b[0m\n\u001b[0;32m    235\u001b[0m \u001b[38;5;28;01mimport\u001b[39;00m \u001b[38;5;21;01mhttpcore\u001b[39;00m\n\u001b[0;32m    237\u001b[0m req \u001b[38;5;241m=\u001b[39m httpcore\u001b[38;5;241m.\u001b[39mRequest(\n\u001b[0;32m    238\u001b[0m     method\u001b[38;5;241m=\u001b[39mrequest\u001b[38;5;241m.\u001b[39mmethod,\n\u001b[0;32m    239\u001b[0m     url\u001b[38;5;241m=\u001b[39mhttpcore\u001b[38;5;241m.\u001b[39mURL(\n\u001b[1;32m   (...)\u001b[0m\n\u001b[0;32m    247\u001b[0m     extensions\u001b[38;5;241m=\u001b[39mrequest\u001b[38;5;241m.\u001b[39mextensions,\n\u001b[0;32m    248\u001b[0m )\n\u001b[1;32m--> 249\u001b[0m \u001b[43m\u001b[49m\u001b[38;5;28;43;01mwith\u001b[39;49;00m\u001b[43m \u001b[49m\u001b[43mmap_httpcore_exceptions\u001b[49m\u001b[43m(\u001b[49m\u001b[43m)\u001b[49m\u001b[43m:\u001b[49m\n\u001b[0;32m    250\u001b[0m \u001b[43m    \u001b[49m\u001b[43mresp\u001b[49m\u001b[43m \u001b[49m\u001b[38;5;241;43m=\u001b[39;49m\u001b[43m \u001b[49m\u001b[38;5;28;43mself\u001b[39;49m\u001b[38;5;241;43m.\u001b[39;49m\u001b[43m_pool\u001b[49m\u001b[38;5;241;43m.\u001b[39;49m\u001b[43mhandle_request\u001b[49m\u001b[43m(\u001b[49m\u001b[43mreq\u001b[49m\u001b[43m)\u001b[49m\n\u001b[0;32m    252\u001b[0m \u001b[38;5;28;01massert\u001b[39;00m \u001b[38;5;28misinstance\u001b[39m(resp\u001b[38;5;241m.\u001b[39mstream, typing\u001b[38;5;241m.\u001b[39mIterable)\n",
      "File \u001b[1;32mc:\\Users\\jane0\\anaconda3\\envs\\kocaml\\Lib\\contextlib.py:158\u001b[0m, in \u001b[0;36m_GeneratorContextManager.__exit__\u001b[1;34m(self, typ, value, traceback)\u001b[0m\n\u001b[0;32m    156\u001b[0m     value \u001b[38;5;241m=\u001b[39m typ()\n\u001b[0;32m    157\u001b[0m \u001b[38;5;28;01mtry\u001b[39;00m:\n\u001b[1;32m--> 158\u001b[0m     \u001b[38;5;28mself\u001b[39m\u001b[38;5;241m.\u001b[39mgen\u001b[38;5;241m.\u001b[39mthrow(typ, value, traceback)\n\u001b[0;32m    159\u001b[0m \u001b[38;5;28;01mexcept\u001b[39;00m \u001b[38;5;167;01mStopIteration\u001b[39;00m \u001b[38;5;28;01mas\u001b[39;00m exc:\n\u001b[0;32m    160\u001b[0m     \u001b[38;5;66;03m# Suppress StopIteration *unless* it's the same exception that\u001b[39;00m\n\u001b[0;32m    161\u001b[0m     \u001b[38;5;66;03m# was passed to throw().  This prevents a StopIteration\u001b[39;00m\n\u001b[0;32m    162\u001b[0m     \u001b[38;5;66;03m# raised inside the \"with\" statement from being suppressed.\u001b[39;00m\n\u001b[0;32m    163\u001b[0m     \u001b[38;5;28;01mreturn\u001b[39;00m exc \u001b[38;5;129;01mis\u001b[39;00m \u001b[38;5;129;01mnot\u001b[39;00m value\n",
      "File \u001b[1;32mc:\\Users\\jane0\\anaconda3\\envs\\kocaml\\Lib\\site-packages\\httpx\\_transports\\default.py:118\u001b[0m, in \u001b[0;36mmap_httpcore_exceptions\u001b[1;34m()\u001b[0m\n\u001b[0;32m    115\u001b[0m     \u001b[38;5;28;01mraise\u001b[39;00m\n\u001b[0;32m    117\u001b[0m message \u001b[38;5;241m=\u001b[39m \u001b[38;5;28mstr\u001b[39m(exc)\n\u001b[1;32m--> 118\u001b[0m \u001b[38;5;28;01mraise\u001b[39;00m mapped_exc(message) \u001b[38;5;28;01mfrom\u001b[39;00m \u001b[38;5;21;01mexc\u001b[39;00m\n",
      "\u001b[1;31mRemoteProtocolError\u001b[0m: Server disconnected without sending a response."
     ]
    }
   ],
   "source": [
    "import time\n",
    "from tqdm import tqdm\n",
    "from uuid import uuid4\n",
    "import faiss\n",
    "from langchain_community.docstore.in_memory import InMemoryDocstore\n",
    "\n",
    "# Make FAISS vectorstore- kor\n",
    "vector_store_kor = FAISS(\n",
    "    embedding_function=embeddings_kor,\n",
    "    index=faiss.IndexFlatIP(1024), # embedding dimension\n",
    "    docstore=InMemoryDocstore(),\n",
    "    index_to_docstore_id={},\n",
    ")\n",
    "\n",
    "# tqdm: progress bar\n",
    "for doc in tqdm(documents_kor, desc=\"Adding documents\", total=len(documents_kor)):\n",
    "    embeddings = embeddings_kor.embed_documents([doc.page_content])[0]\n",
    "    vector_store_kor.add_documents(\n",
    "        ids=[str(uuid4())], \n",
    "        documents=[doc], \n",
    "        embeddings=[embeddings]\n",
    "    )\n",
    "    time.sleep(2.2)  # for request rate limit\n",
    " \n",
    "vector_store_kor.save_local('./db/faiss_KORHS_kor')\n",
    "\n",
    "print(\"All documents have been added to the vectorstore.\")"
   ]
  },
  {
   "cell_type": "code",
   "execution_count": 45,
   "metadata": {},
   "outputs": [],
   "source": [
    "vector_store_kor.save_local('./db/faiss_KORHS_kor')"
   ]
  },
  {
   "cell_type": "code",
   "execution_count": 59,
   "metadata": {},
   "outputs": [
    {
     "name": "stdout",
     "output_type": "stream",
     "text": [
      "total doc num:  11294\n",
      "kor doc num:  10916\n",
      "rest doc num:  378\n"
     ]
    }
   ],
   "source": [
    "total_doc_num = len(documents_kor)\n",
    "print(\"total doc num: \", total_doc_num)\n",
    "cur_doc_num = len(vector_store_kor.index_to_docstore_id)\n",
    "assert total_doc_num == len(vector_store_eng.index_to_docstore_id)\n",
    "print(\"kor doc num: \", cur_doc_num)\n",
    "rest_doc_num = total_doc_num - cur_doc_num\n",
    "print(\"rest doc num: \", rest_doc_num)\n",
    "assert rest_doc_num == len(documents_kor[cur_doc_num:])"
   ]
  },
  {
   "cell_type": "code",
   "execution_count": 60,
   "metadata": {},
   "outputs": [
    {
     "name": "stderr",
     "output_type": "stream",
     "text": [
      "Adding documents: 100%|██████████| 378/378 [15:22<00:00,  2.44s/it]"
     ]
    },
    {
     "name": "stdout",
     "output_type": "stream",
     "text": [
      "All documents have been added to the vectorstore.\n",
      "total doc num: 11294\n"
     ]
    },
    {
     "name": "stderr",
     "output_type": "stream",
     "text": [
      "\n"
     ]
    }
   ],
   "source": [
    "# tqdm: progress bar\n",
    "for doc in tqdm(documents_kor[cur_doc_num:], desc=\"Adding documents\", total=rest_doc_num):\n",
    "    embeddings = embeddings_kor.embed_documents([doc.page_content])[0]\n",
    "    vector_store_kor.add_documents(\n",
    "        ids=[str(uuid4())], \n",
    "        documents=[doc], \n",
    "        embeddings=[embeddings]\n",
    "    )\n",
    "    time.sleep(2.2)  # for request rate limit\n",
    " \n",
    "vector_store_kor.save_local('./db/faiss_KORHS_kor')\n",
    "\n",
    "print(\"All documents have been added to the vectorstore.\")\n",
    "print(\"total doc num:\", len(vector_store_kor.index_to_docstore_id))"
   ]
  },
  {
   "cell_type": "code",
   "execution_count": 61,
   "metadata": {},
   "outputs": [],
   "source": [
    "test_docs = vector_store_kor.similarity_search(\"다음 품목에 해당할 가능성이 가장 높은 세 가지 HS 코드 및 항목명은?: 이 품목은 합성 가죽으로 만든 대형 작업용 장갑입니다.\", 3)"
   ]
  },
  {
   "cell_type": "code",
   "execution_count": 62,
   "metadata": {},
   "outputs": [
    {
     "data": {
      "text/plain": [
       "'코드: 6116921000\\n설명: 장갑, 벙어리장갑 및 장갑, 면, 편물 또는 뜨개질 편물(플라스틱 또는 고무로 함침, 코팅, 피복 또는 라미네이팅된 것 제외); 작업용 장갑'"
      ]
     },
     "execution_count": 62,
     "metadata": {},
     "output_type": "execute_result"
    }
   ],
   "source": [
    "test_docs[1].page_content"
   ]
  },
  {
   "cell_type": "code",
   "execution_count": 63,
   "metadata": {},
   "outputs": [],
   "source": [
    "# Load the DB from local\n",
    "# 두 번째 실행부터는 위 셀 실행하지 않고 이 셀만 실행\n",
    "from langchain_community.vectorstores import FAISS\n",
    "\n",
    "vector_store_eng = FAISS.load_local(\n",
    "    folder_path=\"./db/faiss_KORHS_eng\",\n",
    "    index_name=\"index\",\n",
    "    embeddings=embeddings_eng,\n",
    "    allow_dangerous_deserialization=True,\n",
    ")\n",
    "\n",
    "vector_store_kor = FAISS.load_local(\n",
    "    folder_path=\"./db/faiss_KORHS_kor\",\n",
    "    index_name=\"index\",\n",
    "    embeddings=embeddings_kor,\n",
    "    allow_dangerous_deserialization=True,\n",
    ")"
   ]
  },
  {
   "cell_type": "code",
<<<<<<< HEAD
   "execution_count": 65,
=======
   "execution_count": null,
>>>>>>> cbb78fb (coupang exp prep)
   "metadata": {},
   "outputs": [],
   "source": [
    "from langchain_core.documents import Document\n",
    "from typing_extensions import List, TypedDict\n",
    "\n",
    "\n",
    "class State(TypedDict):\n",
    "    activity: str\n",
    "    clean_desc: str\n",
    "    best3: List[Document]\n",
    "    answer: str"
   ]
  },
  {
   "cell_type": "code",
   "execution_count": 66,
   "metadata": {},
   "outputs": [],
   "source": [
    "from langchain_core.prompts import PromptTemplate\n",
    "\n",
    "# Prompt to choose the best emission factor from the options\n",
    "best_eif_prompt_ENG = \"\"\"You are a Lifecycle Analysis expert matching grocery products to their Harmonized System (HS) Codes.\n",
    "\n",
    "I want to do of LCA of grocery products based on Environmentally Extended Input Output (EEIO) Environmental Impact Factors (EIF). I am interested in the environmental impact associated with the materials and manufacturing phase of the product. I am given a grocery product and three possible corresponding HS codes and descriptions. \n",
    "\n",
    "I want to pick the HS code and description that best match the given product. Include justification for your choice.\n",
    "Format the output in JSON with the keys BestHSCode, BestHSDescription, Justification.\n",
    "\n",
    "Product:\n",
    "{clean_desc}\n",
    "\n",
    "Possible HS codes and titles:\n",
    "{best3}\n",
    "\n",
    "Which of these HS Codes is the best match for the provided product? \n",
    "\n",
    "Make the most of the given information. DO NOT say that information is limited or ask for more information.\n",
    "YOU MUST choose a best code and title. YOU MUST include a justification for your choice.\n",
    "Avoid filler words such as \"Based on the details\" or \"happy to assist\", keep your response to the point.\n",
    "Do not repeat the given instructions or information. \n",
    "DO NOT say you have insufficient information for an LCA.\n",
    "\n",
    "Respond with the JSON output and nothing else.\n",
    "\"\"\"\n",
    "\n",
    "best_eif_prompt_KOR = \"\"\"너는 식료품을 HS 코드로 분류하는 전과정영향평가(Life Cycle Analysis, LCA) 전문가야.\n",
    "\n",
    "나는 환경 확장 투입 산출(Environmentally Extended Input Output, EEIO) 환경 영향 계수(Environmental Impact Factors, EIF)를 기반으로 한 식료품의 전과정영향평가를 수행하고 싶어. 나는 식료품의 재료 및 제조 단계와 관련된 환경적 영향에 관심 있어. 나는 하나의 물품과 이에 해당할 가능성이 있는 세 가지 HS 코드 및 항목명을 받았어.\n",
    "\n",
    "나는 주어진 물품에 가장 적합한 HS 코드와 항목명을 선택하고 싶어. 선택에 대한 근거를 함께 설명해야 해.\n",
    "출력 형식은 JSON으로, 키는 \"가장_적합한_HS_코드\", \"가장_적합한_HS_항목명\", \"판단_근거\"야.\n",
    "\n",
    "물품:\n",
    "{clean_desc}\n",
    "\n",
    "가능한 HS 코드 및 항목명:\n",
    "{best3}\n",
    "\n",
    "다음 중 제공된 물품과 가장 적합한 HS 코드는 무엇이지?\n",
    "\n",
    "주어진 정보를 최대한 활용해. 정보가 제한되어 있다고 말하거나 추가 정보를 요청하지 마.\n",
    "가장 적합한 코드와 항목명 선택해야 해. 선택에 대한 근거를 반드시 포함해야 해.\n",
    "“세부 사항에 따라” 또는 ‘기꺼이 도와드리겠습니다’와 같은 미사여구는 피하고 요점에 집중하여 답변해.\n",
    "주어진 지침이나 정보를 반복하지 마.\n",
    "전과정영향평가에 필요한 정보가 충분하지 않다고 말하지 마.\n",
    "다른 말 없이 JSON 출력으로만 응답해.\"\"\"\n",
    "\n",
    "best_eif_prompt_ENG = PromptTemplate.from_template(best_eif_prompt_ENG)\n",
    "best_eif_prompt_KOR = PromptTemplate.from_template(best_eif_prompt_KOR)\n"
   ]
  },
  {
   "cell_type": "code",
   "execution_count": 77,
   "metadata": {},
   "outputs": [],
   "source": [
    "# Prompt to clean activity names and descriptions into a simple activity description to be matched in the next step.\n",
    "clean_text_prompt_ENG = \"\"\"I want to do of LCA of grocery products based on Environmentally Extended Input Output (EEIO) \n",
    "Environmental Impact Factors (EIF). I am interested in the environmental impact associated with the materials \n",
    "and manufacturing phase of the product. I am given grocery product names, and I want to \n",
    "paraphrase it to a plain language description before I select an EIF. \n",
    "\n",
    "Below is an example, inside <example></example> XML tags, of a given product name, and its plain language descriptions. Note that the descriptions \n",
    "are brief, and do not make any assumptions about the product.\n",
    "\n",
    "<example>\n",
    "PRODUCT_NAME            Gloves Work Mechanic Synthetic Leather SZ Large\n",
    "\n",
    "The item is a synthetic leather large work gloves \n",
    "</example>\n",
    "\n",
    "Following the example, provide a plain language description of the product data given below:\n",
    "{activity}\n",
    "\n",
    "Make the most of the given information. DO NOT say that information is limited.\n",
    "DO NOT refrain from providing a description, or ask for more information.\n",
    "If you cannot provide a plain language description, simply summarize the \n",
    "information provided. You MUST provide a description. \n",
    "DO NOT include the xml tags in your response.\n",
    "\n",
    "Avoid filler words such as \"Based on the details\" or \"happy to assist\", \n",
    "keep your response to the point.\n",
    "Do not repeat the given instructions or information. \n",
    "DO NOT say you have insufficient information for an LCA.\n",
    "\n",
    "Only provide the description and nothing else.\"\"\"\n",
    "\n",
    "clean_text_prompt_KOR = \"\"\"나는 환경 확장 투입 산출(Environmentally Extended Input Output, EEIO) 환경 영향 요인(Environmental Impact Factors, EIF)을 기반으로 한 식료품의 전과정영향평가(LCA)를 수행하려고 해. \n",
    "나는 식료품의 재료 및 제조 단계와 관련된 환경적 영향을 알고 싶어. 나는 식료품의 품목명을 받았고, \n",
    "이를 평이한 언어로 바꾸어 다시 서술한 후에 환경 영향 요인을 선택하려고 해.\n",
    "\n",
    "아래는 <example></example> XML 태그 안에 제공된 품목명과 그 평이한 언어 설명의 예시야. \n",
    "설명은 간결하며, 활동에 대한 어떠한 가정도 포함하지 않는다는 점을 주목해.\n",
    "\n",
    "<example>  \n",
    "품목명                                     SZ 작업용 합성가죽 장갑, 대형  \n",
    "\n",
    "이 품목은 합성 가죽으로 만든 대형 작업용 장갑입니다. \n",
    "\n",
    "</example>  \n",
    "\n",
    "위 예시를 참고하여, 아래에 제공된 식료품 데이터를 평이한 언어로 설명해:  \n",
    "{activity}  \n",
    "\n",
    "제공된 정보를 최대한 활용해. 정보가 제한적이라고 말하지 마.  \n",
    "설명을 제공하지 않거나 추가 정보를 요청하지 마.\n",
    "평이한 언어 설명을 제공할 수 없는 경우, 단순히 제공된 정보를 요약해. 반드시 설명을 제공해야 해. \n",
    "XML 태그는 응답에 포함하지 마. \n",
    "\n",
    "\"세부 사항에 따르면\" 또는 \"도움을 드릴 수 있어 기쁩니다\"와 같은 군더더기 표현을 피하고, 응답을 간결하게 작성해.  \n",
    "주어진 지침이나 정보를 반복하지 마.  \n",
    "전과정영향평가에 대해 정보가 부족하다고 언급하지 마.  \n",
    "\n",
    "설명만 제공하고, 그 외에는 아무것도 작성하지 마.\"\"\"\n",
    "\n",
    "clean_text_prompt_ENG = PromptTemplate.from_template(clean_text_prompt_ENG)\n",
    "clean_text_prompt_KOR = PromptTemplate.from_template(clean_text_prompt_KOR)\n"
   ]
  },
  {
   "cell_type": "code",
   "execution_count": 78,
   "metadata": {},
   "outputs": [],
   "source": [
    "def clean_eng(state: State):\n",
    "    messages = clean_text_prompt_ENG.invoke({\"activity\": state[\"activity\"]})\n",
    "    response = llm.invoke(messages)\n",
    "    return {\"clean_desc\": response.content}\n",
    "\n",
    "def retrieve_eng(state: State):\n",
    "    clean_desc = state[\"clean_desc\"]\n",
    "    best3_prompt_text = f\"What are three possible HS Codes for the given product description: {clean_desc}\"\n",
    "    retrieved_docs = vector_store_eng.similarity_search(best3_prompt_text, 3) # 3\n",
    "    return {\"best3\": retrieved_docs}\n",
    "\n",
    "\n",
    "def generate_eng(state: State):\n",
    "    docs_content = \"\\n\\n\".join(doc.page_content for doc in state[\"best3\"])\n",
    "    messages = best_eif_prompt_ENG.invoke({\"clean_desc\": state[\"clean_desc\"], \"best3\": docs_content})\n",
    "    response = llm.invoke(messages)\n",
    "    return {\"answer\": response.content}"
   ]
  },
  {
   "cell_type": "code",
   "execution_count": 79,
   "metadata": {},
   "outputs": [],
   "source": [
    "def clean_kor(state: State):\n",
    "    messages = clean_text_prompt_KOR.invoke({\"activity\": state[\"activity\"]})\n",
    "    response = llm.invoke(messages)\n",
    "    return {\"clean_desc\": response.content}\n",
    "\n",
    "def retrieve_kor(state: State):\n",
    "    clean_desc = state[\"clean_desc\"]\n",
    "    best3_prompt_text = f\"다음 품목에 해당할 가능성이 가장 높은 세 가지 HS 코드 및 항목명은?: {clean_desc}\"\n",
    "    retrieved_docs = vector_store_kor.similarity_search(best3_prompt_text, 3) # 3\n",
    "    return {\"best3\": retrieved_docs}\n",
    "\n",
    "\n",
    "def generate_kor(state: State):\n",
    "    docs_content = \"\\n\\n\".join(doc.page_content for doc in state[\"best3\"])\n",
    "    messages = best_eif_prompt_KOR.invoke({\"clean_desc\": state[\"clean_desc\"], \"best3\": docs_content})\n",
    "    response = llm.invoke(messages)\n",
    "    return {\"answer\": response.content}"
   ]
  },
  {
   "cell_type": "code",
   "execution_count": 80,
   "metadata": {},
   "outputs": [],
   "source": [
    "from langgraph.graph import START, StateGraph\n",
    "\n",
    "graph_builder_eng = StateGraph(State).add_sequence([clean_eng, retrieve_eng, generate_eng])\n",
    "graph_builder_eng.add_edge(START, \"clean_eng\")\n",
    "graph_eng = graph_builder_eng.compile()\n",
    "\n",
    "graph_builder_kor = StateGraph(State).add_sequence([clean_kor, retrieve_kor, generate_kor])\n",
    "graph_builder_kor.add_edge(START, \"clean_kor\")\n",
    "graph_kor = graph_builder_kor.compile()"
   ]
  },
  {
   "cell_type": "code",
   "execution_count": 81,
   "metadata": {},
   "outputs": [
    {
     "data": {
      "image/png": "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",
      "text/plain": [
       "<IPython.core.display.Image object>"
      ]
     },
     "metadata": {},
     "output_type": "display_data"
    }
   ],
   "source": [
    "from IPython.display import Image, display\n",
    "\n",
    "display(Image(graph_kor.get_graph().draw_mermaid_png()))"
   ]
  },
  {
   "cell_type": "code",
<<<<<<< HEAD
   "execution_count": 72,
   "metadata": {},
   "outputs": [],
   "source": [
    "# result_eng = graph_eng.invoke({\"activity\": \"GLOVES WORK MECHANIC SYNTHETIC LEATHER SZ LARGE\"})\n",
    "result_kor = graph_kor.invoke({\"activity\": \"작업용 장갑, 합성 가죽, 대형\"})"
   ]
  },
  {
   "cell_type": "code",
   "execution_count": null,
   "metadata": {},
   "outputs": [
    {
     "name": "stdout",
     "output_type": "stream",
     "text": [
      "Activity: GLOVES WORK MECHANIC SYNTHETIC LEATHER SZ LARGE\n",
      "\n",
      "\n",
      "Clean Description: The item is a large pair of synthetic leather work gloves designed for mechanics.\n",
      "\n",
      "\n",
      "HSCode: 4203291000\n",
      "Description: Clothing accessories; gloves, mittens, gloves, mittens and mitts, n.e.c., subheading. 4203, of leather or synthetic leather, not specially designed for sports; work gloves\n",
      "HSCode: 6116100000\n",
      "Description: Gloves, mittens, and mittens, knitted or crocheted, impregnated, coated, covered, or laminated with plastic or rubber; infiltrated, applied, covered, or laminated with plastic or rubber\n",
      "HSCode: 6216001000\n",
      "Description: Gloves, mittens, gloves, mittens (other than knit or crocheted gloves); plastic and rubber penetrated, applied, or sheathed\n",
      "Answer: ```json\n",
      "{\n",
      "  \"BestHSCode\": \"4203291000\",\n",
      "  \"BestHSDescription\": \"Clothing accessories; gloves, mittens, gloves, mittens and mitts, n.e.c., subheading. 4203, of leather or synthetic leather, not specially designed for sports; work gloves\",\n",
      "  \"Justification\": \"The product is a large pair of synthetic leather work gloves designed specifically for mechanics, which aligns with the description of HS Code 4203291000. This code specifically mentions gloves made of synthetic leather and includes work gloves, making it the most appropriate match for the product.\"\n",
      "}\n",
      "```\n"
     ]
    }
   ],
   "source": [
    "# print(f'Activity: {result_eng[\"activity\"]}\\n\\n')\n",
    "# print(f'Clean Description: {result_eng[\"clean_desc\"]}\\n\\n')\n",
    "# for doc in result_eng[\"best3\"]:\n",
    "#     print(doc.page_content)\n",
    "# print(f'Answer: {result_eng[\"answer\"]}')"
   ]
  },
  {
   "cell_type": "code",
   "execution_count": 73,
   "metadata": {},
   "outputs": [
    {
     "name": "stdout",
     "output_type": "stream",
     "text": [
      "Activity: 작업용 장갑, 합성 가죽, 대형\n",
      "\n",
      "\n",
      "Clean Description: 작업용 장갑, 합성 가죽, 대형  \n",
      "\n",
      "이 품목은 합성 가죽으로 제작된 대형 작업용 장갑입니다.\n",
      "\n",
      "\n",
      "코드: 6116930000\n",
      "설명: 장갑, 장갑 및 장갑, 편물 또는 뜨개질 편물로 된 합성 섬유(플라스틱 또는 고무로 함침, 코팅, 피복 또는 라미네이트된 것 제외); 합성섬유로 만든 것\n",
      "코드: 6116921000\n",
      "설명: 장갑, 벙어리장갑 및 장갑, 면, 편물 또는 뜨개질 편물(플라스틱 또는 고무로 함침, 코팅, 피복 또는 라미네이팅된 것 제외); 작업용 장갑\n",
      "코드: 6116990000\n",
      "설명: 장갑, 장갑, 벙어리장갑, 장갑, (양모 또는 미세한 동물 털, 면 또는 합성 섬유를 제외한) 편물 또는 뜨개질한 섬유 소재(플라스틱 또는 고무로 함침, 코팅, 덮거나 적층한 것은 제외).; 그 밖의 방직용 섬유로 만든 것\n",
      "Answer: ```json\n",
      "{\n",
      "  \"가장_적합한_HS_코드\": \"6116930000\",\n",
      "  \"가장_적합한_HS_항목명\": \"장갑, 장갑 및 장갑, 편물 또는 뜨개질 편물로 된 합성 섬유(플라스틱 또는 고무로 함침, 코팅, 피복 또는 라미네이트된 것 제외); 합성섬유로 만든 것\",\n",
      "  \"판단_근거\": \"작업용 장갑이 합성 가죽으로 제작되었으므로 합성 섬유로 분류되는 6116930000 코드가 가장 적합합니다. 이는 합성 섬유로 만든 장갑을 포함하고 있으며, 다른 두 코드는 면 또는 다른 섬유 재질에 중점을 두고 있어 해당 물품에 부합하지 않습니다.\"\n",
      "}\n",
      "```\n"
     ]
    }
   ],
   "source": [
    "print(f'Activity: {result_kor[\"activity\"]}\\n\\n')\n",
    "print(f'Clean Description: {result_kor[\"clean_desc\"]}\\n\\n')\n",
    "for doc in result_kor[\"best3\"]:\n",
    "    print(doc.page_content)\n",
    "print(f'Answer: {result_kor[\"answer\"]}')"
   ]
  },
  {
   "cell_type": "code",
=======
>>>>>>> cbb78fb (coupang exp prep)
   "execution_count": null,
   "metadata": {},
   "outputs": [
    {
     "data": {
      "text/plain": [
       "'PRODUCT_NAME: Oatmeal White Rice, 210 g, 24 packets'"
      ]
     },
     "execution_count": 26,
     "metadata": {},
     "output_type": "execute_result"
    }
   ],
   "source": [
    "# # Loader for the input activities dataset\n",
    "# from langchain.document_loaders import CSVLoader\n",
    "\n",
<<<<<<< HEAD
    "# sample_input_loader_eng = CSVLoader(r\"../guidance_for_environmental_impact_factor_mapping_on_aws/assets/input/sample_coupang_product_names_groceries_eng.csv\", encoding='utf-8-sig')\n",
    "# sample_input_doc_eng = sample_input_loader_eng.load()\n",
    "\n",
    "# sample_input_doc_eng[0].page_content"
=======
    "input_loader_eng = CSVLoader(r\"../guidance_for_environmental_impact_factor_mapping_on_aws/assets/input/coupang_product_names_groceries_v3_eng.csv\", encoding='utf-8-sig')\n",
    "input_doc_eng = input_loader_eng.load()\n",
    "\n",
    "input_doc_eng[0].page_content"
>>>>>>> cbb78fb (coupang exp prep)
   ]
  },
  {
   "cell_type": "code",
<<<<<<< HEAD
   "execution_count": 74,
=======
   "execution_count": null,
>>>>>>> cbb78fb (coupang exp prep)
   "metadata": {},
   "outputs": [
    {
     "data": {
      "text/plain": [
       "'품목명: 오뚜기 흰밥, 210g, 24개'"
      ]
     },
     "execution_count": 74,
     "metadata": {},
     "output_type": "execute_result"
    }
   ],
   "source": [
    "input_loader_kor = CSVLoader(r\"../guidance_for_environmental_impact_factor_mapping_on_aws/assets/input/coupang_product_names_groceries_v3_kor.csv\", encoding='utf-8-sig')\n",
    "input_doc_kor = input_loader_kor.load()\n",
    "\n",
    "input_doc_kor[0].page_content"
   ]
  },
  {
   "cell_type": "code",
   "execution_count": null,
   "metadata": {},
   "outputs": [
    {
     "name": "stdout",
     "output_type": "stream",
     "text": [
<<<<<<< HEAD
      "필터되었습니다. 결과는 '..\\guidance_for_environmental_impact_factor_mapping_on_aws\\assets\\input\\sample_amazon_product_names_groceries_kor.csv'에 저장되었습니다.\n"
     ]
    }
   ],
   "source": [
    "# # amazon input data preprocessing\n",
    "# import pandas as pd\n",
    "# file_path = r'..\\guidance_for_environmental_impact_factor_mapping_on_aws\\assets\\input\\amazon_product_names_groceries_kor.csv'\n",
    "# output_path = r'..\\guidance_for_environmental_impact_factor_mapping_on_aws\\assets\\input\\sample_amazon_product_names_groceries_kor.csv'\n",
    "\n",
    "# df = pd.read_csv(file_path)\n",
    "# df = df.head(9)\n",
    "# df.to_csv(output_path, index=False)\n",
    "\n",
    "# print(f\"필터되었습니다. 결과는 '{output_path}'에 저장되었습니다.\")\n"
   ]
  },
  {
   "cell_type": "code",
   "execution_count": null,
   "metadata": {},
   "outputs": [
    {
     "name": "stdout",
     "output_type": "stream",
     "text": [
=======
>>>>>>> cbb78fb (coupang exp prep)
      "Final results: [{'ProductName': 'PRODUCT_NAME: Oatmeal White Rice, 210 g, 24 packets', 'CleanDescription': 'The product is a package of oatmeal white rice containing 24 individual packets, with a total weight of 210 grams.', 'Best3': 'HSCode: 1901909010\\nDescription: Food preparations; flour, meal, starch, malt extract or dairy products, except for uses described in heading no. 1901; Miscellaneous; Oatmeal\\nHSCode: 1006400000\\nDescription: Grain; rice, broken; broken rice\\nHSCode: 1006100000\\nDescription: grain; hulled rice (rice or coarse rice); rice', 'Answer': '```json\\n{\\n  \"BestHSCode\": \"1901909010\",\\n  \"BestHSDescription\": \"Food preparations; flour, meal, starch, malt extract or dairy products, except for uses described in heading no. 1901; Miscellaneous; Oatmeal\",\\n  \"Justification\": \"The product is a package of oatmeal white rice, which includes oatmeal as a key ingredient. The HS code 1901909010 specifically pertains to food preparations that include oatmeal, making it the most relevant choice compared to the other codes that focus solely on rice.\"\\n}\\n```'}, {'ProductName': 'PRODUCT_NAME: Shin Ramen, 120 g, 30 packets', 'CleanDescription': 'The item is a pack of 30 Shin Ramen noodles, each weighing 120 grams.', 'Best3': 'HSCode: 3707100000\\nDescription: Photographic merchandise; sensitive emulsions; merchandise put up for retail sale in metered portions or in ready-to-use form; photosensitive emulsions\\nHSCode: 3707902090\\nDescription: Photographic merchandise; chemical preparations, other than sensitive emulsions, when placed up for retail sale in measured portions or in ready-to-use form; developers; etc.\\nHSCode: 4820400000\\nDescription: Paper and cardboard; assorted business forms and interleaved carbon sets; assorted business forms and interleaved carbon sets', 'Answer': '```json\\n{\\n  \"BestHSCode\": \"3707100000\",\\n  \"BestHSDescription\": \"Photographic merchandise; sensitive emulsions; merchandise put up for retail sale in metered portions or in ready-to-use form; photosensitive emulsions\",\\n  \"Justification\": \"None of the provided HS codes directly match food products, but HSCode 3707100000 pertains to merchandise sold in portions, which is somewhat analogous to the packaging of Shin Ramen noodles. The other codes relate to photographic merchandise, which is unrelated to grocery items.\"\\n}\\n```'}, {'ProductName': 'PRODUCT_NAME: Spam 25% light, 9', 'CleanDescription': 'The item is a light version of Spam, with 25% less fat, sold in a 9-ounce container.', 'Best3': 'HSCode: 401501000\\nDescription: Dairy products; milk and cream, undiluted and without added sugar or other sweeteners, if fat content exceeds 10% by weight; frozen cream\\nHSCode: 402101010\\nDescription: Dairy products; milk and cream added or concentrated with sugar or other sweeteners in powdered, granulated, or other solid form not exceeding 1.5% (by weight) fat content; without added sugar or other sweeteners; skimmed milk powder\\nHSCode: 401509000\\nDescription: Dairy products; milk and cream, undiluted and without added sugar or other sweeteners, if fat content exceeds 10% by weight; other', 'Answer': '```json\\n{\\n  \"BestHSCode\": \"401509000\",\\n  \"BestHSDescription\": \"Dairy products; milk and cream, undiluted and without added sugar or other sweeteners, if fat content exceeds 10% by weight; other\",\\n  \"Justification\": \"The product is a light version of Spam, which is typically a processed meat product rather than a dairy product. However, among the provided options, HSCode 401509000 focuses on dairy products without added sugar, which aligns more closely with the concept of a processed food item that may include components like milk or cream as part of its formulation. The other codes relate specifically to milk and cream with defined sugar content and fat content, which does not apply to a meat product like Spam.\"\\n}\\n```'}, {'ProductName': 'PRODUCT_NAME: Dongwon chili tuna, 85 g, 8 ounces', 'CleanDescription': 'The item is an 85-gram can of Dongwon chili tuna.', 'Best3': 'HSCode: 3605000000\\nDescription: Matches, other, heading no. 3604; matches, except chemicals, of heading 3604\\nHSCode: 203120000\\nDescription: Meat; pork, ham, shoulder, and cuts thereof, fresh or refrigerated, with bones; pork leg and shoulder meat and cuts thereof, with bones only\\nHSCode: 3921909090\\nDescription: Plastics; Plates, Sheets, Films, Foils &amp; Strips (except Cellular); Other; Other', 'Answer': '```json\\n{\\n  \"BestHSCode\": \"3605000000\",\\n  \"BestHSDescription\": \"Matches, other, heading no. 3604; matches, except chemicals, of heading 3604\",\\n  \"Justification\": \"The product is an 85-gram can of Dongwon chili tuna, which falls under processed food products. The HS code 3605000000 pertains to matches, which can also be used for various food items that are not categorized under specific meat or plastic classifications. The other two options do not relate to seafood or processed fish products, making this the most appropriate choice.\"\\n}\\n```'}, {'ProductName': 'PRODUCT_NAME: Prospector Unlabeled, 2L, 24 pieces', 'CleanDescription': 'The item is a pack of 24 liters of an unlabeled product.', 'Best3': 'HSCode: 4820400000\\nDescription: Paper and cardboard; assorted business forms and interleaved carbon sets; assorted business forms and interleaved carbon sets\\nHSCode: 3923100000\\nDescription: Plastic, boxes, cases, crates and similar articles for transporting or packaging goods; crates, cases, baskets and similar articles\\nHSCode: 3707902090\\nDescription: Photographic merchandise; chemical preparations, other than sensitive emulsions, when placed up for retail sale in measured portions or in ready-to-use form; developers; etc.', 'Answer': '```json\\n{\\n  \"BestHSCode\": \"3923100000\",\\n  \"BestHSDescription\": \"Plastic, boxes, cases, crates and similar articles for transporting or packaging goods; crates, cases, baskets and similar articles\",\\n  \"Justification\": \"The product is a pack of 24 liters of an unlabeled product, which likely requires packaging for transport and storage. The HS code 3923100000 pertains to plastic articles used for packaging, making it the most relevant choice. The other codes relate to business forms and photographic merchandise, which do not apply to a grocery product.\"\\n}\\n```'}, {'ProductName': 'PRODUCT_NAME: Thicker Short Ribs (frozen), 600 g, 5 pieces', 'CleanDescription': 'The item is a package of thicker frozen short ribs weighing 600 grams, containing 5 pieces.', 'Best3': 'HSCode: 203220000\\nDescription: Meat; pork, ham, shoulder, and cuts thereof, frozen with bones; pork leg and shoulder, and cuts thereof, with bones only\\nHSCode: 203120000\\nDescription: Meat; pork, ham, shoulder, and cuts thereof, fresh or refrigerated, with bones; pork leg and shoulder meat and cuts thereof, with bones only\\nHSCode: 2301101000\\nDescription: Flour, meal and pellets; meat or meat offal, fat; fine or coarse powder or pellets of meat or offal', 'Answer': '```json\\n{\\n  \"BestHSCode\": \"203220000\",\\n  \"BestHSDescription\": \"Meat; pork, ham, shoulder, and cuts thereof, frozen with bones; pork leg and shoulder, and cuts thereof, with bones only\",\\n  \"Justification\": \"The product is a package of thicker frozen short ribs, which indicates that it consists of pork meat that is frozen and includes bones. HS Code 203220000 specifically refers to frozen pork with bones, making it the most accurate match for the product compared to the other options that refer to fresh or refrigerated meat or meat offal.\"\\n}\\n```'}, {'ProductName': 'PRODUCT_NAME: Blue Diamond Almond Breeze Original, 190 ml, 24 pieces', 'CleanDescription': 'The item is a pack of 24 pieces of 190 ml original almond milk from the brand Blue Diamond.', 'Best3': 'HSCode: 402101010\\nDescription: Dairy products; milk and cream added or concentrated with sugar or other sweeteners in powdered, granulated, or other solid form not exceeding 1.5% (by weight) fat content; without added sugar or other sweeteners; skimmed milk powder\\nHSCode: 401501000\\nDescription: Dairy products; milk and cream, undiluted and without added sugar or other sweeteners, if fat content exceeds 10% by weight; frozen cream\\nHSCode: 402211000\\nDescription: Dairy products; concentrated milk and cream without added sugar or other sweeteners, in powder, granular or other solid form, with a fat content in excess of 1.5% (by weight); whole milk powder', 'Answer': '```json\\n{\\n  \"BestHSCode\": \"402101010\",\\n  \"BestHSDescription\": \"Dairy products; milk and cream added or concentrated with sugar or other sweeteners in powdered, granulated, or other solid form not exceeding 1.5% (by weight) fat content; without added sugar or other sweeteners; skimmed milk powder\",\\n  \"Justification\": \"The product is almond milk, which is a plant-based alternative to dairy milk. However, the closest match among the provided HS codes relates to dairy products, specifically those involving milk and cream in various forms. The first HS code (402101010) pertains to milk products without added sugar, which aligns more closely with almond milk\\'s nature as a dairy alternative compared to the other two codes, which refer to higher-fat dairy products.\"\\n}\\n```'}, {'ProductName': 'PRODUCT_NAME: Bibigo King Gyoza (frozen), 1.05 kg, 2 pieces', 'CleanDescription': 'The item is a 1.05 kg package of frozen Bibigo King Gyoza, consisting of 2 pieces.', 'Best3': 'HSCode: 203220000\\nDescription: Meat; pork, ham, shoulder, and cuts thereof, frozen with bones; pork leg and shoulder, and cuts thereof, with bones only\\nHSCode: 511999030\\nDescription: Animal products, see Chapter 5; other; carcasses of animals (except carcasses of third class goods)\\nHSCode: 203210000\\nDescription: Meat; pork, carcasses and semi-carcasses, frozen; carcasses (屠體) and bisected carcasses (二分屠體)', 'Answer': '```json\\n{\\n  \"BestHSCode\": \"203220000\",\\n  \"BestHSDescription\": \"Meat; pork, ham, shoulder, and cuts thereof, frozen with bones; pork leg and shoulder, and cuts thereof, with bones only\",\\n  \"Justification\": \"The product is a package of frozen gyoza, which typically contains pork as a primary ingredient. HS Code 203220000 specifically refers to frozen pork cuts, making it the most relevant choice for a product that includes meat components. The other options refer to broader categories of meat or carcasses, which do not specifically match the processed nature of gyoza.\"\\n}\\n```'}, {'ProductName': 'PRODUCT_NAME: 11 brix tangerines, 2 kg (royal family), 1 tangerine per tangerine tartness scale', 'CleanDescription': 'The item is a 2 kg package of 11 brix tangerines, which are sweet and flavorful with a tartness scale rating of 1 tangerine.', 'Best3': 'HSCode: 2009410000\\nDescription: Juice; unfermented (unalcoholized) pineapple juice not exceeding 20 Brix, whether or not sugar or other sweeteners have been added; with a Brix value of 20 or less\\nHSCode: 2009490000\\nDescription: Juice; pineapple, unalcoholized, unfermented, with a brix value in excess of 20, whether or not sugar or other sweeteners have been added; etc.\\nHSCode: 2009710000\\nDescription: Juice; unfermented (unalcoholized) apple juice not exceeding 20 Brix, whether or not sugar or other sweeteners have been added; with a Brix value of 20 or less', 'Answer': '```json\\n{\\n  \"BestHSCode\": \"2009410000\",\\n  \"BestHSDescription\": \"Juice; unfermented (unalcoholized) pineapple juice not exceeding 20 Brix, whether or not sugar or other sweeteners have been added; with a Brix value of 20 or less\",\\n  \"Justification\": \"The product is a 2 kg package of tangerines, which are fruit, and while the HS code pertains to pineapple juice, it is the only code that matches the category of fruit juice with a Brix value not exceeding 20. The Brix scale indicates the sugar content in fruit juices and is relevant for the tangerines, which are sweet and flavorful, aligning with the content description of the HS code.\"\\n}\\n```'}, {'ProductName': 'PRODUCT_NAME: Damter Walnut Almond Yulmucha, 18 g, 50 Count, 1', 'CleanDescription': 'The item is a pack of 50 Yulmucha snacks made with walnut and almond, weighing 18 grams each.', 'Best3': 'HSCode: 802800000\\nDescription: Nuts, edible; areca nuts, shelled or unshelled, fresh or dried; areca nut\\nHSCode: 1704901000\\nDescription: Sugary confections that do not contain cocoa (except chewing gum, including white chocolate); licorice extract (except those made into confections)\\nHSCode: 1806201000\\nDescription: Chocolate and other food preparations containing cocoa, in blocks, slabs, or bars, or in liquid, paste, powder, granules, or other bulk form, in containers or ready-to-use packages, the contents of which exceed 2 kilograms; chocolate and chocolate confections', 'Answer': '```json\\n{\\n  \"BestHSCode\": \"802800000\",\\n  \"BestHSDescription\": \"Nuts, edible; areca nuts, shelled or unshelled, fresh or dried; areca nut\",\\n  \"Justification\": \"The product consists of snacks made with walnut and almond, which are considered edible nuts. The HS code 802800000 specifically covers edible nuts, making it the most appropriate choice for the materials used in the Yulmucha snacks.\"\\n}\\n```'}]\n"
     ]
    }
   ],
   "source": [
    "# import re  # For extracting fields from page_content\n",
    "\n",
    "# # Initialize results storage\n",
    "# results_eng = []\n",
    "\n",
<<<<<<< HEAD
    "# # Process each row using the graph\n",
    "# for doc in sample_input_doc_eng:\n",
    "#     # # Extract CommodityDescription from the page_content using regex\n",
    "#     # match = re.search(r\"CommodityDescription: (.+)\", doc.page_content)\n",
    "#     # activity = match.group(1).strip() if match else None  # Extract the description\n",
=======
    "# Process each row using the graph\n",
    "for doc in input_doc_eng:\n",
    "    # # Extract CommodityDescription from the page_content using regex\n",
    "    # match = re.search(r\"CommodityDescription: (.+)\", doc.page_content)\n",
    "    # activity = match.group(1).strip() if match else None  # Extract the description\n",
>>>>>>> cbb78fb (coupang exp prep)
    "\n",
    "#     activity = doc.page_content # Extract the Product Name\n",
    "\n",
    "#     if activity:\n",
    "#         # print(f\"Processing activity: {activity}\")  # Debugging: print the activity\n",
    "#         # Invoke the graph\n",
    "#         result = graph_eng.invoke({\"activity\": activity})\n",
    "        \n",
    "#         # Extract context and answer from the state after processing\n",
    "#         results_eng.append({\n",
    "#             \"ProductName\": activity,\n",
    "#             \"CleanDescription\": result.get(\"clean_desc\", \"\"),\n",
    "#             \"Best3\": \"\\n\".join(doc.page_content for doc in result.get(\"best3\", \"\")),\n",
    "#             \"Answer\": result.get(\"answer\", \"\")\n",
    "#         })\n",
    "\n",
    "# # Print the results for debugging\n",
    "# print(\"Final results:\", results_eng)"
   ]
  },
  {
   "cell_type": "code",
<<<<<<< HEAD
   "execution_count": 82,
=======
   "execution_count": null,
>>>>>>> cbb78fb (coupang exp prep)
   "metadata": {},
   "outputs": [
    {
     "name": "stdout",
     "output_type": "stream",
     "text": [
      "Final results: [{'ProductName': '품목명: 오뚜기 흰밥, 210g, 24개', 'CleanDescription': '오뚜기 흰밥은 210g의 포장 단위로, 24개가 들어있는 즉석 식사 제품입니다.', 'Best3': '코드: 1404903010\\n설명: 식물성 제품; 14장의 내용 외; 식품포장용으로 사용되는 식물의 잎; 떡갈잎\\n코드: 2106903019\\n설명: 식품 준비물; 항목 번호 2106.10의 n.e.c.; 인삼제품류; 백삼제품류; 기타\\n코드: 1106300000\\n설명: 밀가루, 식사 및 분말; 8장의 제품 중; 제8류 물품의 것', 'Answer': '```json\\n{\\n  \"가장_적합한_HS_코드\": \"2106903019\",\\n  \"가장_적합한_HS_항목명\": \"식품 준비물; 항목 번호 2106.10의 n.e.c.; 인삼제품류; 백삼제품류; 기타\",\\n  \"판단_근거\": \"오뚜기 흰밥은 즉석 식사 제품으로, 가공된 식품 준비물에 해당합니다. HS 코드 2106903019는 가공 식품을 포함하며, 즉석 식사 제품의 분류에 적합합니다. 다른 두 코드(1404903010 및 1106300000)는 식물성 제품이나 밀가루, 분말에 관한 것으로, 흰밥과 같은 즉석 식사 제품의 특성을 반영하지 않습니다.\"\\n}\\n```'}, {'ProductName': '품목명: 신라면 120g, 30개', 'CleanDescription': '신라면은 120g의 용량으로 포장된 인스턴트 라면 제품이며, 총 30개가 포함되어 있습니다.', 'Best3': '코드: 207603100\\n설명: 육류 및 식용 내장, 기니피그, 신선, 냉장 또는 냉동 제품; 기타(신선한 것이나 냉장한 것으로 한정한다); 절단육\\n코드: 1902301010\\n설명: 음식 준비물; 파스타(박제 제외), 조리 또는 기타 조리된 음식; 인스탄트 면류; 라면\\n코드: 207604210\\n설명: 육류 및 식용 내장, 기니피그, 신선, 냉장 또는 냉동 제품; 기타(냉동한 것으로 한정한다); 설육(屑肉); 간', 'Answer': '```json\\n{\\n  \"가장_적합한_HS_코드\": \"1902301010\",\\n  \"가장_적합한_HS_항목명\": \"음식 준비물; 파스타(박제 제외), 조리 또는 기타 조리된 음식; 인스탄트 면류; 라면\",\\n  \"판단_근거\": \"신라면은 인스턴트 라면으로 분류되며, 1902301010 HS 코드는 인스턴트 면류와 관련되어 있다. 다른 두 코드(207603100, 207604210)는 육류와 관련된 항목으로, 주어진 물품인 인스턴트 라면과는 관련성이 없다.\"\\n}\\n```'}, {'ProductName': '품목명: 스팸 25% 라이트, 9개', 'CleanDescription': '스팸 25% 라이트, 9개는 25%의 지방이 포함된 스팸 제품으로, 9개가 들어 있는 포장입니다.', 'Best3': '코드: 5516440000\\n설명: 직물, 직조, 인쇄, 인공 스테이플 섬유 중량 85% 미만을 함유하고 주로 또는 전적으로 면과 혼합된 제품; 날염한 것\\n코드: 5516149000\\n설명: 직물, 직조, 인쇄, 인공 스테이플 섬유가 중량 기준 85% 이상 함유된 제품; 기타\\n코드: 5516119000\\n설명: 직물, 직조, 표백 또는 표백되지 않은 인공 스테이플 섬유가 중량 대비 85% 이상 함유된 제품; 기타', 'Answer': '```json\\n{\\n  \"가장_적합한_HS_코드\": \"5516440000\",\\n  \"가장_적합한_HS_항목명\": \"직물, 직조, 인쇄, 인공 스테이플 섬유 중량 85% 미만을 함유하고 주로 또는 전적으로 면과 혼합된 제품; 날염한 것\",\\n  \"판단_근거\": \"제공된 물품은 스팸 제품으로 식료품에 해당하지만, 주어진 HS 코드들은 모두 섬유 제품과 관련되어 있습니다. 주어진 HS 코드 중에서는 \\'5516440000\\'이 \\'주로 또는 전적으로 면과 혼합된 제품\\'을 설명하고 있으나, 스팸 제품과의 관련성은 매우 낮습니다. 그러나 나머지 두 코드는 인공 스테이플 섬유가 85% 이상 포함된 제품으로, 스팸과는 전혀 관련이 없습니다. 따라서 주어진 세 가지 HS 코드 중에서는 \\'5516440000\\'이 가장 적합한 코드로 보입니다.\"\\n}\\n```'}, {'ProductName': '품목명: 동원 고추 참치, 85g, 8개', 'CleanDescription': '동원 고추 참치는 85g의 용량으로 포장된 8개의 캔으로, 고추와 참치를 주재료로 사용한 식품입니다.', 'Best3': '코드: 811902000\\n설명: 과일, 식용; 과일 및 견과류 세번 no. 0811, 익히지 않거나 익힌 것, 설탕 또는 기타 감미료의 함유 여부에 관계없이 냉동된 것; 대추\\n코드: 709991000\\n설명: 채소; 식용, 07장의 기타, 신선하거나 차가운 것; 고사리\\n코드: 2103901030\\n설명: 소스 및 이를 위한 준비물; 혼합 조미료 및 혼합 조미료; 장류; 고추장', 'Answer': '```json\\n{\\n  \"가장_적합한_HS_코드\": \"2103901030\",\\n  \"가장_적합한_HS_항목명\": \"소스 및 이를 위한 준비물; 혼합 조미료 및 혼합 조미료; 장류; 고추장\",\\n  \"판단_근거\": \"동원 고추 참치는 고추와 참치를 주재료로 사용한 조미료가 포함된 식품으로, HS 코드 2103901030은 소스 및 조미료에 해당합니다. 반면, 다른 두 HS 코드는 과일과 채소에 해당하여 본 제품의 특성과 맞지 않습니다.\"\\n}\\n```'}, {'ProductName': '품목명: 탐사수 무라벨, 2L, 24개', 'CleanDescription': '탐사수 무라벨은 라벨이 없는 2리터 용량의 생수입니다. 이 제품은 24개가 묶여 있습니다.', 'Best3': '코드: 2202999000\\n설명: 무알코올 음료; 제2202.10호에 해당하는 무알코올 맥주 이외의 것으로서, 제 2202.10호의 과일, 견과류 또는 야채 주스는 포함하지 않습니다. 2009; 기타\\n코드: 2202992000\\n설명: 무알코올 음료; 제2202.10호에 해당하는 무알코올 맥주 이외의 것으로서, 제 2202.10호의 과일, 견과류 또는 야채 주스는 포함하지 않습니다. 2009; 과실주스 음료\\n코드: 2202993000\\n설명: 무알코올 음료; 제2202.10호에 해당하는 무알코올 맥주 이외의 것으로서, 제 2202.10호의 과일, 견과류 또는 야채 주스는 포함하지 않습니다. 2009; 식혜', 'Answer': '```json\\n{\\n  \"가장_적합한_HS_코드\": \"2202999000\",\\n  \"가장_적합한_HS_항목명\": \"무알코올 음료; 제2202.10호에 해당하는 무알코올 맥주 이외의 것으로서, 제 2202.10호의 과일, 견과류 또는 야채 주스는 포함하지 않습니다. 2009; 기타\",\\n  \"판단_근거\": \"탐사수 무라벨은 라벨이 없는 생수로, 무알코올 음료에 해당하며, 주어진 HS 코드 중에서 가장 일반적인 범주인 \\'기타\\'로 분류되는 코드가 가장 적합합니다. 다른 두 코드(과실주스 음료, 식혜)는 특정 음료에 한정되므로 해당하지 않습니다.\"\\n}\\n```'}, {'ProductName': '품목명: 곰곰 더 진한 갈비탕 (냉동), 600g, 5개', 'CleanDescription': '곰곰 더 진한 갈비탕은 600g의 냉동 갈비탕으로, 5개가 포함되어 있습니다.', 'Best3': '코드: 1602321010\\n설명: 육류 준비; 제목의 가금류의 번호. 0105, (즉, 갈루스 도메니쿠스 종의 가금류); 밀폐용기에 넣은 것; 삼계탕\\n코드: 207604290\\n설명: 육류 및 식용 내장, 기니피그, 신선, 냉장 또는 냉동 제품; 기타(냉동한 것으로 한정한다); 설육(屑肉); 기타\\n코드: 207604210\\n설명: 육류 및 식용 내장, 기니피그, 신선, 냉장 또는 냉동 제품; 기타(냉동한 것으로 한정한다); 설육(屑肉); 간', 'Answer': '```json\\n{\\n  \"가장_적합한_HS_코드\": \"1602321010\",\\n  \"가장_적합한_HS_항목명\": \"육류 준비; 제목의 가금류의 번호. 0105, (즉, 갈루스 도메니쿠스 종의 가금류); 밀폐용기에 넣은 것; 삼계탕\",\\n  \"판단_근거\": \"곰곰 더 진한 갈비탕은 냉동 갈비탕으로, 육류가 포함된 제품입니다. HS 코드 1602321010은 가금류 제품을 밀폐용기에 넣은 것으로 명시하고 있으나, 갈비탕과 같은 육류 준비식품에도 해당할 수 있습니다. 나머지 두 코드(207604290, 207604210)는 기니피그와 관련된 품목으로, 주어진 물품과는 관련이 없습니다. 따라서 1602321010이 가장 적합한 선택입니다.\"\\n}\\n```'}, {'ProductName': '품목명: 블루다이아몬드 아몬드 브리즈 오리지널, 190ml, 24개', 'CleanDescription': '블루다이아몬드 아몬드 브리즈 오리지널은 190ml 용량의 아몬드 우유로, 24개가 한 세트로 포장되어 있습니다.', 'Best3': '코드: 2205100000\\n설명: 식물 또는 향기로운 물질로 향을 낸 신선한 포도로 만든 버몬트 및 기타 와인, 2리터 이하의 용기에 담아야 합니다.; 2리터 이하의 용기에 넣은 것\\n코드: 2205900000\\n설명: 식물 또는 향기로운 물질로 향을 낸 신선한 포도로 만든 버몬트 및 기타 와인은 2리터 이상의 용기에 담아야 합니다.; 기타\\n코드: 405900000\\n설명: 유제품, 우유에서 추출한 지방 및 오일(버터 또는 유제품 스프레드 제외); 기타', 'Answer': '```json\\n{\\n  \"가장_적합한_HS_코드\": \"405900000\",\\n  \"가장_적합한_HS_항목명\": \"유제품, 우유에서 추출한 지방 및 오일(버터 또는 유제품 스프레드 제외); 기타\",\\n  \"판단_근거\": \"블루다이아몬드 아몬드 브리즈 오리지널은 아몬드 우유로, 이는 유제품 대체품으로 분류됩니다. HS 코드 405900000은 유제품 및 우유에서 추출한 지방과 관련된 항목으로, 아몬드 우유와 같은 식물 기반의 대체 우유 제품과 가장 관련성이 높습니다. 나머지 두 코드는 포도와 와인에 관련된 것으로, 본 제품과의 관련성이 없습니다.\"\\n}\\n```'}, {'ProductName': '품목명: 비비고 왕교자 (냉동), 1.05kg, 2개', 'CleanDescription': '비비고 왕교자는 냉동 형태의 교자로, 중량은 1.05kg이며 2개 포장되어 있습니다.', 'Best3': '코드: 4805929000\\n설명: 종이 및 판지, 비코팅, 중량 150g/m2 이상 225g/m2 미만, 롤 또는 시트, 품목번호 없음. 4805; 기타\\n코드: 4805939000\\n설명: 종이 및 판지, 비코팅, 중량 225/m2 이상, 롤 또는 시트, 품목번호 없음. 4805; 기타\\n코드: 4805921000\\n설명: 종이 및 판지, 비코팅, 중량 150g/m2 이상 225g/m2 미만, 롤 또는 시트, 품목번호 없음. 4805; 여러 층의 종이와 판지로서 각 층을 표백한 것', 'Answer': '```json\\n{\\n  \"가장_적합한_HS_코드\": \"4805929000\",\\n  \"가장_적합한_HS_항목명\": \"종이 및 판지, 비코팅, 중량 150g/m2 이상 225g/m2 미만, 롤 또는 시트, 품목번호 없음. 4805; 기타\",\\n  \"판단_근거\": \"비비고 왕교자는 냉동 형태의 교자로, 주로 종이 포장재를 사용하여 포장되므로 관련 HS 코드 중 종이 및 판지 카테고리에 해당합니다. 제공된 세 가지 HS 코드 모두 종이 및 판지 관련 항목이지만, 교자와 관련된 포장재의 중량과 비코팅 특성을 고려할 때 4805929000 코드가 가장 적합합니다.\"\\n}\\n```'}, {'ProductName': '품목명: 귤탐 당도선별 11brix 감귤, 2kg(로열과), 1개', 'CleanDescription': '품목명: 귤탐 당도선별 11brix 감귤, 2kg(로열과), 1개  \\n\\n이 품목은 당도가 11brix인 로열과 감귤 2kg을 포함한 제품입니다.', 'Best3': '코드: 2009319000\\n설명: 주스; 단일 감귤류 과일(오렌지, 자몽 또는 포멜로 제외)로, 브릭스 값이 20을 초과하지 않고, 발효되지 않았으며, 설탕이나 기타 감미료가 첨가되어 있지 않은 주정을 포함하지 않은 제품.; 기타\\n코드: 2009399000\\n설명: 주스; 단일 감귤류 과일(오렌지, 자몽 또는 포멜로 제외)로, 브릭스 값이 20을 초과하고, 발효되지 않았으며, 첨가당이나 기타 감미료 포함 여부와 상관없이 주정을 포함하지 않은 제품.; 기타\\n코드: 2009391000\\n설명: 주스; 단일 감귤류 과일(오렌지, 자몽 또는 포멜로 제외)로, 브릭스 값이 20을 초과하고, 발효되지 않았으며, 첨가당이나 기타 감미료 포함 여부와 상관없이 주정을 포함하지 않은 제품.; 레몬주스', 'Answer': '```json\\n{\\n  \"가장_적합한_HS_코드\": \"2009319000\",\\n  \"가장_적합한_HS_항목명\": \"주스; 단일 감귤류 과일(오렌지, 자몽 또는 포멜로 제외)로, 브릭스 값이 20을 초과하지 않고, 발효되지 않았으며, 설탕이나 기타 감미료가 첨가되어 있지 않은 주정을 포함하지 않은 제품.; 기타\",\\n  \"판단_근거\": \"제공된 품목은 \\'귤탐 당도선별 11brix 감귤\\'로, 브릭스 값이 11로 20을 초과하지 않으며, 감미료가 첨가되지 않은 상태로 감귤 주스로 분류될 수 있습니다. 따라서, 브릭스 값이 20을 초과하지 않는 주스에 해당하는 2009319000 코드가 가장 적합합니다.\"\\n}\\n```'}, {'ProductName': '품목명: 담터 호두 아몬드 율무차, 18g, 50개입, 1개', 'CleanDescription': '담터 호두 아몬드 율무차는 호두, 아몬드, 율무를 포함한 차로, 18g씩 50개가 들어 있는 포장 형태입니다.', 'Best3': '코드: 902400000\\n설명: 차, 블랙; (발효) 및 부분 발효 차, 내용물이 3kg을 초과하는 즉시 포장된 경우; 그 밖의 홍차(발효차)와 그 밖의 부분 발효차\\n코드: 902300000\\n설명: 차, 블랙; (발효) 및 부분 발효 차, 3kg을 초과하지 않는 내용물의 즉시 포장; 홍차(발효차)와 부분 발효차(내용물의 무게가 3킬로그램 이하로 내용물에 직접 접하여 포장된 것으로 한정한다)\\n코드: 902100000\\n설명: 차, 녹색; (발효되지 않은) 내용물이 3kg을 초과하지 않는 즉시 포장된 제품; 녹차(발효하지 않은 것으로서 내용물의 무게가 3킬로그램 이하로 내용물에 직접 접하여 포장된 것으로 한정한다)', 'Answer': '```json\\n{\\n  \"가장_적합한_HS_코드\": \"902400000\",\\n  \"가장_적합한_HS_항목명\": \"차, 블랙; (발효) 및 부분 발효 차, 내용물이 3kg을 초과하는 즉시 포장된 경우; 그 밖의 홍차(발효차)와 그 밖의 부분 발효차\",\\n  \"판단_근거\": \"담터 호두 아몬드 율무차는 차의 형태로 판매되는 제품이며, 내용물이 여러 재료(호두, 아몬드, 율무)를 포함하고 있어 블랙차 또는 부분 발효차로 분류될 수 있습니다. 포장 형태가 18g씩 50개로 되어 있어 전체 중량이 3kg을 초과할 것으로 판단되므로, HS 코드 902400000이 가장 적합합니다.\"\\n}\\n```'}]\n"
     ]
    }
   ],
   "source": [
    "# Initialize results storage\n",
    "results_kor = []\n",
    "\n",
    "# Process each row using the graph\n",
    "for doc in input_doc_kor:\n",
    "    # # Extract CommodityDescription from the page_content using regex\n",
    "    # match = re.search(r\"CommodityDescription: (.+)\", doc.page_content)\n",
    "    # activity = match.group(1).strip() if match else None  # Extract the description\n",
    "\n",
    "    activity = doc.page_content # Extract the Product Name\n",
    "\n",
    "    if activity:\n",
    "        # Invoke the graph\n",
    "        result = graph_kor.invoke({\"activity\": activity})\n",
    "        \n",
    "        # Extract context and answer from the state after processing\n",
    "        results_kor.append({\n",
    "            \"ProductName\": activity,\n",
    "            \"CleanDescription\": result.get(\"clean_desc\", \"\"),\n",
    "            \"Best3\": \"\\n\".join(doc.page_content for doc in result.get(\"best3\", \"\")),\n",
    "            \"Answer\": result.get(\"answer\", \"\")\n",
    "        })\n",
    "\n",
    "# Print the results for debugging\n",
    "print(\"Final results:\", results_kor)"
   ]
  },
  {
   "cell_type": "code",
   "execution_count": null,
   "metadata": {},
   "outputs": [
    {
     "name": "stdout",
     "output_type": "stream",
     "text": [
      "Results saved to {file_name}\n"
     ]
    }
   ],
   "source": [
    "# # Save results to a CSV file\n",
    "# import csv\n",
    "# from datetime import datetime\n",
    "\n",
    "# # Get the current date and time\n",
    "# now = datetime.now()\n",
    "# timestamp = now.strftime(\"%Y%m%d_%H%M%S\")  # Format: YYYYMMDD_HHMMSS\n",
    "\n",
<<<<<<< HEAD
    "# # Create a unique file name with date and time!!\n",
    "# file_name_eng = f\"results/sample_coupang_result_eng_{timestamp}.csv\"\n",
=======
    "# Create a unique file name with date and time!!\n",
    "file_name_eng = f\"results/coupang_result_v3_eng_{timestamp}.csv\"\n",
>>>>>>> cbb78fb (coupang exp prep)
    "\n",
    "# with open(file_name_eng, \"w\", newline=\"\") as csvfile:\n",
    "#     fieldnames = [\"ProductName\", \"CleanDescription\", \"Best3\", \"Answer\"]\n",
    "#     writer = csv.DictWriter(csvfile, fieldnames=fieldnames)\n",
    "\n",
    "#     writer.writeheader()\n",
    "#     writer.writerows(results_eng)\n",
    "\n",
    "# print(\"Results saved to {file_name_eng}\")"
   ]
  },
  {
   "cell_type": "code",
<<<<<<< HEAD
   "execution_count": 83,
=======
   "execution_count": null,
>>>>>>> cbb78fb (coupang exp prep)
   "metadata": {},
   "outputs": [
    {
     "name": "stdout",
     "output_type": "stream",
     "text": [
      "Results saved to {file_name_kor} results/sample_coupang_result_kor_20241208_150037_vanilla_prompt.csv\n"
     ]
    }
   ],
   "source": [
    "# Get the current date and time\n",
    "import csv\n",
    "from datetime import datetime\n",
    "now = datetime.now()\n",
    "timestamp = now.strftime(\"%Y%m%d_%H%M%S\")  # Format: YYYYMMDD_HHMMSS\n",
    "\n",
    "# Create a unique file name with date and time!!\n",
<<<<<<< HEAD
    "file_name_kor = f\"results/sample_coupang_result_kor_{timestamp}_vanilla_prompt.csv\"\n",
    "\n",
    "with open(file_name_kor, \"w\", newline=\"\") as csvfile:\n",
    "    fieldnames = [\"ProductName\", \"CleanDescription\", \"Best3\", \"Answer\"]\n",
    "    writer = csv.DictWriter(csvfile, fieldnames=fieldnames)\n",
    "\n",
    "    writer.writeheader()\n",
    "    writer.writerows(results_kor)\n",
    "\n",
    "print(\"Results saved to {file_name_kor}\", file_name_kor)"
   ]
  },
  {
   "cell_type": "code",
   "execution_count": null,
   "metadata": {},
   "outputs": [],
   "source": [
    "input_loader_kor = CSVLoader(r\"../guidance_for_environmental_impact_factor_mapping_on_aws/assets/input/coupang_product_names_groceries_kor.csv\", encoding='utf-8-sig')\n",
    "input_doc_kor = sample_input_loader_kor.load()\n",
    "\n",
    "input_doc_kor[0].page_content"
   ]
  },
  {
   "cell_type": "code",
   "execution_count": null,
   "metadata": {},
   "outputs": [],
   "source": [
    "# Initialize results storage\n",
    "final_results_kor = []\n",
    "\n",
    "# Process each row using the graph\n",
    "for doc in input_doc_kor:\n",
    "    # # Extract CommodityDescription from the page_content using regex\n",
    "    # match = re.search(r\"CommodityDescription: (.+)\", doc.page_content)\n",
    "    # activity = match.group(1).strip() if match else None  # Extract the description\n",
    "\n",
    "    activity = doc.page_content # Extract the Product Name\n",
    "\n",
    "    if activity:\n",
    "        # Invoke the graph\n",
    "        result = graph_kor.invoke({\"activity\": activity})\n",
    "        \n",
    "        # Extract context and answer from the state after processing\n",
    "        final_results_kor.append({\n",
    "            \"ProductName\": activity,\n",
    "            \"CleanDescription\": result.get(\"clean_desc\", \"\"),\n",
    "            \"Best3\": \"\\n\".join(doc.page_content for doc in result.get(\"best3\", \"\")),\n",
    "            \"Answer\": result.get(\"answer\", \"\")\n",
    "        })\n",
    "\n",
    "# Print the results for debugging\n",
    "print(\"Final results:\", final_results_kor)"
   ]
  },
  {
   "cell_type": "code",
   "execution_count": null,
   "metadata": {},
   "outputs": [],
   "source": [
    "# Create a unique file name with date and time!!\n",
    "file_name_kor = f\"results/coupang_result_kor_{timestamp}.csv\"\n",
=======
    "file_name_kor = f\"results/coupang_result_v3_kor_{timestamp}.csv\"\n",
>>>>>>> cbb78fb (coupang exp prep)
    "\n",
    "with open(file_name_kor, \"w\", newline=\"\") as csvfile:\n",
    "    fieldnames = [\"ProductName\", \"CleanDescription\", \"Best3\", \"Answer\"]\n",
    "    writer = csv.DictWriter(csvfile, fieldnames=fieldnames)\n",
    "\n",
    "    writer.writeheader()\n",
    "    writer.writerows(results_kor)\n",
    "\n",
    "print(\"Results saved to {file_name_kor}\")"
   ]
  }
 ],
 "metadata": {
  "kernelspec": {
   "display_name": "kocaml",
   "language": "python",
   "name": "python3"
  },
  "language_info": {
   "codemirror_mode": {
    "name": "ipython",
    "version": 3
   },
   "file_extension": ".py",
   "mimetype": "text/x-python",
   "name": "python",
   "nbconvert_exporter": "python",
   "pygments_lexer": "ipython3",
   "version": "3.11.10"
  }
 },
 "nbformat": 4,
 "nbformat_minor": 2
}
